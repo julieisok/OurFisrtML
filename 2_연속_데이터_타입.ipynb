{
  "nbformat": 4,
  "nbformat_minor": 0,
  "metadata": {
    "kernelspec": {
      "display_name": "Python 3",
      "language": "python",
      "name": "python3"
    },
    "language_info": {
      "codemirror_mode": {
        "name": "ipython",
        "version": 3
      },
      "file_extension": ".py",
      "mimetype": "text/x-python",
      "name": "python",
      "nbconvert_exporter": "python",
      "pygments_lexer": "ipython3",
      "version": "3.7.4"
    },
    "colab": {
      "name": "2.연속 데이터 타입.ipynb",
      "provenance": [],
      "include_colab_link": true
    }
  },
  "cells": [
    {
      "cell_type": "markdown",
      "metadata": {
        "id": "view-in-github",
        "colab_type": "text"
      },
      "source": [
        "<a href=\"https://colab.research.google.com/github/julieisok/OurFisrtML/blob/master/2_%EC%97%B0%EC%86%8D_%EB%8D%B0%EC%9D%B4%ED%84%B0_%ED%83%80%EC%9E%85.ipynb\" target=\"_parent\"><img src=\"https://colab.research.google.com/assets/colab-badge.svg\" alt=\"Open In Colab\"/></a>"
      ]
    },
    {
      "cell_type": "markdown",
      "metadata": {
        "id": "LYbKqcS5eTyn",
        "colab_type": "text"
      },
      "source": [
        "# 연속 데이터 타입\n",
        "\n",
        "## 파이썬\n",
        "- 리스트  : [], 순서(인데스)가 존재한다, 값 중복 ok\n",
        "- 딕셔너리: {}, 순서 X, 키:값의 세트구성, 키는 중복X,값 중복 OK\n",
        "- 튜플    : (), 순서(인데스)가 존재한다, 값 중복 ok, \n",
        "                수정/삭제불가, readonly, 단순히 값을 묶는다                 \n",
        "                함수가 여러개의 값을 리턴할때 주로 사용\n",
        "- 집합    : {}, 중복제거, 중간에 과정으로 많이 사용\n",
        "\n",
        "## numpy\n",
        "- 배열 : ndarray, [], 구성원간의 데이터 타입이 동일, 수학/과학용 연산(계산) 타입\n",
        "\n",
        "## pandas\n",
        " - Series : 1차원 구조의 데이터, 구성원간의 데이터 타입이 동일\n",
        " - DataFrame : 2차원 구조의 데이터, 컬럼안의 구성원들의 데이터 타입은 동일 \n",
        " \n",
        "## ml / dl\n",
        " - tensor : tensorflow, pyTorch에서 자료구조용어, 행렬을 대변, 타입은 동일 (정수 혹은 부동소수) \n"
      ]
    },
    {
      "cell_type": "markdown",
      "metadata": {
        "id": "bAwEsPSxeTyr",
        "colab_type": "text"
      },
      "source": [
        "### 리스트"
      ]
    },
    {
      "cell_type": "code",
      "metadata": {
        "id": "211zBHLqeTyt",
        "colab_type": "code",
        "colab": {},
        "outputId": "125b4d16-0193-43e5-a970-1785ae38ef22"
      },
      "source": [
        "# 데이터가 여러개가 존재할 경우 처리 \n",
        "# 리스트 \n",
        "# []\n",
        "# 순서(인덱스)가 존재한다\n",
        "# 구성원 값 중복 OK. 타입이 달라도 OK. 차원이 달라도 OK.\n",
        "# 목적: 값을 순서대로 모아두고 조작하기 위한 목적. \n",
        "# 생성\n",
        "a = list() # 동적생성 => 멤버들을 나중에 추가할 때 뉘앙스가 더 맞다\n",
        "# 파이썬의 연속 데이터 타입의 구성원의 수 -> len()\n",
        "# numpy 이하는 shape으로 구한다 \n",
        "a, type(a), len(a)"
      ],
      "execution_count": 0,
      "outputs": [
        {
          "output_type": "execute_result",
          "data": {
            "text/plain": [
              "([], list, 0)"
            ]
          },
          "metadata": {
            "tags": []
          },
          "execution_count": 2
        }
      ]
    },
    {
      "cell_type": "code",
      "metadata": {
        "id": "EIZaMTR7eTyz",
        "colab_type": "code",
        "colab": {},
        "outputId": "4a7f4c81-db08-4d98-8424-d3a60fbc2c3d"
      },
      "source": [
        "a = [] # 정적 생성 => 형태를 완성하면서 생성할 때 : 리스트 내포 등 표현 \n",
        "a, type(a), len(a)"
      ],
      "execution_count": 0,
      "outputs": [
        {
          "output_type": "execute_result",
          "data": {
            "text/plain": [
              "([], list, 0)"
            ]
          },
          "metadata": {
            "tags": []
          },
          "execution_count": 3
        }
      ]
    },
    {
      "cell_type": "code",
      "metadata": {
        "id": "MXnn6vN_eTy3",
        "colab_type": "code",
        "colab": {},
        "outputId": "6721a229-a9d3-4fbc-887c-7ec45d9f129c"
      },
      "source": [
        "# 임시 구성\n",
        "numbers = [1,3,5,7,9]\n",
        "numbers, type(numbers), len(numbers)"
      ],
      "execution_count": 0,
      "outputs": [
        {
          "output_type": "execute_result",
          "data": {
            "text/plain": [
              "([1, 3, 5, 7, 9], list, 5)"
            ]
          },
          "metadata": {
            "tags": []
          },
          "execution_count": 4
        }
      ]
    },
    {
      "cell_type": "code",
      "metadata": {
        "id": "G6U0qGCMeTy7",
        "colab_type": "code",
        "colab": {},
        "outputId": "7b700248-e187-4731-8282-7930d1e2615b"
      },
      "source": [
        "# 추가 : append(자식으로 추가), extend(동급으로 추가)\n",
        "numbers.append('11')\n",
        "# 하위 자식으로 추가 : append()\n",
        "# 멤버들의 타입이 달라도 OK \n",
        "numbers"
      ],
      "execution_count": 0,
      "outputs": [
        {
          "output_type": "execute_result",
          "data": {
            "text/plain": [
              "[1, 3, 5, 7, 9, '11', '11']"
            ]
          },
          "metadata": {
            "tags": []
          },
          "execution_count": 6
        }
      ]
    },
    {
      "cell_type": "code",
      "metadata": {
        "id": "RbtZv9q3eTy_",
        "colab_type": "code",
        "colab": {},
        "outputId": "4c95ce55-ed08-48c9-99c4-80bde21cff1c"
      },
      "source": [
        "a = [13,15]\n",
        "# 리스트 더하기 => 이어붙이기 => + 를 사용하면 사본 작업 \n",
        "numbers + a , numbers # 사본출력이라 원본이 변경되진 않음 "
      ],
      "execution_count": 0,
      "outputs": [
        {
          "output_type": "execute_result",
          "data": {
            "text/plain": [
              "([1, 3, 5, 7, 9, '11', '11', 13, 15], [1, 3, 5, 7, 9, '11', '11'])"
            ]
          },
          "metadata": {
            "tags": []
          },
          "execution_count": 9
        }
      ]
    },
    {
      "cell_type": "code",
      "metadata": {
        "id": "ANf_IqTheTzD",
        "colab_type": "code",
        "colab": {}
      },
      "source": [
        "# 리스트 더하기 : 원본 변경\n",
        "numbers.extend(a)"
      ],
      "execution_count": 0,
      "outputs": []
    },
    {
      "cell_type": "code",
      "metadata": {
        "id": "vnipC6LEeTzI",
        "colab_type": "code",
        "colab": {},
        "outputId": "42acdbd0-d05a-4ddf-aaed-3ffbb5569313"
      },
      "source": [
        "numbers "
      ],
      "execution_count": 0,
      "outputs": [
        {
          "output_type": "execute_result",
          "data": {
            "text/plain": [
              "[1, 3, 5, 7, 9, '11', '11', 13, 15]"
            ]
          },
          "metadata": {
            "tags": []
          },
          "execution_count": 11
        }
      ]
    },
    {
      "cell_type": "code",
      "metadata": {
        "id": "B3w9iw6WeTzM",
        "colab_type": "code",
        "colab": {}
      },
      "source": [
        "numbers.append([17,19])"
      ],
      "execution_count": 0,
      "outputs": []
    },
    {
      "cell_type": "code",
      "metadata": {
        "id": "rMZO5wuieTzP",
        "colab_type": "code",
        "colab": {},
        "outputId": "c8eb1deb-806a-4056-d138-c32eb35d9754"
      },
      "source": [
        "numbers"
      ],
      "execution_count": 0,
      "outputs": [
        {
          "output_type": "execute_result",
          "data": {
            "text/plain": [
              "[1, 3, 5, 7, 9, '11', '11', 13, 15, [17, 19]]"
            ]
          },
          "metadata": {
            "tags": []
          },
          "execution_count": 13
        }
      ]
    },
    {
      "cell_type": "code",
      "metadata": {
        "id": "4sksD3ibeTzU",
        "colab_type": "code",
        "colab": {},
        "outputId": "ba8a0aec-0651-425d-e415-12a93636041a"
      },
      "source": [
        "# [17, 19] 삭제 => 리스트에서 구성원 하나를 특정한다 => 추출해라 => 인덱싱\n",
        "numbers[-1]\n",
        "del numbers[-1]\n",
        "numbers"
      ],
      "execution_count": 0,
      "outputs": [
        {
          "output_type": "execute_result",
          "data": {
            "text/plain": [
              "[1, 3, 5, 7, 9, '11', '11', 13]"
            ]
          },
          "metadata": {
            "tags": []
          },
          "execution_count": 15
        }
      ]
    },
    {
      "cell_type": "code",
      "metadata": {
        "id": "Qw_v2KaVeTzY",
        "colab_type": "code",
        "colab": {},
        "outputId": "ac090dd9-1a4f-4a49-b1bd-21c1ae2b7f2b"
      },
      "source": [
        "# 리스트를 자르기 => 시작 인덱스 <= x < 끝인덱스 => 슬라이싱 \n",
        "del numbers[4:4+2]\n",
        "numbers"
      ],
      "execution_count": 0,
      "outputs": [
        {
          "output_type": "execute_result",
          "data": {
            "text/plain": [
              "[1, 3, 5, 7, '11', 13]"
            ]
          },
          "metadata": {
            "tags": []
          },
          "execution_count": 17
        }
      ]
    },
    {
      "cell_type": "code",
      "metadata": {
        "id": "EvtHWJMpeTzb",
        "colab_type": "code",
        "colab": {},
        "outputId": "fe74b9f8-449e-4def-e691-5f08dbab6a63"
      },
      "source": [
        "# 리스트를 비운다\n",
        "numbers.clear()\n",
        "numbers"
      ],
      "execution_count": 0,
      "outputs": [
        {
          "output_type": "execute_result",
          "data": {
            "text/plain": [
              "[]"
            ]
          },
          "metadata": {
            "tags": []
          },
          "execution_count": 18
        }
      ]
    },
    {
      "cell_type": "code",
      "metadata": {
        "id": "stPtJpRyeTzf",
        "colab_type": "code",
        "colab": {},
        "outputId": "84431351-b7ff-4427-ed8f-7ae454e1a0ad"
      },
      "source": [
        "#numbers.append('helloworld')\n",
        "numbers = list('helloworld')\n",
        "numbers"
      ],
      "execution_count": 0,
      "outputs": [
        {
          "output_type": "execute_result",
          "data": {
            "text/plain": [
              "['h', 'e', 'l', 'l', 'o', 'w', 'o', 'r', 'l', 'd']"
            ]
          },
          "metadata": {
            "tags": []
          },
          "execution_count": 20
        }
      ]
    },
    {
      "cell_type": "code",
      "metadata": {
        "id": "BrUuutKjeTzi",
        "colab_type": "code",
        "colab": {},
        "outputId": "4b244364-e483-45c4-d744-389f4de60b6b"
      },
      "source": [
        "\n",
        "numbers[0]"
      ],
      "execution_count": 0,
      "outputs": [
        {
          "output_type": "execute_result",
          "data": {
            "text/plain": [
              "'h'"
            ]
          },
          "metadata": {
            "tags": []
          },
          "execution_count": 21
        }
      ]
    },
    {
      "cell_type": "code",
      "metadata": {
        "id": "0eMRJfoHeTzp",
        "colab_type": "code",
        "colab": {},
        "outputId": "59f14968-222a-41a3-e8f2-3a47a59cac4d"
      },
      "source": [
        "numbers[0] = 1\n",
        "numbers"
      ],
      "execution_count": 0,
      "outputs": [
        {
          "output_type": "execute_result",
          "data": {
            "text/plain": [
              "[1, 'e', 'l', 'l', 'o', 'w', 'o', 'r', 'l', 'd']"
            ]
          },
          "metadata": {
            "tags": []
          },
          "execution_count": 22
        }
      ]
    },
    {
      "cell_type": "code",
      "metadata": {
        "id": "b4-Tzt7-eTzt",
        "colab_type": "code",
        "colab": {},
        "outputId": "12ed7022-6011-4b03-f586-554aacdc3158"
      },
      "source": [
        "# numbers[:2] = 1  \n",
        "# 에러 발생. 연속형 값이 아니라서 슬라이싱 표현에 넣을수 없음\n",
        "# 구간 수정은 iterator 형만 가능. 문자형 OK> \n",
        "numbers[:2] = 'hi'\n",
        "numbers"
      ],
      "execution_count": 0,
      "outputs": [
        {
          "output_type": "execute_result",
          "data": {
            "text/plain": [
              "['h', 'i', 'l', 'l', 'o', 'w', 'o', 'r', 'l', 'd']"
            ]
          },
          "metadata": {
            "tags": []
          },
          "execution_count": 23
        }
      ]
    },
    {
      "cell_type": "markdown",
      "metadata": {
        "id": "uBk7tfiveTzw",
        "colab_type": "text"
      },
      "source": [
        "### 딕셔너리"
      ]
    },
    {
      "cell_type": "code",
      "metadata": {
        "id": "F4twtkD5eTzy",
        "colab_type": "code",
        "colab": {},
        "outputId": "c7440a81-ce31-4042-ce9d-334142c8549c"
      },
      "source": [
        "# 정적인 구성, 생성할때 멤버가 추가되는 바익\n",
        "dic = {}\n",
        "dic, type(dic), len(dic)"
      ],
      "execution_count": 0,
      "outputs": [
        {
          "output_type": "execute_result",
          "data": {
            "text/plain": [
              "({}, dict, 0)"
            ]
          },
          "metadata": {
            "tags": []
          },
          "execution_count": 24
        }
      ]
    },
    {
      "cell_type": "code",
      "metadata": {
        "id": "sf7p7WGKeTz1",
        "colab_type": "code",
        "colab": {},
        "outputId": "83ddadb4-bbf6-411b-f96e-2eb200e75a4c"
      },
      "source": [
        "exchanges = {\n",
        "       'na':'미국', \n",
        "       'code':'USD',\n",
        "       'buy':1165.10,\n",
        "       'sell':1185.48\n",
        "}\n",
        "exchanges, type(exchanges), len(exchanges)"
      ],
      "execution_count": 0,
      "outputs": [
        {
          "output_type": "execute_result",
          "data": {
            "text/plain": [
              "({'na': '미국', 'code': 'USD', 'buy': 1165.1, 'sell': 1185.48}, dict, 4)"
            ]
          },
          "metadata": {
            "tags": []
          },
          "execution_count": 25
        }
      ]
    },
    {
      "cell_type": "code",
      "metadata": {
        "id": "GZni8lAceTz4",
        "colab_type": "code",
        "colab": {},
        "outputId": "19962433-c1b3-4f34-f692-b1766edb703b"
      },
      "source": [
        "# 인덱싱 => 키를 넣어서 값을 취한다\n",
        "exchanges[ 'na' ]"
      ],
      "execution_count": 0,
      "outputs": [
        {
          "output_type": "execute_result",
          "data": {
            "text/plain": [
              "'미국'"
            ]
          },
          "metadata": {
            "tags": []
          },
          "execution_count": 27
        }
      ]
    },
    {
      "cell_type": "code",
      "metadata": {
        "id": "frDvw_ZJeTz7",
        "colab_type": "code",
        "colab": {},
        "outputId": "26c4e3ef-d0df-4a4d-9970-f8bab430f3b2"
      },
      "source": [
        "# 원본 수정\n",
        "exchanges[ 'na' ] = 'America'\n",
        "exchanges"
      ],
      "execution_count": 0,
      "outputs": [
        {
          "output_type": "execute_result",
          "data": {
            "text/plain": [
              "{'na': 'America', 'code': 'USD', 'buy': 1165.1, 'sell': 1185.48}"
            ]
          },
          "metadata": {
            "tags": []
          },
          "execution_count": 28
        }
      ]
    },
    {
      "cell_type": "code",
      "metadata": {
        "id": "Tek47dfJeTz_",
        "colab_type": "code",
        "colab": {},
        "outputId": "d6d2318a-eaf8-457f-c084-cf2f683dddf4"
      },
      "source": [
        "# 추가\n",
        "# 딕셔너리는 순서가 없다. 즉, 인덱스도 없다. exchanges[1] 하면 1이라는 키값으로 값을 추가하거나, 접근하는 것임\n",
        "exchanges[1] = 'USA'\n",
        "exchanges\n",
        "\n",
        "# 키로 올수 없는 타입은 함수 정도 이고, \n",
        "# 대부분의 자료구조는 키 자리로 올수 있다. 1 => 키이다 "
      ],
      "execution_count": 0,
      "outputs": [
        {
          "output_type": "execute_result",
          "data": {
            "text/plain": [
              "{'na': 'America', 'code': 'USD', 'buy': 1165.1, 'sell': 1185.48, 1: 'USA'}"
            ]
          },
          "metadata": {
            "tags": []
          },
          "execution_count": 29
        }
      ]
    },
    {
      "cell_type": "code",
      "metadata": {
        "id": "FHpGDspFeT0D",
        "colab_type": "code",
        "colab": {},
        "outputId": "6456591c-529c-4a51-f9db-7222234b12d7"
      },
      "source": [
        "# 전체삭제\n",
        "exchanges.clear()\n",
        "exchanges"
      ],
      "execution_count": 0,
      "outputs": [
        {
          "output_type": "execute_result",
          "data": {
            "text/plain": [
              "{}"
            ]
          },
          "metadata": {
            "tags": []
          },
          "execution_count": 31
        }
      ]
    },
    {
      "cell_type": "code",
      "metadata": {
        "id": "WXcBdHPFeT0G",
        "colab_type": "code",
        "colab": {},
        "outputId": "9e44b519-b5c2-42e1-ec4e-64e5beb03f05"
      },
      "source": [
        "exchanges = {\n",
        "      'na' : '미국', \n",
        "      'code' : 'USD', \n",
        "      'buy' : 1165.10, \n",
        "      'sell' : 1185.48\n",
        "}\n",
        "exchanges"
      ],
      "execution_count": 0,
      "outputs": [
        {
          "output_type": "execute_result",
          "data": {
            "text/plain": [
              "{'na': '미국', 'code': 'USD', 'buy': 1165.1, 'sell': 1185.48}"
            ]
          },
          "metadata": {
            "tags": []
          },
          "execution_count": 32
        }
      ]
    },
    {
      "cell_type": "code",
      "metadata": {
        "id": "HCg4rxFFeT0I",
        "colab_type": "code",
        "colab": {},
        "outputId": "aa43b836-8011-434b-eaea-a9aacd4e60c9"
      },
      "source": [
        "# keys()에서 정렬\n",
        "exchanges.keys(), exchanges.values()"
      ],
      "execution_count": 0,
      "outputs": [
        {
          "output_type": "execute_result",
          "data": {
            "text/plain": [
              "(dict_keys(['na', 'code', 'buy', 'sell']),\n",
              " dict_values(['미국', 'USD', 1165.1, 1185.48]))"
            ]
          },
          "metadata": {
            "tags": []
          },
          "execution_count": 33
        }
      ]
    },
    {
      "cell_type": "code",
      "metadata": {
        "id": "M5d92sUTeT0L",
        "colab_type": "code",
        "colab": {},
        "outputId": "646e3657-6037-4e51-d6a5-5735f1db611a"
      },
      "source": [
        "# (키, 값) 그룹으로 묶어서 리스트로 리턴\n",
        "exchanges.items()"
      ],
      "execution_count": 0,
      "outputs": [
        {
          "output_type": "execute_result",
          "data": {
            "text/plain": [
              "dict_items([('na', '미국'), ('code', 'USD'), ('buy', 1165.1), ('sell', 1185.48)])"
            ]
          },
          "metadata": {
            "tags": []
          },
          "execution_count": 34
        }
      ]
    },
    {
      "cell_type": "code",
      "metadata": {
        "id": "veLi8ECkeT0P",
        "colab_type": "code",
        "colab": {},
        "outputId": "83b3150b-5f35-42db-d203-549f68b79a27"
      },
      "source": [
        "# 임의라도 인덱스를 부여하고 싶다 \n",
        "# enumerater() => 인덱스, 값\n",
        "# 값이 ( , ) => 변수1, 변수2 받는다 (튜플 or 리스트 분해)\n",
        "\n",
        "for i, (k,v) in enumerate(exchanges.items()) :\n",
        "     print(i,k, v)"
      ],
      "execution_count": 0,
      "outputs": [
        {
          "output_type": "stream",
          "text": [
            "0 na 미국\n",
            "1 code USD\n",
            "2 buy 1165.1\n",
            "3 sell 1185.48\n"
          ],
          "name": "stdout"
        }
      ]
    },
    {
      "cell_type": "code",
      "metadata": {
        "id": "BK7Wx5k6eT0S",
        "colab_type": "code",
        "colab": {},
        "outputId": "42a33cb1-3357-4e02-d8a9-cb794d49258d"
      },
      "source": [
        "for i, key in enumerate(exchanges.items()):\n",
        "    print(i, type(key), key[0], key[1])"
      ],
      "execution_count": 0,
      "outputs": [
        {
          "output_type": "stream",
          "text": [
            "0 <class 'tuple'> na 미국\n",
            "1 <class 'tuple'> code USD\n",
            "2 <class 'tuple'> buy 1165.1\n",
            "3 <class 'tuple'> sell 1185.48\n"
          ],
          "name": "stdout"
        }
      ]
    },
    {
      "cell_type": "code",
      "metadata": {
        "id": "m-FKoriOeT0V",
        "colab_type": "code",
        "colab": {},
        "outputId": "110e2a16-e2f9-4bff-a6f1-a18e13742be3"
      },
      "source": [
        "exchanges.get('na'), exchanges['na']"
      ],
      "execution_count": 0,
      "outputs": [
        {
          "output_type": "execute_result",
          "data": {
            "text/plain": [
              "('미국', '미국')"
            ]
          },
          "metadata": {
            "tags": []
          },
          "execution_count": 42
        }
      ]
    },
    {
      "cell_type": "code",
      "metadata": {
        "id": "idHkv91UeT0Y",
        "colab_type": "code",
        "colab": {},
        "outputId": "fa14c3cd-f64a-4dec-d915-6a9838e718da"
      },
      "source": [
        "print(exchanges.get('na1'))\n",
        "# 키값이 동적으로 세팅된다면 get이 더 안정적이다 \n",
        "print(exchanges['na1'])   # 딕셔너리 부를때 없는 값을 인덱스를 이용해서 부르려면 오류남. 위 방식처럼 함수로 불러야함. "
      ],
      "execution_count": 0,
      "outputs": [
        {
          "output_type": "stream",
          "text": [
            "None\n"
          ],
          "name": "stdout"
        },
        {
          "output_type": "error",
          "ename": "KeyError",
          "evalue": "'na1'",
          "traceback": [
            "\u001b[1;31m---------------------------------------------------------------------------\u001b[0m",
            "\u001b[1;31mKeyError\u001b[0m                                  Traceback (most recent call last)",
            "\u001b[1;32m<ipython-input-44-9f147b340dc7>\u001b[0m in \u001b[0;36m<module>\u001b[1;34m\u001b[0m\n\u001b[0;32m      1\u001b[0m \u001b[0mprint\u001b[0m\u001b[1;33m(\u001b[0m\u001b[0mexchanges\u001b[0m\u001b[1;33m.\u001b[0m\u001b[0mget\u001b[0m\u001b[1;33m(\u001b[0m\u001b[1;34m'na1'\u001b[0m\u001b[1;33m)\u001b[0m\u001b[1;33m)\u001b[0m\u001b[1;33m\u001b[0m\u001b[1;33m\u001b[0m\u001b[0m\n\u001b[1;32m----> 2\u001b[1;33m \u001b[0mprint\u001b[0m\u001b[1;33m(\u001b[0m\u001b[0mexchanges\u001b[0m\u001b[1;33m[\u001b[0m\u001b[1;34m'na1'\u001b[0m\u001b[1;33m]\u001b[0m\u001b[1;33m)\u001b[0m\u001b[1;33m\u001b[0m\u001b[1;33m\u001b[0m\u001b[0m\n\u001b[0m",
            "\u001b[1;31mKeyError\u001b[0m: 'na1'"
          ]
        }
      ]
    },
    {
      "cell_type": "code",
      "metadata": {
        "id": "NwY7sWRZeT0b",
        "colab_type": "code",
        "colab": {},
        "outputId": "307bf7c3-ceb2-4077-b3ca-3e4006a78892"
      },
      "source": [
        "# 아니면 방어코드 \n",
        "# 딕셔너리 키값 체크하는 ㅏㅇ식 \n",
        "'na1' in exchanges, 'na' in exchanges # 딕셔너리 안에 저 na1이라는 키가 있니? "
      ],
      "execution_count": 0,
      "outputs": [
        {
          "output_type": "execute_result",
          "data": {
            "text/plain": [
              "(False, True)"
            ]
          },
          "metadata": {
            "tags": []
          },
          "execution_count": 48
        }
      ]
    },
    {
      "cell_type": "code",
      "metadata": {
        "id": "ybl9YbvJeT0e",
        "colab_type": "code",
        "colab": {}
      },
      "source": [
        "if 'na1' in exchanges : \n",
        "    print(exchanges['na1'])"
      ],
      "execution_count": 0,
      "outputs": []
    },
    {
      "cell_type": "code",
      "metadata": {
        "id": "s8wDkPnLeT0h",
        "colab_type": "code",
        "colab": {},
        "outputId": "96dc44c8-776b-46c8-a3ec-4a7da2778049"
      },
      "source": [
        "# 기본값 주면서 추가하기\n",
        "exchanges.setdefault('aa', '10')\n",
        "exchanges"
      ],
      "execution_count": 0,
      "outputs": [
        {
          "output_type": "execute_result",
          "data": {
            "text/plain": [
              "{'na': '미국', 'code': 'USD', 'buy': 1165.1, 'sell': 1185.48, 'aa': '10'}"
            ]
          },
          "metadata": {
            "tags": []
          },
          "execution_count": 49
        }
      ]
    },
    {
      "cell_type": "markdown",
      "metadata": {
        "id": "LHmsqPbieT0m",
        "colab_type": "text"
      },
      "source": [
        "### 튜플\n",
        "\n",
        "- ()\n",
        "- 순서(인데스)가 존재한다, 값 중복 ok,\n",
        "- 추가, 수정, 삭제불가, Read-Only, **단순히 값을 묶는다**                 \n",
        "- 함수가 여러개의 값을 리턴할때 주로 사용"
      ]
    },
    {
      "cell_type": "code",
      "metadata": {
        "id": "zRHc8-SseT0n",
        "colab_type": "code",
        "colab": {},
        "outputId": "7741dfc2-25eb-4cd3-acb3-95bb425afc7f"
      },
      "source": [
        "# 정적 생성\n",
        "tu = () \n",
        "tu, type(tu), len(tu)"
      ],
      "execution_count": 0,
      "outputs": [
        {
          "output_type": "execute_result",
          "data": {
            "text/plain": [
              "((), tuple, 0)"
            ]
          },
          "metadata": {
            "tags": []
          },
          "execution_count": 50
        }
      ]
    },
    {
      "cell_type": "code",
      "metadata": {
        "id": "aJsIt4zaeT0q",
        "colab_type": "code",
        "colab": {},
        "outputId": "e0a4f9c3-ee50-4b84-a0fb-8e3d494cdb89"
      },
      "source": [
        "# 동적 생성\n",
        "tu = tuple() \n",
        "tu, type(tu), len(tu)"
      ],
      "execution_count": 0,
      "outputs": [
        {
          "output_type": "execute_result",
          "data": {
            "text/plain": [
              "((), tuple, 0)"
            ]
          },
          "metadata": {
            "tags": []
          },
          "execution_count": 51
        }
      ]
    },
    {
      "cell_type": "code",
      "metadata": {
        "id": "3xXTsCE-eT0w",
        "colab_type": "code",
        "colab": {},
        "outputId": "3262fa41-b530-43f1-9db8-8d5104ef8c92"
      },
      "source": [
        "# 구성원이 1개라면 \n",
        "tu = (1)\n",
        "type(tu)"
      ],
      "execution_count": 0,
      "outputs": [
        {
          "output_type": "execute_result",
          "data": {
            "text/plain": [
              "int"
            ]
          },
          "metadata": {
            "tags": []
          },
          "execution_count": 52
        }
      ]
    },
    {
      "cell_type": "code",
      "metadata": {
        "id": "0c9e-XF9eT0z",
        "colab_type": "code",
        "colab": {},
        "outputId": "754dfcd7-8adf-4099-c6d7-f9e296c63832"
      },
      "source": [
        "# 반드시 콤마 한개를 추가해야만 튜플로 인식한다\n",
        "tu = (1, )\n",
        "type(tu)"
      ],
      "execution_count": 0,
      "outputs": [
        {
          "output_type": "execute_result",
          "data": {
            "text/plain": [
              "tuple"
            ]
          },
          "metadata": {
            "tags": []
          },
          "execution_count": 53
        }
      ]
    },
    {
      "cell_type": "code",
      "metadata": {
        "id": "gSOcZVZmeT03",
        "colab_type": "code",
        "colab": {},
        "outputId": "1676cc16-507e-4e5c-e810-b21f3b74cea2"
      },
      "source": [
        "tu = (1, 2, 3)\n",
        "tu, type(tu), len(tu)"
      ],
      "execution_count": 0,
      "outputs": [
        {
          "output_type": "execute_result",
          "data": {
            "text/plain": [
              "((1, 2, 3), tuple, 3)"
            ]
          },
          "metadata": {
            "tags": []
          },
          "execution_count": 56
        }
      ]
    },
    {
      "cell_type": "code",
      "metadata": {
        "id": "heX3yDozeT06",
        "colab_type": "code",
        "colab": {},
        "outputId": "596faaf7-2d8e-450f-fecd-8c2171adea09"
      },
      "source": [
        "# 튜플의 구성원을 분해해서 변수에 차례대로 설정한다 => 구조 분해(자바스크립트적 표현)\n",
        "# 리스트도 동일하다 \n",
        "a, b, c = tu \n",
        "b"
      ],
      "execution_count": 0,
      "outputs": [
        {
          "output_type": "execute_result",
          "data": {
            "text/plain": [
              "2"
            ]
          },
          "metadata": {
            "tags": []
          },
          "execution_count": 60
        }
      ]
    },
    {
      "cell_type": "code",
      "metadata": {
        "id": "NTsB9_1_eT09",
        "colab_type": "code",
        "colab": {},
        "outputId": "737eb8b3-7912-4416-e4a9-5951138e90c8"
      },
      "source": [
        "# 개수가 반드시 맞아야 한다\n",
        "a, b = tu"
      ],
      "execution_count": 0,
      "outputs": [
        {
          "output_type": "error",
          "ename": "ValueError",
          "evalue": "too many values to unpack (expected 2)",
          "traceback": [
            "\u001b[1;31m---------------------------------------------------------------------------\u001b[0m",
            "\u001b[1;31mValueError\u001b[0m                                Traceback (most recent call last)",
            "\u001b[1;32m<ipython-input-61-9fee36d29e0c>\u001b[0m in \u001b[0;36m<module>\u001b[1;34m\u001b[0m\n\u001b[0;32m      1\u001b[0m \u001b[1;31m# 개수가 반드시 맞아야 한다\u001b[0m\u001b[1;33m\u001b[0m\u001b[1;33m\u001b[0m\u001b[1;33m\u001b[0m\u001b[0m\n\u001b[1;32m----> 2\u001b[1;33m \u001b[0ma\u001b[0m\u001b[1;33m,\u001b[0m \u001b[0mb\u001b[0m \u001b[1;33m=\u001b[0m \u001b[0mtu\u001b[0m\u001b[1;33m\u001b[0m\u001b[1;33m\u001b[0m\u001b[0m\n\u001b[0m",
            "\u001b[1;31mValueError\u001b[0m: too many values to unpack (expected 2)"
          ]
        }
      ]
    },
    {
      "cell_type": "code",
      "metadata": {
        "id": "jfm3omapeT1A",
        "colab_type": "code",
        "colab": {},
        "outputId": "0797a793-4d88-458e-da31-d853b2eec761"
      },
      "source": [
        "# 개수대로 받는데, 딱히 쓰지는 않을때 변수명은 => _ (언더바)\n",
        "a, b, _ = tu\n",
        "_"
      ],
      "execution_count": 0,
      "outputs": [
        {
          "output_type": "execute_result",
          "data": {
            "text/plain": [
              "3"
            ]
          },
          "metadata": {
            "tags": []
          },
          "execution_count": 63
        }
      ]
    },
    {
      "cell_type": "code",
      "metadata": {
        "id": "A991rfpteT1D",
        "colab_type": "code",
        "colab": {},
        "outputId": "306380a8-dd57-44f0-f261-ad5c708af93c"
      },
      "source": [
        "# 인덱싱, 슬라이싱 모두 가능\n",
        "tu[0], tu[1:-1]"
      ],
      "execution_count": 0,
      "outputs": [
        {
          "output_type": "execute_result",
          "data": {
            "text/plain": [
              "(1, (2,))"
            ]
          },
          "metadata": {
            "tags": []
          },
          "execution_count": 65
        }
      ]
    },
    {
      "cell_type": "code",
      "metadata": {
        "id": "DrxLPjvleT1H",
        "colab_type": "code",
        "colab": {},
        "outputId": "d0d0a7b7-0511-409b-eaa5-cdb8cddce8c3"
      },
      "source": [
        "# 필요한 만큼만 받는다\n",
        "a,b = tu[:-1]\n",
        "a, b"
      ],
      "execution_count": 0,
      "outputs": [
        {
          "output_type": "execute_result",
          "data": {
            "text/plain": [
              "(1, 2)"
            ]
          },
          "metadata": {
            "tags": []
          },
          "execution_count": 70
        }
      ]
    },
    {
      "cell_type": "code",
      "metadata": {
        "id": "JcUC0FULeT1K",
        "colab_type": "code",
        "colab": {}
      },
      "source": [
        "# 함수의 리턴값으로 가장 많이 사용\n",
        "def a():\n",
        "    return 1, 2, 3"
      ],
      "execution_count": 0,
      "outputs": []
    },
    {
      "cell_type": "code",
      "metadata": {
        "id": "uBJ9N2_weT1N",
        "colab_type": "code",
        "colab": {},
        "outputId": "cf1e8024-3809-4a56-89ec-32c08fc03187"
      },
      "source": [
        "a()"
      ],
      "execution_count": 0,
      "outputs": [
        {
          "output_type": "execute_result",
          "data": {
            "text/plain": [
              "(1, 2, 3)"
            ]
          },
          "metadata": {
            "tags": []
          },
          "execution_count": 74
        }
      ]
    },
    {
      "cell_type": "markdown",
      "metadata": {
        "id": "HLLBKWN5eT1R",
        "colab_type": "text"
      },
      "source": [
        "### 집합\n",
        "\n",
        "- 집합\n",
        "- {} : 키가 없다, 값만 있다, 순서 없다\n",
        "- 중복제거, 중간에 과정으로 많이 사용\n"
      ]
    },
    {
      "cell_type": "code",
      "metadata": {
        "id": "KSwXxCaUeT1S",
        "colab_type": "code",
        "colab": {},
        "outputId": "6df515d5-6714-49c4-be8f-437ba1462c17"
      },
      "source": [
        "a = list('helloworld')\n",
        "a"
      ],
      "execution_count": 0,
      "outputs": [
        {
          "output_type": "execute_result",
          "data": {
            "text/plain": [
              "['h', 'e', 'l', 'l', 'o', 'w', 'o', 'r', 'l', 'd']"
            ]
          },
          "metadata": {
            "tags": []
          },
          "execution_count": 75
        }
      ]
    },
    {
      "cell_type": "code",
      "metadata": {
        "id": "AMWKWsP-eT1X",
        "colab_type": "code",
        "colab": {},
        "outputId": "51a45609-322a-4834-d927-e86e4279de29"
      },
      "source": [
        "# 중복제거후 리스트화 -> 개수가 줄어들었다\n",
        "a = list( set('helloworld') )\n",
        "a, len(a)"
      ],
      "execution_count": 0,
      "outputs": [
        {
          "output_type": "execute_result",
          "data": {
            "text/plain": [
              "(['r', 'w', 'd', 'o', 'h', 'e', 'l'], 7)"
            ]
          },
          "metadata": {
            "tags": []
          },
          "execution_count": 76
        }
      ]
    },
    {
      "cell_type": "code",
      "metadata": {
        "id": "_tNzvh4XeT1Z",
        "colab_type": "code",
        "colab": {},
        "outputId": "8c77e5f9-ace7-4346-e254-42183ea362a8"
      },
      "source": [
        "a.sort()\n",
        "a"
      ],
      "execution_count": 0,
      "outputs": [
        {
          "output_type": "execute_result",
          "data": {
            "text/plain": [
              "['d', 'e', 'h', 'l', 'o', 'r', 'w']"
            ]
          },
          "metadata": {
            "tags": []
          },
          "execution_count": 79
        }
      ]
    },
    {
      "cell_type": "code",
      "metadata": {
        "id": "IX430S5SeT1c",
        "colab_type": "code",
        "colab": {},
        "outputId": "33f9f6e9-c195-4e33-ebdf-84bbe52b7f0f"
      },
      "source": [
        "# 합집합, 교집합, 차집합\n",
        "a = set( [4,7,4,5,2,10,2,5,5,6,8,9,8,0,3,2])\n",
        "b = set( [10,80,2,3,4,6,9,5,3,97,34])\n",
        "a, b"
      ],
      "execution_count": 0,
      "outputs": [
        {
          "output_type": "execute_result",
          "data": {
            "text/plain": [
              "({0, 2, 3, 4, 5, 6, 7, 8, 9, 10}, {2, 3, 4, 5, 6, 9, 10, 34, 80, 97})"
            ]
          },
          "metadata": {
            "tags": []
          },
          "execution_count": 80
        }
      ]
    },
    {
      "cell_type": "code",
      "metadata": {
        "id": "Bgqp9ntseT1e",
        "colab_type": "code",
        "colab": {},
        "outputId": "02ce88c4-db46-47bf-aa76-71369d5391c0"
      },
      "source": [
        "# 합집합\n",
        "a.union(b)"
      ],
      "execution_count": 0,
      "outputs": [
        {
          "output_type": "execute_result",
          "data": {
            "text/plain": [
              "{0, 2, 3, 4, 5, 6, 7, 8, 9, 10, 34, 80, 97}"
            ]
          },
          "metadata": {
            "tags": []
          },
          "execution_count": 81
        }
      ]
    },
    {
      "cell_type": "code",
      "metadata": {
        "id": "0GYR0TvleT1h",
        "colab_type": "code",
        "colab": {},
        "outputId": "eb8953db-4c3f-4975-bc6a-11114e12da38"
      },
      "source": [
        "#교집합\n",
        "a.intersection(b)"
      ],
      "execution_count": 0,
      "outputs": [
        {
          "output_type": "execute_result",
          "data": {
            "text/plain": [
              "{2, 3, 4, 5, 6, 9, 10}"
            ]
          },
          "metadata": {
            "tags": []
          },
          "execution_count": 82
        }
      ]
    },
    {
      "cell_type": "code",
      "metadata": {
        "id": "BBd7rM9TeT1k",
        "colab_type": "code",
        "colab": {},
        "outputId": "4623b122-ab25-4b26-e138-f355fb566b68"
      },
      "source": [
        "#차집합 a-b or b-a 빼는 방향에 따라 다르다\n",
        "a.difference(b), b.difference(a)"
      ],
      "execution_count": 0,
      "outputs": [
        {
          "output_type": "execute_result",
          "data": {
            "text/plain": [
              "({0, 7, 8}, {34, 80, 97})"
            ]
          },
          "metadata": {
            "tags": []
          },
          "execution_count": 83
        }
      ]
    },
    {
      "cell_type": "code",
      "metadata": {
        "id": "MswRRKQEeT1n",
        "colab_type": "code",
        "colab": {}
      },
      "source": [
        ""
      ],
      "execution_count": 0,
      "outputs": []
    },
    {
      "cell_type": "code",
      "metadata": {
        "id": "3rMjjsDweT1p",
        "colab_type": "code",
        "colab": {}
      },
      "source": [
        ""
      ],
      "execution_count": 0,
      "outputs": []
    },
    {
      "cell_type": "code",
      "metadata": {
        "id": "Z0mSZIl1eT1r",
        "colab_type": "code",
        "colab": {}
      },
      "source": [
        ""
      ],
      "execution_count": 0,
      "outputs": []
    },
    {
      "cell_type": "code",
      "metadata": {
        "id": "iTnsOpXleT1t",
        "colab_type": "code",
        "colab": {}
      },
      "source": [
        ""
      ],
      "execution_count": 0,
      "outputs": []
    },
    {
      "cell_type": "code",
      "metadata": {
        "id": "0BA4FkxTeT1v",
        "colab_type": "code",
        "colab": {}
      },
      "source": [
        ""
      ],
      "execution_count": 0,
      "outputs": []
    }
  ]
}