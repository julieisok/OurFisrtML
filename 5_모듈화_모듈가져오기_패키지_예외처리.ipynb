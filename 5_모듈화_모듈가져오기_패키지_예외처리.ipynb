{
  "nbformat": 4,
  "nbformat_minor": 0,
  "metadata": {
    "kernelspec": {
      "display_name": "Python 3",
      "language": "python",
      "name": "python3"
    },
    "language_info": {
      "codemirror_mode": {
        "name": "ipython",
        "version": 3
      },
      "file_extension": ".py",
      "mimetype": "text/x-python",
      "name": "python",
      "nbconvert_exporter": "python",
      "pygments_lexer": "ipython3",
      "version": "3.7.4"
    },
    "colab": {
      "name": "5.모듈화_모듈가져오기_패키지_예외처리.ipynb",
      "provenance": [],
      "include_colab_link": true
    }
  },
  "cells": [
    {
      "cell_type": "markdown",
      "metadata": {
        "id": "view-in-github",
        "colab_type": "text"
      },
      "source": [
        "<a href=\"https://colab.research.google.com/github/julieisok/OurFisrtML/blob/master/5_%EB%AA%A8%EB%93%88%ED%99%94_%EB%AA%A8%EB%93%88%EA%B0%80%EC%A0%B8%EC%98%A4%EA%B8%B0_%ED%8C%A8%ED%82%A4%EC%A7%80_%EC%98%88%EC%99%B8%EC%B2%98%EB%A6%AC.ipynb\" target=\"_parent\"><img src=\"https://colab.research.google.com/assets/colab-badge.svg\" alt=\"Open In Colab\"/></a>"
      ]
    },
    {
      "cell_type": "markdown",
      "metadata": {
        "id": "dlR-Qi9weuJC",
        "colab_type": "text"
      },
      "source": [
        "# 파이썬 구성형태\n",
        "\n",
        "- 오직 2개만으로 구성된다\n",
        "    - 모듈 : *.py\n",
        "    - 패키지 : 모듈을 모아둔 폴더 \n",
        "- 구조 \n",
        "    L 루트 (현재디렉토리)\n",
        "        L MyMath                             : 패키지 \n",
        "            L __init__.py                 \n",
        "            L math\n",
        "                L __init__.py\n",
        "                L mod.py\n",
        "\n",
        "- __init__.py : 모듈, 이름이 __init__.py 해당 감싸고 있는 패키지를 가리킨다 python 3.3 이하 버전과의 호환성을 위해서 둔다 \n",
        "  "
      ]
    },
    {
      "cell_type": "markdown",
      "metadata": {
        "id": "_TZj1J_jeuJG",
        "colab_type": "text"
      },
      "source": [
        "# 모듈가져오기\n",
        "\n",
        "- 모듈(*.py)에 기술된 내용을 내가 끌어다가 사용할 수 있다. \n",
        "- 모듈을 가져오는 경로는 최초 수행되는 코드위치로부터 따진다\n",
        "    - **entry point를 기준으로 모든 경로는 따진다**\n",
        "- 종류 \n",
        "    - from 패키지명.패키지명....모듈명 import 변수, 함수, 클래스...\n",
        "    - from 패키지명.패키지명....모듈명 import *\n",
        "    - from 패키지명.패키지명....모듈명 import 변수 as 별칭\n",
        "    \n",
        "    - from 패키지명.패키지명....패키지명 import 위의 표현하고 상동\n",
        "    \n",
        "    - from 모듈명 import 상동\n",
        "    - from로 시작하면 그냥 이름으로 사용, import로 시작하면 xx.이름\n",
        "    \n",
        "    - import 패키지명.패키지명... 모듈명 as 별칭\n",
        "    - import 패키지명.패키지명... 패키지명 as 별칭\n",
        "    - import 모듈명 \n",
        "   "
      ]
    },
    {
      "cell_type": "code",
      "metadata": {
        "id": "51M2jDyJeuJH",
        "colab_type": "code",
        "colab": {}
      },
      "source": [
        "# 모듈 가져오기\n",
        "from MyMath.math.mod import PI, add, A"
      ],
      "execution_count": 0,
      "outputs": []
    },
    {
      "cell_type": "code",
      "metadata": {
        "id": "-ynOdnuxeuJM",
        "colab_type": "code",
        "colab": {},
        "outputId": "0de3628f-429c-4295-b052-5d453fca8afe"
      },
      "source": [
        "# 마치 내가 정의한 것들인 것처럼 사용한다\n",
        "# 변수, 함수, 클래스 객체 생성\n",
        "PI, add(1,2), A()"
      ],
      "execution_count": 0,
      "outputs": [
        {
          "output_type": "stream",
          "text": [
            "A 객체생성\n"
          ],
          "name": "stdout"
        },
        {
          "output_type": "execute_result",
          "data": {
            "text/plain": [
              "(3.14, 3, <MyMath.math.mod.A at 0x7d0aa08>)"
            ]
          },
          "metadata": {
            "tags": []
          },
          "execution_count": 2
        }
      ]
    },
    {
      "cell_type": "code",
      "metadata": {
        "id": "QP-rKR_GeuJS",
        "colab_type": "code",
        "colab": {}
      },
      "source": [
        "# 해당 모듈 밑의 모든 요소를 가져온다 \n",
        "from MyMath.math.mod import *"
      ],
      "execution_count": 0,
      "outputs": []
    },
    {
      "cell_type": "code",
      "metadata": {
        "id": "jbnvVaFbeuJV",
        "colab_type": "code",
        "colab": {}
      },
      "source": [
        "\n",
        "from MyMath.math.mod import PI as pi "
      ],
      "execution_count": 0,
      "outputs": []
    },
    {
      "cell_type": "code",
      "metadata": {
        "id": "fiLF1bKzeuJZ",
        "colab_type": "code",
        "colab": {},
        "outputId": "c36c9797-7585-4820-fa8e-ee2359ce1042"
      },
      "source": [
        "pi"
      ],
      "execution_count": 0,
      "outputs": [
        {
          "output_type": "execute_result",
          "data": {
            "text/plain": [
              "3.14"
            ]
          },
          "metadata": {
            "tags": []
          },
          "execution_count": 9
        }
      ]
    },
    {
      "cell_type": "code",
      "metadata": {
        "id": "Lo6zGRTIeuJd",
        "colab_type": "code",
        "colab": {},
        "outputId": "dc11e08f-a8b5-4348-eb0b-4a7335718344"
      },
      "source": [
        "# 최초 수행 코드가 2칸위에 코드였다면 에러난다 최상위부터 사용한 것이라면 오류가 없음.\n",
        "# 별칭을 부여하면 해당이름은 모효화 되고, 별칭으로만 사용 가능 \n",
        "PI"
      ],
      "execution_count": 0,
      "outputs": [
        {
          "output_type": "execute_result",
          "data": {
            "text/plain": [
              "3.14"
            ]
          },
          "metadata": {
            "tags": []
          },
          "execution_count": 10
        }
      ]
    },
    {
      "cell_type": "code",
      "metadata": {
        "id": "jJOkPe0oeuJi",
        "colab_type": "code",
        "colab": {}
      },
      "source": [
        "from MyMath.math import PI2"
      ],
      "execution_count": 0,
      "outputs": []
    },
    {
      "cell_type": "code",
      "metadata": {
        "id": "O90K3pELeuJl",
        "colab_type": "code",
        "colab": {},
        "outputId": "fe0af83c-5569-4d21-d075-cf921e43726a"
      },
      "source": [
        "from MyMath import PI3\n",
        "\n",
        "PI3"
      ],
      "execution_count": 0,
      "outputs": [
        {
          "output_type": "execute_result",
          "data": {
            "text/plain": [
              "3.16"
            ]
          },
          "metadata": {
            "tags": []
          },
          "execution_count": 12
        }
      ]
    },
    {
      "cell_type": "code",
      "metadata": {
        "id": "ZWtOWClteuJp",
        "colab_type": "code",
        "colab": {}
      },
      "source": [
        "# import만"
      ],
      "execution_count": 0,
      "outputs": []
    },
    {
      "cell_type": "code",
      "metadata": {
        "id": "0tkJL6CpeuJw",
        "colab_type": "code",
        "colab": {}
      },
      "source": [
        "import MyMath.math.mod as m"
      ],
      "execution_count": 0,
      "outputs": []
    },
    {
      "cell_type": "code",
      "metadata": {
        "id": "pHqhCEbPeuJz",
        "colab_type": "code",
        "colab": {},
        "outputId": "d17e888e-bdf2-491d-e350-070a16579aae"
      },
      "source": [
        "m.PI"
      ],
      "execution_count": 0,
      "outputs": [
        {
          "output_type": "execute_result",
          "data": {
            "text/plain": [
              "3.14"
            ]
          },
          "metadata": {
            "tags": []
          },
          "execution_count": 16
        }
      ]
    },
    {
      "cell_type": "markdown",
      "metadata": {
        "id": "V_748jdLeuJ2",
        "colab_type": "text"
      },
      "source": [
        "# 예외처리\n",
        "\n",
        "- 프로그램은 죽으면 안되므로 예외 상황이 예상되는 부분에 처리 "
      ]
    },
    {
      "cell_type": "code",
      "metadata": {
        "id": "HbaKrNH6euJ3",
        "colab_type": "code",
        "colab": {},
        "outputId": "a5fa186c-c0a7-43a9-c386-b1ae7a974ed2"
      },
      "source": [
        "print(0)\n",
        "\n",
        "try: # 예외 상황이 의심. 예상되는 코드를 기술\n",
        "    print(1)\n",
        "    1/0 # 예외상황\n",
        "    print(2)\n",
        "except Exception as e: # 예외 상황이 발생되면 잡아서 처리 \n",
        "    print(3,e)\n",
        "else : # 정상적으로 수행이 끝나면처리된다 \n",
        "    print(4)    \n",
        "finally: # 무조건 처리된다 \n",
        "    print(5)\n",
        "print(6)"
      ],
      "execution_count": 0,
      "outputs": [
        {
          "output_type": "stream",
          "text": [
            "0\n",
            "1\n",
            "3 division by zero\n",
            "5\n",
            "6\n"
          ],
          "name": "stdout"
        }
      ]
    },
    {
      "cell_type": "code",
      "metadata": {
        "id": "3Nj1Z8SieuJ6",
        "colab_type": "code",
        "colab": {},
        "outputId": "41e8669c-7927-489a-e410-aed818958f7c"
      },
      "source": [
        "print(0)\n",
        "\n",
        "try: # 예외 상황이 의심. 예상되는 코드를 기술\n",
        "    print(1)\n",
        "    #1/0 # 예외상황\n",
        "    print(2)\n",
        "except Exception as e: # 예외 상황이 발생되면 잡아서 처리 \n",
        "    print(3,e)\n",
        "else : # 정상적으로 수행이 끝나면처리된다 \n",
        "    print(4)    \n",
        "finally: # 무조건 처리된다 \n",
        "    print(5)\n",
        "print(6)"
      ],
      "execution_count": 0,
      "outputs": [
        {
          "output_type": "stream",
          "text": [
            "0\n",
            "1\n",
            "2\n",
            "4\n",
            "5\n",
            "6\n"
          ],
          "name": "stdout"
        }
      ]
    },
    {
      "cell_type": "code",
      "metadata": {
        "id": "667999roeuJ-",
        "colab_type": "code",
        "colab": {}
      },
      "source": [
        ""
      ],
      "execution_count": 0,
      "outputs": []
    },
    {
      "cell_type": "code",
      "metadata": {
        "id": "lqqmrzbFeuKB",
        "colab_type": "code",
        "colab": {}
      },
      "source": [
        ""
      ],
      "execution_count": 0,
      "outputs": []
    },
    {
      "cell_type": "code",
      "metadata": {
        "id": "gtqG_558euKF",
        "colab_type": "code",
        "colab": {}
      },
      "source": [
        ""
      ],
      "execution_count": 0,
      "outputs": []
    },
    {
      "cell_type": "code",
      "metadata": {
        "id": "xXOvVDBneuKI",
        "colab_type": "code",
        "colab": {}
      },
      "source": [
        ""
      ],
      "execution_count": 0,
      "outputs": []
    }
  ]
}