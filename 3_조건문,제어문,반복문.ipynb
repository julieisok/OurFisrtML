{
  "nbformat": 4,
  "nbformat_minor": 0,
  "metadata": {
    "kernelspec": {
      "display_name": "Python 3",
      "language": "python",
      "name": "python3"
    },
    "language_info": {
      "codemirror_mode": {
        "name": "ipython",
        "version": 3
      },
      "file_extension": ".py",
      "mimetype": "text/x-python",
      "name": "python",
      "nbconvert_exporter": "python",
      "pygments_lexer": "ipython3",
      "version": "3.7.4"
    },
    "colab": {
      "name": "3.조건문,제어문,반복문.ipynb",
      "provenance": [],
      "include_colab_link": true
    }
  },
  "cells": [
    {
      "cell_type": "markdown",
      "metadata": {
        "id": "view-in-github",
        "colab_type": "text"
      },
      "source": [
        "<a href=\"https://colab.research.google.com/github/julieisok/OurFisrtML/blob/master/3_%EC%A1%B0%EA%B1%B4%EB%AC%B8%2C%EC%A0%9C%EC%96%B4%EB%AC%B8%2C%EB%B0%98%EB%B3%B5%EB%AC%B8.ipynb\" target=\"_parent\"><img src=\"https://colab.research.google.com/assets/colab-badge.svg\" alt=\"Open In Colab\"/></a>"
      ]
    },
    {
      "cell_type": "markdown",
      "metadata": {
        "id": "RgwJyKCVefER",
        "colab_type": "text"
      },
      "source": [
        "# 제어문, 반복문, 조건문\n",
        "\n",
        "- 흐름제어\n",
        "- if, while, for\n",
        "- 조건문 : 참거짓, 비트연산, 연산자\n",
        "- 절차적 프로그램"
      ]
    },
    {
      "cell_type": "markdown",
      "metadata": {
        "id": "b35euos4efEV",
        "colab_type": "text"
      },
      "source": [
        "## 조건식 \n",
        "\n",
        "- 결론 : 참 혹은 거짓"
      ]
    },
    {
      "cell_type": "code",
      "metadata": {
        "id": "7vHwNMY-efEW",
        "colab_type": "code",
        "colab": {},
        "outputId": "f9269c73-eec5-4dc2-8498-b0b36260becd"
      },
      "source": [
        "# 기본 비교는 타언어와 동일\n",
        "100>10, 100<10, 100>=10, 100<=10, 100==10, 100!=10, [], 1"
      ],
      "execution_count": 0,
      "outputs": [
        {
          "output_type": "execute_result",
          "data": {
            "text/plain": [
              "(True, False, True, False, False, True, [], 1)"
            ]
          },
          "metadata": {
            "tags": []
          },
          "execution_count": 1
        }
      ]
    },
    {
      "cell_type": "code",
      "metadata": {
        "id": "HeFHYAHLefEd",
        "colab_type": "code",
        "colab": {}
      },
      "source": [
        "# 값으로 조건 처리\n",
        "# 0, 0.0, [], {}, (), '', None, np.NaN => False => 값이 없으면 False "
      ],
      "execution_count": 0,
      "outputs": []
    },
    {
      "cell_type": "code",
      "metadata": {
        "id": "xm4lZtoFefEh",
        "colab_type": "code",
        "colab": {}
      },
      "source": [
        "# if문을 사용하여 구현 \n",
        "# 커피값을 받는다. \n",
        "# 1500원보다 크면 거스름돈 리턴, \n",
        "# 작으면 돈을 더 내라고 표시\n",
        "# 동일하면 감사합니다 출력 "
      ],
      "execution_count": 0,
      "outputs": []
    },
    {
      "cell_type": "code",
      "metadata": {
        "id": "7GmHZ-cLefEl",
        "colab_type": "code",
        "colab": {},
        "outputId": "e1d263a8-fa95-41c3-de54-c61b7de53d5e"
      },
      "source": [
        "# 커피값을 입력 받는다. \n",
        "# 단, 사용자의 입력값의 유효성 체크 안한다 \n",
        "coffee_price = int(input('커피값을 주세요')) # input 함수는 무조건 받으면 문자형 처리함\n",
        "coffee_price, type(coffee_price)"
      ],
      "execution_count": 0,
      "outputs": [
        {
          "output_type": "stream",
          "text": [
            "커피값을 주세요3500\n"
          ],
          "name": "stdout"
        },
        {
          "output_type": "execute_result",
          "data": {
            "text/plain": [
              "(3500, int)"
            ]
          },
          "metadata": {
            "tags": []
          },
          "execution_count": 3
        }
      ]
    },
    {
      "cell_type": "code",
      "metadata": {
        "id": "nH-RwSWMefEp",
        "colab_type": "code",
        "colab": {},
        "outputId": "2e4b5d30-5cdb-4e4b-e69c-9d0bcd08a0b6"
      },
      "source": [
        "'''\n",
        "if 조건 : \n",
        "    pass # 코드블럭내에서 주로 사용, 틀 작업시 유용 \n",
        "elif 조건2 : \n",
        "    pass\n",
        "else: \n",
        "    pass\n",
        "'''\n",
        "\n",
        "if coffee_price > 1500 :   # 1500원보다 크면 거스름돈 리턴,\n",
        "    print('거스름돈 %s 입니다.' % (coffee_price - 1500) )\n",
        "elif coffee_price < 1500 : # 작으면 돈을 더 내라고 표시\n",
        "    print('돈 {}이 부족합니다.'.format(1500-coffee_price) )\n",
        "else :                     # 동일하면 감사합니다 출력\n",
        "    print(\"감사합니다\")"
      ],
      "execution_count": 0,
      "outputs": [
        {
          "output_type": "stream",
          "text": [
            "거스름돈 2000 입니다.\n"
          ],
          "name": "stdout"
        }
      ]
    },
    {
      "cell_type": "markdown",
      "metadata": {
        "id": "_o4rs5NFefEt",
        "colab_type": "text"
      },
      "source": [
        "## 비트 연산 "
      ]
    },
    {
      "cell_type": "code",
      "metadata": {
        "id": "ruMfyTQnefEv",
        "colab_type": "code",
        "colab": {},
        "outputId": "5f27cbe8-d8b5-4efa-c9af-69f40f6026c5"
      },
      "source": [
        "True and False, True and True, False and False, False and True"
      ],
      "execution_count": 0,
      "outputs": [
        {
          "output_type": "execute_result",
          "data": {
            "text/plain": [
              "(False, True, False, False)"
            ]
          },
          "metadata": {
            "tags": []
          },
          "execution_count": 7
        }
      ]
    },
    {
      "cell_type": "code",
      "metadata": {
        "id": "F1V2IPyGefEz",
        "colab_type": "code",
        "colab": {},
        "outputId": "0ad76939-0828-4aed-cc5e-c8abec5797be"
      },
      "source": [
        "not True, not False"
      ],
      "execution_count": 0,
      "outputs": [
        {
          "output_type": "execute_result",
          "data": {
            "text/plain": [
              "(False, True)"
            ]
          },
          "metadata": {
            "tags": []
          },
          "execution_count": 8
        }
      ]
    },
    {
      "cell_type": "markdown",
      "metadata": {
        "id": "3NbHdbIvefE3",
        "colab_type": "text"
      },
      "source": [
        "## 삼항 연산자\n",
        "\n",
        "- 타언어 -> 변수 = 조건 ? 참일때 : 거짓일때 \n",
        "- 파이썬은 공식적으로 삼항연산자가 없다. \n",
        "- 조건이 2개일때, 조건에 따른 결과는 값을 리턴하는 것, 변수에 설정하는 부분"
      ]
    },
    {
      "cell_type": "code",
      "metadata": {
        "id": "DwLaDkjMefE4",
        "colab_type": "code",
        "colab": {},
        "outputId": "a7aa35d6-8712-40c2-b018-4f168af6e13f"
      },
      "source": [
        "a = 1500\n",
        "b = 1600\n",
        "# 조건 and 참일때 or 거짓일때 \n",
        "msg = b>=a and '거스름돈 {cost}원 입니다.'.format(cost=(b-a)) or '%s 부족' % (b-a)\n",
        "msg"
      ],
      "execution_count": 0,
      "outputs": [
        {
          "output_type": "execute_result",
          "data": {
            "text/plain": [
              "'거스름돈 100원 입니다.'"
            ]
          },
          "metadata": {
            "tags": []
          },
          "execution_count": 13
        }
      ]
    },
    {
      "cell_type": "code",
      "metadata": {
        "id": "gmN080krefE8",
        "colab_type": "code",
        "colab": {},
        "outputId": "facffe30-72c9-4693-c24d-6d2191d5f874"
      },
      "source": [
        "# 참일때 if 조건 else 거짓일때 \n",
        "msg = '거스름돈 {cost}원 입니다.'.format(cost=(b-a)) if b>=a else '%s 부족' % (b-a)\n",
        "msg"
      ],
      "execution_count": 0,
      "outputs": [
        {
          "output_type": "execute_result",
          "data": {
            "text/plain": [
              "'거스름돈 100원 입니다.'"
            ]
          },
          "metadata": {
            "tags": []
          },
          "execution_count": 12
        }
      ]
    },
    {
      "cell_type": "markdown",
      "metadata": {
        "id": "4RiDG3YsefFA",
        "colab_type": "text"
      },
      "source": [
        "## 반복문 1\n",
        " \n",
        "- for : 지정된 횟수를 반복\n",
        "- for -each 방식만 지원된다 \n",
        " "
      ]
    },
    {
      "cell_type": "code",
      "metadata": {
        "id": "YkdVhZoWefFC",
        "colab_type": "code",
        "colab": {}
      },
      "source": [
        "'''\n",
        "for 데이터 in 데이터덩어리(연속데이터타입) :\n",
        "   수행문\n",
        "'''"
      ],
      "execution_count": 0,
      "outputs": []
    },
    {
      "cell_type": "code",
      "metadata": {
        "id": "hLYUTRzuefFF",
        "colab_type": "code",
        "colab": {},
        "outputId": "0881d8b7-e69a-4767-967c-dbeae6917c0a"
      },
      "source": [
        "nums = [1,2,3,4,5]\n",
        "\n",
        "for num in nums : \n",
        "    print(num)"
      ],
      "execution_count": 0,
      "outputs": [
        {
          "output_type": "stream",
          "text": [
            "1\n",
            "2\n",
            "3\n",
            "4\n",
            "5\n"
          ],
          "name": "stdout"
        }
      ]
    },
    {
      "cell_type": "code",
      "metadata": {
        "id": "XfOE1FPqefFI",
        "colab_type": "code",
        "colab": {},
        "outputId": "b2e710a8-90e6-41be-fd46-c73fda79568a"
      },
      "source": [
        "nums = [(1,2),(3,4),(5,6)]\n",
        "\n",
        "for num in nums : \n",
        "    print(num)"
      ],
      "execution_count": 0,
      "outputs": [
        {
          "output_type": "stream",
          "text": [
            "(1, 2)\n",
            "(3, 4)\n",
            "(5, 6)\n"
          ],
          "name": "stdout"
        }
      ]
    },
    {
      "cell_type": "code",
      "metadata": {
        "id": "8VR_lhpnefFM",
        "colab_type": "code",
        "colab": {},
        "outputId": "f42c4ab6-1eff-420c-ea2c-c697751ad496"
      },
      "source": [
        "# 바로 분해해서 받는다 \n",
        "nums = [(1,2),(3,4),(5,6)]\n",
        "\n",
        "for a,b in nums : \n",
        "    print(a,b)"
      ],
      "execution_count": 0,
      "outputs": [
        {
          "output_type": "stream",
          "text": [
            "1 2\n",
            "3 4\n",
            "5 6\n"
          ],
          "name": "stdout"
        }
      ]
    },
    {
      "cell_type": "code",
      "metadata": {
        "id": "uIWa1F8MefFQ",
        "colab_type": "code",
        "colab": {},
        "outputId": "2a8e8e23-22f6-454e-95ec-b41ede7ae286"
      },
      "source": [
        "exchanges = {\n",
        "      'na':'미국', \n",
        "      'code':'USD', \n",
        "      'buy':1165.1, \n",
        "      'sell':1185.48\n",
        "}\n",
        "\n",
        "# 딕셔너리는 키가 나온다 \n",
        "for key in exchanges:\n",
        "    print(key, exchanges[key])"
      ],
      "execution_count": 0,
      "outputs": [
        {
          "output_type": "stream",
          "text": [
            "na 미국\n",
            "code USD\n",
            "buy 1165.1\n",
            "sell 1185.48\n"
          ],
          "name": "stdout"
        }
      ]
    },
    {
      "cell_type": "code",
      "metadata": {
        "id": "0teKklo0efFW",
        "colab_type": "code",
        "colab": {},
        "outputId": "129d4c6e-cdd4-467e-d432-ee85e8999568"
      },
      "source": [
        "# 키와 값을 동시에 추출\n",
        "for k,v in exchanges.items():\n",
        "    print(k,v)"
      ],
      "execution_count": 0,
      "outputs": [
        {
          "output_type": "stream",
          "text": [
            "na 미국\n",
            "code USD\n",
            "buy 1165.1\n",
            "sell 1185.48\n"
          ],
          "name": "stdout"
        }
      ]
    },
    {
      "cell_type": "code",
      "metadata": {
        "id": "c6WGNFOUefFZ",
        "colab_type": "code",
        "colab": {},
        "outputId": "af45620d-6884-4545-8458-8f64b7e69460"
      },
      "source": [
        "# 연속수 처리, iterator형 데이터를 반복 처리 \n",
        "# iterator형 => 데이터의 전체 개수 및 크기만큼 메모리를 차지하고 있지 않아서 유리 \n",
        "# numpy의 기본 데이터들은 다 iterator형 처리 \n",
        "\n",
        "range(10) # 0- <= x < 10 "
      ],
      "execution_count": 0,
      "outputs": [
        {
          "output_type": "execute_result",
          "data": {
            "text/plain": [
              "range(0, 10)"
            ]
          },
          "metadata": {
            "tags": []
          },
          "execution_count": 21
        }
      ]
    },
    {
      "cell_type": "code",
      "metadata": {
        "id": "RqFY1uc6efFc",
        "colab_type": "code",
        "colab": {},
        "outputId": "5e8c0c1c-207f-492b-9cd3-92fed7c30b09"
      },
      "source": [
        "for n in range( 10 ) :\n",
        "    print(n)"
      ],
      "execution_count": 0,
      "outputs": [
        {
          "output_type": "stream",
          "text": [
            "0\n",
            "1\n",
            "2\n",
            "3\n",
            "4\n",
            "5\n",
            "6\n",
            "7\n",
            "8\n",
            "9\n"
          ],
          "name": "stdout"
        }
      ]
    },
    {
      "cell_type": "code",
      "metadata": {
        "id": "E3Po1XL7efFf",
        "colab_type": "code",
        "colab": {},
        "outputId": "2e3d0096-fc04-4212-83a2-93b3a42e76f1"
      },
      "source": [
        "# 구구단 3~7단까지 구현\n",
        "# 출력형태 \n",
        "'''\n",
        "3 x 1 = 3\n",
        "3 x 2 = 6\n",
        "...\n",
        "7 x 9 = 63\n",
        "'''\n",
        "\n",
        "for i in range(3, 8) :\n",
        "    for j in range(1, 10) :\n",
        "        print('%s x %s = %2s' % (i, j, i*j))  \n",
        "        # print('{} x {} = {}'.format(i, j, (i*j)))"
      ],
      "execution_count": 0,
      "outputs": [
        {
          "output_type": "stream",
          "text": [
            "3 x 1 =  3\n",
            "3 x 2 =  6\n",
            "3 x 3 =  9\n",
            "3 x 4 = 12\n",
            "3 x 5 = 15\n",
            "3 x 6 = 18\n",
            "3 x 7 = 21\n",
            "3 x 8 = 24\n",
            "3 x 9 = 27\n",
            "4 x 1 =  4\n",
            "4 x 2 =  8\n",
            "4 x 3 = 12\n",
            "4 x 4 = 16\n",
            "4 x 5 = 20\n",
            "4 x 6 = 24\n",
            "4 x 7 = 28\n",
            "4 x 8 = 32\n",
            "4 x 9 = 36\n",
            "5 x 1 =  5\n",
            "5 x 2 = 10\n",
            "5 x 3 = 15\n",
            "5 x 4 = 20\n",
            "5 x 5 = 25\n",
            "5 x 6 = 30\n",
            "5 x 7 = 35\n",
            "5 x 8 = 40\n",
            "5 x 9 = 45\n",
            "6 x 1 =  6\n",
            "6 x 2 = 12\n",
            "6 x 3 = 18\n",
            "6 x 4 = 24\n",
            "6 x 5 = 30\n",
            "6 x 6 = 36\n",
            "6 x 7 = 42\n",
            "6 x 8 = 48\n",
            "6 x 9 = 54\n",
            "7 x 1 =  7\n",
            "7 x 2 = 14\n",
            "7 x 3 = 21\n",
            "7 x 4 = 28\n",
            "7 x 5 = 35\n",
            "7 x 6 = 42\n",
            "7 x 7 = 49\n",
            "7 x 8 = 56\n",
            "7 x 9 = 63\n"
          ],
          "name": "stdout"
        }
      ]
    },
    {
      "cell_type": "code",
      "metadata": {
        "id": "-raTodnkefFi",
        "colab_type": "code",
        "colab": {},
        "outputId": "1ededf85-91b5-4d70-c3d2-37f150e279f9"
      },
      "source": [
        "# 출력된 결과를 리스트에 모아라\n",
        "\n",
        "tmp = list()\n",
        "\n",
        "for n in range (3, 8) : #3-7\n",
        "    for m in range( 1,10 ) : #1~9\n",
        "        tmp.append('%s x %s = %2s' % (n, m, n*m))\n",
        "        \n",
        "# 파이썬에서 리스트 최초 3개값만 보는 방법 => 슬라이싱 처리         \n",
        "print(tmp[:3])\n",
        "print(tmp[-3:])\n",
        "len(tmp)"
      ],
      "execution_count": 0,
      "outputs": [
        {
          "output_type": "stream",
          "text": [
            "['3 x 1 =  3', '3 x 2 =  6', '3 x 3 =  9']\n",
            "['7 x 7 = 49', '7 x 8 = 56', '7 x 9 = 63']\n"
          ],
          "name": "stdout"
        },
        {
          "output_type": "execute_result",
          "data": {
            "text/plain": [
              "45"
            ]
          },
          "metadata": {
            "tags": []
          },
          "execution_count": 37
        }
      ]
    },
    {
      "cell_type": "code",
      "metadata": {
        "id": "UhXA-17befFm",
        "colab_type": "code",
        "colab": {},
        "outputId": "b620730f-4781-44c8-9a70-db3b8ede0569"
      },
      "source": [
        "# 한줄로 표현해라 ==> 리스트 내포, 딕셔너리 내포, ...\n",
        "# 결과를 보고 결과가 나오게 구성\n",
        "\n",
        "[ '%s x %s = %2s' % (n, m, n*m) for n in range (3, 8) for m in range( 1,10 )][:3]"
      ],
      "execution_count": 0,
      "outputs": [
        {
          "output_type": "execute_result",
          "data": {
            "text/plain": [
              "['3 x 1 =  3', '3 x 2 =  6', '3 x 3 =  9']"
            ]
          },
          "metadata": {
            "tags": []
          },
          "execution_count": 41
        }
      ]
    },
    {
      "cell_type": "code",
      "metadata": {
        "id": "2DwHw6T0efFp",
        "colab_type": "code",
        "colab": {},
        "outputId": "e232d2c7-d8ee-473f-d8da-e47b1f216e9b"
      },
      "source": [
        "# 멤버 형태 변경\n",
        "\n",
        "[ n*m for n in range (3, 8) for m in range( 1,10 )][:3]"
      ],
      "execution_count": 0,
      "outputs": [
        {
          "output_type": "execute_result",
          "data": {
            "text/plain": [
              "[3, 6, 9]"
            ]
          },
          "metadata": {
            "tags": []
          },
          "execution_count": 42
        }
      ]
    },
    {
      "cell_type": "markdown",
      "metadata": {
        "id": "0LYnh-kTefFs",
        "colab_type": "text"
      },
      "source": [
        "#### xxx 내포\n",
        "\n",
        "- 결과를 중심으로 코드를 펼친다\n",
        "- 내포 안에서 반복문, 조건문 등을 자유롭게 표현"
      ]
    },
    {
      "cell_type": "markdown",
      "metadata": {
        "id": "j6HLptRsefFt",
        "colab_type": "text"
      },
      "source": [
        "## 반복문 2\n",
        "\n",
        "- while : 언제 끝날지 모르는 반복작업. 0~무한대"
      ]
    },
    {
      "cell_type": "code",
      "metadata": {
        "id": "XW_qBj9-efFu",
        "colab_type": "code",
        "colab": {},
        "outputId": "99135a68-b4e9-4e72-8cbd-d27ce407924a"
      },
      "source": [
        "a = [1,2,3,4]\n",
        "\n",
        "a, len(a)"
      ],
      "execution_count": 0,
      "outputs": [
        {
          "output_type": "execute_result",
          "data": {
            "text/plain": [
              "([1, 2, 3, 4], 4)"
            ]
          },
          "metadata": {
            "tags": []
          },
          "execution_count": 43
        }
      ]
    },
    {
      "cell_type": "code",
      "metadata": {
        "id": "ACyMwNS7efFx",
        "colab_type": "code",
        "colab": {}
      },
      "source": [
        "# 무한루프\n",
        "# while len(a)>0 : "
      ],
      "execution_count": 0,
      "outputs": []
    },
    {
      "cell_type": "code",
      "metadata": {
        "id": "iGVWReftefF0",
        "colab_type": "code",
        "colab": {},
        "outputId": "fd8c489f-8e21-4ef3-c6a2-97a45830ccbe"
      },
      "source": [
        "a = [1,2,3,4]\n",
        "# while len(a) :    # 멤버수가 0이 되면 False\n",
        "while a : # a가 false가 되는 지점? 즉 리스트에 값이 없을때가 False 임! \n",
        "    print( a.pop() )\n",
        "    "
      ],
      "execution_count": 0,
      "outputs": [
        {
          "output_type": "stream",
          "text": [
            "4\n",
            "3\n",
            "2\n",
            "1\n"
          ],
          "name": "stdout"
        }
      ]
    },
    {
      "cell_type": "code",
      "metadata": {
        "id": "WCE8fPgmefF4",
        "colab_type": "code",
        "colab": {},
        "outputId": "476ee8e6-7e58-4899-db76-1a2bab34afe8"
      },
      "source": [
        "a = [1,2,3,4]\n",
        "while a : \n",
        "    print( a.pop() )\n",
        "else : \n",
        "    print( '중단없이 반복문이 다 loop를 수행했다')"
      ],
      "execution_count": 0,
      "outputs": [
        {
          "output_type": "stream",
          "text": [
            "4\n",
            "3\n",
            "2\n",
            "1\n",
            "중단없이 반복문이 다 loop를 수행했다\n"
          ],
          "name": "stdout"
        }
      ]
    },
    {
      "cell_type": "code",
      "metadata": {
        "id": "weAgo7c8efF7",
        "colab_type": "code",
        "colab": {},
        "outputId": "cb337012-6a94-4d4e-ccdd-c2f9b902693d"
      },
      "source": [
        "a = [1,2,3,4]\n",
        "while a : \n",
        "    print( a.pop() )\n",
        "    if len(a) == 2 : \n",
        "        break  # 가장 가까운 반복문을 나가라 \n",
        "else : \n",
        "    print( '중단없이 반복문이 다 loop를 수행했다')"
      ],
      "execution_count": 0,
      "outputs": [
        {
          "output_type": "stream",
          "text": [
            "4\n",
            "3\n"
          ],
          "name": "stdout"
        }
      ]
    },
    {
      "cell_type": "code",
      "metadata": {
        "id": "LAv5sJczefF-",
        "colab_type": "code",
        "colab": {},
        "outputId": "8fdc8b2b-d17e-493f-e53a-3feca039b7af"
      },
      "source": [
        "a = [1,2,3,4]\n",
        "while a : \n",
        "    tmp = a.pop()\n",
        "    print( tmp )\n",
        "    if len(a) == 2 : \n",
        "        continue # 여기서 다시 가장 가까운 반복문의 조건 체크로 이동 중간에 다시 맨처음 조건 체크로 이동  \n",
        "    print( tmp )\n",
        "else : # continue에는 영향을 받지 안는다 \n",
        "    print( '중단없이 반복문이 다 loop를 수행했다')"
      ],
      "execution_count": 0,
      "outputs": [
        {
          "output_type": "stream",
          "text": [
            "4\n",
            "4\n",
            "3\n",
            "2\n",
            "2\n",
            "1\n",
            "1\n",
            "중단없이 반복문이 다 loop를 수행했다\n"
          ],
          "name": "stdout"
        }
      ]
    },
    {
      "cell_type": "code",
      "metadata": {
        "id": "cB07QYjPefGB",
        "colab_type": "code",
        "colab": {}
      },
      "source": [
        ""
      ],
      "execution_count": 0,
      "outputs": []
    },
    {
      "cell_type": "code",
      "metadata": {
        "id": "m9Y05FkUefGE",
        "colab_type": "code",
        "colab": {}
      },
      "source": [
        ""
      ],
      "execution_count": 0,
      "outputs": []
    },
    {
      "cell_type": "code",
      "metadata": {
        "id": "JDkPfD_yefGH",
        "colab_type": "code",
        "colab": {}
      },
      "source": [
        ""
      ],
      "execution_count": 0,
      "outputs": []
    },
    {
      "cell_type": "code",
      "metadata": {
        "id": "QOIQzMbKefGK",
        "colab_type": "code",
        "colab": {}
      },
      "source": [
        ""
      ],
      "execution_count": 0,
      "outputs": []
    },
    {
      "cell_type": "code",
      "metadata": {
        "id": "UUa0R8KZefGO",
        "colab_type": "code",
        "colab": {}
      },
      "source": [
        ""
      ],
      "execution_count": 0,
      "outputs": []
    }
  ]
}