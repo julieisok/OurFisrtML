{
  "nbformat": 4,
  "nbformat_minor": 0,
  "metadata": {
    "kernelspec": {
      "display_name": "Python 3",
      "language": "python",
      "name": "python3"
    },
    "language_info": {
      "codemirror_mode": {
        "name": "ipython",
        "version": 3
      },
      "file_extension": ".py",
      "mimetype": "text/x-python",
      "name": "python",
      "nbconvert_exporter": "python",
      "pygments_lexer": "ipython3",
      "version": "3.7.4"
    },
    "colab": {
      "name": "4.함수.ipynb",
      "provenance": [],
      "include_colab_link": true
    }
  },
  "cells": [
    {
      "cell_type": "markdown",
      "metadata": {
        "id": "view-in-github",
        "colab_type": "text"
      },
      "source": [
        "<a href=\"https://colab.research.google.com/github/julieisok/OurFisrtML/blob/master/4_%ED%95%A8%EC%88%98.ipynb\" target=\"_parent\"><img src=\"https://colab.research.google.com/assets/colab-badge.svg\" alt=\"Open In Colab\"/></a>"
      ]
    },
    {
      "cell_type": "markdown",
      "metadata": {
        "id": "BONx7ns9elt1",
        "colab_type": "text"
      },
      "source": [
        "# 함수\n",
        "\n",
        "- 함수 지향적 프로그램 구성시, 모듈화 \n",
        "- entry point가 존재한다\n",
        "   - main() 함수 (통상), 타언어는 (자바, C, C++ 등 main() 실제로 존재) \n",
        "   - 가장 먼저 호출되서 프로그램이 시작되게 하는 함수 \n",
        "- 특정 모듈을, 작업을 함수화 시키면, 향후 그 작업은 함수 호출로만으로 구동이 되므로\n",
        "   - 코드가 간단해 진다 \n",
        "   - 구성이 간결해지고, 재사용성이 높아진다\n",
        "   - 생산성이 향상된다 "
      ]
    },
    {
      "cell_type": "code",
      "metadata": {
        "id": "AWC-RKL7elt5",
        "colab_type": "code",
        "colab": {},
        "outputId": "04004ced-378b-4554-fe9f-292b4874155e"
      },
      "source": [
        "# 현재 작동중인 코드에서 바로 사용하면 => _name_ => '_main_'\n",
        "# 반면 다른 py 파일에서 다른 py 파일에 있는 _name_ 이 구동되면 => '파일명'로 리턴 \n",
        "\n",
        "# 시스템이 사전에 정의한 전역변수이고, 바로 사용이 가능 \n",
        "# 값은 2가지로 존재, '__main__' or 파일명으로 변화하면서 설정된다 (사용방식에 따라)\n",
        "__name__"
      ],
      "execution_count": 0,
      "outputs": [
        {
          "output_type": "execute_result",
          "data": {
            "text/plain": [
              "'__main__'"
            ]
          },
          "metadata": {
            "tags": []
          },
          "execution_count": 1
        }
      ]
    },
    {
      "cell_type": "code",
      "metadata": {
        "id": "ZJEwjp7jelt_",
        "colab_type": "code",
        "colab": {}
      },
      "source": [
        "def main():\n",
        "    #start()\n",
        "    pass\n",
        "\n",
        "if _name_ == '_main_' :  # 이코드를 직접 구동했을때 작동\n",
        "    main()\n",
        "else : \n",
        "    print( '다른 모듈(py)에서 이 코드를 가져다 사용했다 파일명으로 나옴', _name_)"
      ],
      "execution_count": 0,
      "outputs": []
    },
    {
      "cell_type": "markdown",
      "metadata": {
        "id": "22BZtgpYeluD",
        "colab_type": "text"
      },
      "source": [
        "## 커스텀\n",
        "\n",
        "- 사용자 정의 함수\n",
        "- 개발자가 필요해서 만든다 "
      ]
    },
    {
      "cell_type": "code",
      "metadata": {
        "id": "gDw7d2dteluF",
        "colab_type": "code",
        "colab": {}
      },
      "source": [
        "'''\n",
        "[생략가능하다]\n",
        "\n",
        "def 함수명(  [매개변수명,....]  ):\n",
        "   # 코드블럭시작\n",
        "   statements.... \n",
        "   [ return [값,....] ]\n",
        "\n",
        "'''"
      ],
      "execution_count": 0,
      "outputs": []
    },
    {
      "cell_type": "code",
      "metadata": {
        "id": "pNWWkhxCeluJ",
        "colab_type": "code",
        "colab": {}
      },
      "source": [
        "# 더하기 함수\n",
        "# 함수 이름 : add\n",
        "# 입력 or 매개변수 : x, y\n",
        "# 수행문 : 매개변수 2개를 더한다\n",
        "# 출력 or 리턴값   : 수행문의 결과를 리턴\n",
        "\n",
        "def add( x, y ) :\n",
        "    z = x+y\n",
        "    return z "
      ],
      "execution_count": 0,
      "outputs": []
    },
    {
      "cell_type": "code",
      "metadata": {
        "id": "2BUbW2sueluN",
        "colab_type": "code",
        "colab": {},
        "outputId": "a7b3087c-07c9-4db7-8de4-d95f5ab59dff"
      },
      "source": [
        "add(1,2)"
      ],
      "execution_count": 0,
      "outputs": [
        {
          "output_type": "execute_result",
          "data": {
            "text/plain": [
              "3"
            ]
          },
          "metadata": {
            "tags": []
          },
          "execution_count": 4
        }
      ]
    },
    {
      "cell_type": "code",
      "metadata": {
        "id": "ekJtgyMJeluR",
        "colab_type": "code",
        "colab": {},
        "outputId": "ede777b3-eefa-4120-ff3d-f0796e131262"
      },
      "source": [
        "# return 생략 가능\n",
        "def add2(x, y):\n",
        "    z = x+y\n",
        "    print(z)\n",
        "\n",
        "add2(1,2)"
      ],
      "execution_count": 0,
      "outputs": [
        {
          "output_type": "stream",
          "text": [
            "3\n"
          ],
          "name": "stdout"
        }
      ]
    },
    {
      "cell_type": "code",
      "metadata": {
        "id": "lrbxI84ZeluV",
        "colab_type": "code",
        "colab": {},
        "outputId": "79327317-af04-4d0e-f7b1-33878f86ff95"
      },
      "source": [
        "# 가변인자 \n",
        "# 인자는 1개, 혹은 2개, 혹은 3개, 등등... 올수 있다 \n",
        "\n",
        "def add3( *x ) :\n",
        "    print(type(x), x)\n",
        "    \n",
        "add(1)\n",
        "add(1,2)\n",
        "add(1,2,3)\n",
        "add([1,2,3])\n",
        "# 연속 데이터형의 멤버들을 마치 한개씩 꺼내서 매개변수로 던지는 것과\n",
        "# 동일한 효과를 얻고 싶다면 연속 데이텨형 앞에 포인터를 붙여서 호출하면 된다 \n",
        "add(*[1,2,3])"
      ],
      "execution_count": 0,
      "outputs": [
        {
          "output_type": "stream",
          "text": [
            "<class 'tuple'> (1,)\n",
            "<class 'tuple'> (1, 2)\n",
            "<class 'tuple'> (1, 2, 3)\n",
            "<class 'tuple'> ([1, 2, 3],)\n",
            "<class 'tuple'> (1, 2, 3)\n"
          ],
          "name": "stdout"
        }
      ]
    },
    {
      "cell_type": "code",
      "metadata": {
        "id": "QZiFdKxveluZ",
        "colab_type": "code",
        "colab": {},
        "outputId": "b5c71a69-134e-4c36-82a4-5b83fa71b986"
      },
      "source": [
        "# 리턴값이 여러개\n",
        "def add4( x, y ) :\n",
        "    z1 = x+y\n",
        "    z2 = x*y\n",
        "    return z1, z2\n",
        "\n",
        "type(add4(1,2)), add4(1,2)"
      ],
      "execution_count": 0,
      "outputs": [
        {
          "output_type": "execute_result",
          "data": {
            "text/plain": [
              "(tuple, (3, 2))"
            ]
          },
          "metadata": {
            "tags": []
          },
          "execution_count": 13
        }
      ]
    },
    {
      "cell_type": "code",
      "metadata": {
        "id": "vEGFPs8_elud",
        "colab_type": "code",
        "colab": {},
        "outputId": "53f1425c-471b-4a1c-f726-3e0df2d15122"
      },
      "source": [
        "sum, mul = add4(1,2)\n",
        "\n",
        "sum, mul"
      ],
      "execution_count": 0,
      "outputs": [
        {
          "output_type": "execute_result",
          "data": {
            "text/plain": [
              "(3, 2)"
            ]
          },
          "metadata": {
            "tags": []
          },
          "execution_count": 15
        }
      ]
    },
    {
      "cell_type": "code",
      "metadata": {
        "id": "jcJxJsw3elui",
        "colab_type": "code",
        "colab": {}
      },
      "source": [
        "# 함수 인자 초기값 부여\n",
        "# 함수의 인자를 일일이 채우지 않고, 기본값을 가진 매개변수는 생략할 수 있다\n",
        "# 매개변수의 값이 어떤 것들이 오는지 확인할 수도 있다 \n",
        "\n",
        "def setHuman( name, age, weight=50 ) :\n",
        "    print( name, age, weight )"
      ],
      "execution_count": 0,
      "outputs": []
    },
    {
      "cell_type": "code",
      "metadata": {
        "id": "nyFM4pCHelul",
        "colab_type": "code",
        "colab": {},
        "outputId": "de799ac4-435e-4820-d13e-e491c0c6795f"
      },
      "source": [
        "setHuman('양재', 10, 100)"
      ],
      "execution_count": 0,
      "outputs": [
        {
          "output_type": "stream",
          "text": [
            "양재 10 100\n"
          ],
          "name": "stdout"
        }
      ]
    },
    {
      "cell_type": "code",
      "metadata": {
        "id": "CpcNhrWbelup",
        "colab_type": "code",
        "colab": {},
        "outputId": "e3ff700b-169d-487c-88c1-27ed277781e0"
      },
      "source": [
        "setHuman('양재', 10)"
      ],
      "execution_count": 0,
      "outputs": [
        {
          "output_type": "stream",
          "text": [
            "양재 10 50\n"
          ],
          "name": "stdout"
        }
      ]
    },
    {
      "cell_type": "code",
      "metadata": {
        "id": "6fu7MlY6elus",
        "colab_type": "code",
        "colab": {},
        "outputId": "59a861cd-1550-44e4-e2f6-0737c8e86334"
      },
      "source": [
        "# 기본값이 없어도 매개변수명을 사용할 수 있다\n",
        "setHuman( name = '양재' , age = 10 )"
      ],
      "execution_count": 0,
      "outputs": [
        {
          "output_type": "stream",
          "text": [
            "양재 10 50\n"
          ],
          "name": "stdout"
        }
      ]
    },
    {
      "cell_type": "code",
      "metadata": {
        "id": "dn9E2Byweluy",
        "colab_type": "code",
        "colab": {},
        "outputId": "4540b1d3-461c-4f64-e794-6d41f940de79"
      },
      "source": [
        "# 매개변수명을 사용하면 순서가 없어진다 \n",
        "setHuman( age=10, name ='양재')"
      ],
      "execution_count": 0,
      "outputs": [
        {
          "output_type": "stream",
          "text": [
            "양재 10 50\n"
          ],
          "name": "stdout"
        }
      ]
    },
    {
      "cell_type": "code",
      "metadata": {
        "id": "K6Ai_yP_elu2",
        "colab_type": "code",
        "colab": {},
        "outputId": "d2bc1168-7213-45bf-8492-58ed1a845a99"
      },
      "source": [
        "# 매개변수명이 없는것을 가장 먼저 처리하면 OK \n",
        "setHuman(5, age = 10)"
      ],
      "execution_count": 0,
      "outputs": [
        {
          "output_type": "stream",
          "text": [
            "5 10 50\n"
          ],
          "name": "stdout"
        }
      ]
    },
    {
      "cell_type": "code",
      "metadata": {
        "id": "JXQ_bW8Pelu6",
        "colab_type": "code",
        "colab": {}
      },
      "source": [
        "# 순서가 있는 매개변수를 먼저 나열하고, 순서가 없는 매개변수(초기값 부여한 매개변수)는 나중에 기술\n",
        "def setHuman2( weight = 50, name, age ):\n",
        "    print( name, age, weight )"
      ],
      "execution_count": 0,
      "outputs": []
    },
    {
      "cell_type": "markdown",
      "metadata": {
        "id": "c3i1H8uUelu9",
        "colab_type": "text"
      },
      "source": [
        "## 내장\n",
        "\n",
        "- 개발에 필요한 주요 기능들을 미리 만들어서 제공해준다\n",
        "- 별도의 추가 코드 없이 바로 사용가능\n",
        "- type(), len(), str(), ...  "
      ]
    },
    {
      "cell_type": "code",
      "metadata": {
        "id": "EeSL9fF-elu-",
        "colab_type": "code",
        "colab": {}
      },
      "source": [
        "# 파일처리 => I/O => 열었으면, 다쓰고 나서 닫는다 \n",
        "f = open('test1.txt', 'w')\n",
        "\n",
        "# 파일 기록\n",
        "f.write('가나다abcABC123!@#')\n",
        "\n",
        "f.close()"
      ],
      "execution_count": 0,
      "outputs": []
    },
    {
      "cell_type": "code",
      "metadata": {
        "id": "_GZmmaKkelvB",
        "colab_type": "code",
        "colab": {},
        "outputId": "3f37de14-f73f-41fb-aa93-fe909f88f580"
      },
      "source": [
        "f = open('test1.txt', 'r')\n",
        "print( f.read() )\n",
        "f.close()"
      ],
      "execution_count": 0,
      "outputs": [
        {
          "output_type": "stream",
          "text": [
            "가나다abcABC123!@#\n"
          ],
          "name": "stdout"
        }
      ]
    },
    {
      "cell_type": "code",
      "metadata": {
        "id": "sqoUOJ3yelvE",
        "colab_type": "code",
        "colab": {},
        "outputId": "b6fba142-1936-46f5-afc7-4ddbd1cc64bd"
      },
      "source": [
        "# 파이썬에서는 I/O 계역에서 자동으로 close 해주는 표현\n",
        "# as : 별칭\n",
        "# with문 : 자동 close \n",
        "\n",
        "with open('test1.txt', 'r') as f:\n",
        "    print( f.read() )"
      ],
      "execution_count": 0,
      "outputs": [
        {
          "output_type": "stream",
          "text": [
            "가나다abcABC123!@#\n"
          ],
          "name": "stdout"
        }
      ]
    },
    {
      "cell_type": "code",
      "metadata": {
        "id": "ugroY0cOelvH",
        "colab_type": "code",
        "colab": {},
        "outputId": "90b41a92-c16e-4750-96de-6dd39c58f3f1"
      },
      "source": [
        "# 데이터 처리, 람다함수도 같이 등장 \n",
        "# map(), filter()\n",
        "data = [1,2,3,4,5,6,7,8,9]\n",
        "data"
      ],
      "execution_count": 0,
      "outputs": [
        {
          "output_type": "execute_result",
          "data": {
            "text/plain": [
              "[1, 2, 3, 4, 5, 6, 7, 8, 9]"
            ]
          },
          "metadata": {
            "tags": []
          },
          "execution_count": 28
        }
      ]
    },
    {
      "cell_type": "code",
      "metadata": {
        "id": "K5Hu_HtkelvM",
        "colab_type": "code",
        "colab": {},
        "outputId": "3b30659b-d831-4d27-a886-971ba089a62d"
      },
      "source": [
        "# 요구사항\n",
        "# data의 모든 구성원의 값을 2배로 증가시켜라 \n",
        "data * 2 # 의도한 바가 다르다 "
      ],
      "execution_count": 0,
      "outputs": [
        {
          "output_type": "execute_result",
          "data": {
            "text/plain": [
              "[1, 2, 3, 4, 5, 6, 7, 8, 9, 1, 2, 3, 4, 5, 6, 7, 8, 9]"
            ]
          },
          "metadata": {
            "tags": []
          },
          "execution_count": 31
        }
      ]
    },
    {
      "cell_type": "code",
      "metadata": {
        "id": "ICRM9WAVelvP",
        "colab_type": "code",
        "colab": {},
        "outputId": "e78e19c6-75bb-4911-9a48-63d1c0b1ae6b"
      },
      "source": [
        "# 원소 하나하나를 빼서, 2배를 곱해준다\n",
        "# 원소 하나하나를 배서, 뭔가 조작을 한다 => 구성원 전체를 조작 => map() \n",
        "# list( map( 2배처리하는 함수, 원재료 ))\n",
        "# 함수자리는 원재료에서 구성원 하나씩 뺄때마다 호출된다 \n",
        "def setDouble(x):\n",
        "    return x*2\n",
        "\n",
        "list( map( setDouble, data ))"
      ],
      "execution_count": 0,
      "outputs": [
        {
          "output_type": "execute_result",
          "data": {
            "text/plain": [
              "[2, 4, 6, 8, 10, 12, 14, 16, 18]"
            ]
          },
          "metadata": {
            "tags": []
          },
          "execution_count": 29
        }
      ]
    },
    {
      "cell_type": "markdown",
      "metadata": {
        "id": "QyFnlClkelvS",
        "colab_type": "text"
      },
      "source": [
        "- 위의 코드가 지나가면 함수는 사용하지 않아도 남아 있다. \n",
        "- 실제 사용때도 call by value라는 원칙에 입각해 처리되므로 속도면에서도 불리\n",
        "- 이런 문제점을 해결하기 위해 휘발성 함수, 빠른 처리 속도를 나타내는 람다함수를 활용"
      ]
    },
    {
      "cell_type": "code",
      "metadata": {
        "id": "VaAEASzxelvT",
        "colab_type": "code",
        "colab": {},
        "outputId": "36e7bbeb-eb30-4b51-955f-fec701c8f0e8"
      },
      "source": [
        "'''\n",
        "람다 함수\n",
        "\n",
        "lambda x:수행문 (리턴될 값을 가진 수행문 1줄)\n",
        "'''\n",
        "list( map( lambda x:x*2, data ))"
      ],
      "execution_count": 0,
      "outputs": [
        {
          "output_type": "execute_result",
          "data": {
            "text/plain": [
              "[2, 4, 6, 8, 10, 12, 14, 16, 18]"
            ]
          },
          "metadata": {
            "tags": []
          },
          "execution_count": 30
        }
      ]
    },
    {
      "cell_type": "code",
      "metadata": {
        "id": "j6v3S_S2elvW",
        "colab_type": "code",
        "colab": {},
        "outputId": "c5f499e0-fe71-450e-d039-ebc98fb147a4"
      },
      "source": [
        "# 여러 곳에서 사용해야 한다면. 혹은 표현이 복잡해서 코드 내부에 사용하기 번잡하면 변수로 받아서 일반 함수처럼 사용한다 \n",
        "tmpFunc = lambda x:x*2\n",
        "\n",
        "list( map( tmpFunc, data ))"
      ],
      "execution_count": 0,
      "outputs": [
        {
          "output_type": "execute_result",
          "data": {
            "text/plain": [
              "[2, 4, 6, 8, 10, 12, 14, 16, 18]"
            ]
          },
          "metadata": {
            "tags": []
          },
          "execution_count": 32
        }
      ]
    },
    {
      "cell_type": "code",
      "metadata": {
        "id": "5pA1hxF2elvZ",
        "colab_type": "code",
        "colab": {},
        "outputId": "c633630e-9325-446c-c0d4-fde821430608"
      },
      "source": [
        "tmpFunc(5)"
      ],
      "execution_count": 0,
      "outputs": [
        {
          "output_type": "execute_result",
          "data": {
            "text/plain": [
              "10"
            ]
          },
          "metadata": {
            "tags": []
          },
          "execution_count": 33
        }
      ]
    },
    {
      "cell_type": "code",
      "metadata": {
        "id": "7M8XXNgvelvc",
        "colab_type": "code",
        "colab": {},
        "outputId": "5237e69d-f9d4-4e1e-c9d5-ac3dda1f0fac"
      },
      "source": [
        "# filter() => 거른다 (조건식을 통한 참, 거짓)\n",
        "\n",
        "list( filter( lambda x:x>5, data ))"
      ],
      "execution_count": 0,
      "outputs": [
        {
          "output_type": "execute_result",
          "data": {
            "text/plain": [
              "[6, 7, 8, 9]"
            ]
          },
          "metadata": {
            "tags": []
          },
          "execution_count": 34
        }
      ]
    },
    {
      "cell_type": "markdown",
      "metadata": {
        "id": "KMeTdimZelvg",
        "colab_type": "text"
      },
      "source": [
        "## 외장\n",
        "\n",
        "- 특정 모듈을 코드에 추가시키고 나서 사용 가능\n",
        "- xxx.함수명()"
      ]
    },
    {
      "cell_type": "code",
      "metadata": {
        "id": "MbMPUPP8elvh",
        "colab_type": "code",
        "colab": {},
        "outputId": "305c98b5-33d7-4244-9fbe-9b45f21c7be1"
      },
      "source": [
        "# 자료구조를 유지한 채로 저장(덤프)하거나 로드할 수 있다 \n",
        "# => 머신러닝/딥러닝 모델을 덤프하여 웹서비스에서 사용한다. (표현)\n",
        "# 분석중에 중간 저장하고, 거기까지의 결과물을 다음 단계로 전송\n",
        "import pickle as p\n",
        "\n",
        "# 해당 모듈의 총 함수, 변수를 출력 \n",
        "print( len(dir(p)), dir(p) )"
      ],
      "execution_count": 0,
      "outputs": [
        {
          "output_type": "stream",
          "text": [
            "121 ['ADDITEMS', 'APPEND', 'APPENDS', 'BINBYTES', 'BINBYTES8', 'BINFLOAT', 'BINGET', 'BININT', 'BININT1', 'BININT2', 'BINPERSID', 'BINPUT', 'BINSTRING', 'BINUNICODE', 'BINUNICODE8', 'BUILD', 'DEFAULT_PROTOCOL', 'DICT', 'DUP', 'EMPTY_DICT', 'EMPTY_LIST', 'EMPTY_SET', 'EMPTY_TUPLE', 'EXT1', 'EXT2', 'EXT4', 'FALSE', 'FLOAT', 'FRAME', 'FROZENSET', 'FunctionType', 'GET', 'GLOBAL', 'HIGHEST_PROTOCOL', 'INST', 'INT', 'LIST', 'LONG', 'LONG1', 'LONG4', 'LONG_BINGET', 'LONG_BINPUT', 'MARK', 'MEMOIZE', 'NEWFALSE', 'NEWOBJ', 'NEWOBJ_EX', 'NEWTRUE', 'NONE', 'OBJ', 'PERSID', 'POP', 'POP_MARK', 'PROTO', 'PUT', 'PickleError', 'Pickler', 'PicklingError', 'PyStringMap', 'REDUCE', 'SETITEM', 'SETITEMS', 'SHORT_BINBYTES', 'SHORT_BINSTRING', 'SHORT_BINUNICODE', 'STACK_GLOBAL', 'STOP', 'STRING', 'TRUE', 'TUPLE', 'TUPLE1', 'TUPLE2', 'TUPLE3', 'UNICODE', 'Unpickler', 'UnpicklingError', '_Framer', '_Pickler', '_Stop', '_Unframer', '_Unpickler', '__all__', '__builtins__', '__cached__', '__doc__', '__file__', '__loader__', '__name__', '__package__', '__spec__', '_compat_pickle', '_dump', '_dumps', '_extension_cache', '_extension_registry', '_getattribute', '_inverted_registry', '_load', '_loads', '_test', '_tuplesize2code', 'bytes_types', 'codecs', 'compatible_formats', 'decode_long', 'dispatch_table', 'dump', 'dumps', 'encode_long', 'format_version', 'io', 'islice', 'load', 'loads', 'maxsize', 'pack', 'partial', 're', 'sys', 'unpack', 'whichmodule']\n"
          ],
          "name": "stdout"
        }
      ]
    },
    {
      "cell_type": "code",
      "metadata": {
        "id": "FELiisMuelvj",
        "colab_type": "code",
        "colab": {},
        "outputId": "83a58aa0-1654-4a49-a475-35998cc66608"
      },
      "source": [
        "# 더미 데이터\n",
        "data = {\n",
        "    1:[1,2,3],\n",
        "    2:{'NAME':'양재역'},\n",
        "    3:(4,5,6)\n",
        "}\n",
        "data"
      ],
      "execution_count": 0,
      "outputs": [
        {
          "output_type": "execute_result",
          "data": {
            "text/plain": [
              "{1: [1, 2, 3], 2: {'NAME': '양재역'}, 3: (4, 5, 6)}"
            ]
          },
          "metadata": {
            "tags": []
          },
          "execution_count": 41
        }
      ]
    },
    {
      "cell_type": "code",
      "metadata": {
        "id": "658A9G_kelvm",
        "colab_type": "code",
        "colab": {}
      },
      "source": [
        "# 덤프, 저장, 기록 등 하겠다 \n",
        "with open('data.p', 'wb') as f : \n",
        "    # 저장 \n",
        "    p.dump( data, f, p.HIGHEST_PROTOCOL )"
      ],
      "execution_count": 0,
      "outputs": []
    },
    {
      "cell_type": "code",
      "metadata": {
        "id": "OsSHUDS7elvq",
        "colab_type": "code",
        "colab": {},
        "outputId": "eb98dd32-a42f-40e8-9f1d-b145bd63d1f6"
      },
      "source": [
        "# 데이터를 로드 하겠다  -> 로드 후 -> 양재역이라는 값을 구해서 출력 \n",
        "\n",
        "with open('data.p', 'rb') as f:\n",
        "     data = p.load(f)   # p.load(f)[2]['NAME'] 으로 부를수도 있음 \n",
        "\n",
        "print( data.get(2).get(\"NAME\") )\n",
        "print( data[2][\"NAME\"] )"
      ],
      "execution_count": 0,
      "outputs": [
        {
          "output_type": "stream",
          "text": [
            "양재역\n",
            "양재역\n"
          ],
          "name": "stdout"
        }
      ]
    },
    {
      "cell_type": "code",
      "metadata": {
        "id": "dS5NTRIrelvt",
        "colab_type": "code",
        "colab": {}
      },
      "source": [
        ""
      ],
      "execution_count": 0,
      "outputs": []
    },
    {
      "cell_type": "code",
      "metadata": {
        "id": "iHzlw1WOelvw",
        "colab_type": "code",
        "colab": {}
      },
      "source": [
        "import os\n",
        "os.chdir"
      ],
      "execution_count": 0,
      "outputs": []
    },
    {
      "cell_type": "markdown",
      "metadata": {
        "id": "5_CJDwJkelvz",
        "colab_type": "text"
      },
      "source": [
        "## 람다 (사용자 정의는 맞으나 형태/용도가 다르다) \n",
        "- 구동 속도가 가장 빠르다\n",
        "- 휘발성이다\n",
        "- lambda x:x+1\n",
        "- 통상 함수의 인자로 사용한다 "
      ]
    },
    {
      "cell_type": "markdown",
      "metadata": {
        "id": "f3J_BDJoelv0",
        "colab_type": "text"
      },
      "source": [
        "## 클로저\n",
        "\n",
        "- 함수안에 함수가 정의되어 있다\n",
        "- 함수 안에서만 사용된다 "
      ]
    },
    {
      "cell_type": "code",
      "metadata": {
        "id": "WlV2yOeuelv1",
        "colab_type": "code",
        "colab": {}
      },
      "source": [
        "@router(method=['GET']) # 데코레이터, 파이썬 웹(flask, django에서 주로 보인다)\n",
        "def sum(a,b) :\n",
        "    return a+b:"
      ],
      "execution_count": 0,
      "outputs": []
    }
  ]
}