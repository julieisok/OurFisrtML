{
  "nbformat": 4,
  "nbformat_minor": 0,
  "metadata": {
    "kernelspec": {
      "display_name": "Python 3",
      "language": "python",
      "name": "python3"
    },
    "language_info": {
      "codemirror_mode": {
        "name": "ipython",
        "version": 3
      },
      "file_extension": ".py",
      "mimetype": "text/x-python",
      "name": "python",
      "nbconvert_exporter": "python",
      "pygments_lexer": "ipython3",
      "version": "3.7.3"
    },
    "colab": {
      "name": "데이터획득_level3_webscraping.ipynb",
      "provenance": [],
      "collapsed_sections": [],
      "include_colab_link": true
    }
  },
  "cells": [
    {
      "cell_type": "markdown",
      "metadata": {
        "id": "view-in-github",
        "colab_type": "text"
      },
      "source": [
        "<a href=\"https://colab.research.google.com/github/julieisok/OurFisrtML/blob/master/%EB%8D%B0%EC%9D%B4%ED%84%B0%ED%9A%8D%EB%93%9D_level3_webscraping.ipynb\" target=\"_parent\"><img src=\"https://colab.research.google.com/assets/colab-badge.svg\" alt=\"Open In Colab\"/></a>"
      ]
    },
    {
      "cell_type": "markdown",
      "metadata": {
        "id": "u3ZSbIoReS1p",
        "colab_type": "text"
      },
      "source": [
        "## 웹스크래핑을 이용한 데이터 수집\n",
        "\n",
        "* open API를 이용한 데이터 수집이 불가한 경우 해당\n",
        "* 웹을 요청하여 html을 모두 받아서 DOM으로 올려서 데이터를 추출방식\n",
        "* DOM을 띠워서 데이터를 추출할때 사용하는 라이브러리\n",
        " > beautifulsoup (bs4)를 활용  \n",
        " > conda install beautifulsoup4"
      ]
    },
    {
      "cell_type": "code",
      "metadata": {
        "id": "M9hxPlJCeS1s",
        "colab_type": "code",
        "colab": {}
      },
      "source": [
        "from bs4 import BeautifulSoup"
      ],
      "execution_count": 0,
      "outputs": []
    },
    {
      "cell_type": "code",
      "metadata": {
        "id": "A9XKFAgTeS1y",
        "colab_type": "code",
        "colab": {}
      },
      "source": [
        "from urllib.request import urlopen"
      ],
      "execution_count": 0,
      "outputs": []
    },
    {
      "cell_type": "markdown",
      "metadata": {
        "id": "JWZSsmvqeS12",
        "colab_type": "text"
      },
      "source": [
        "- 콘텐츠가 존재하는 해당 페이지까지 진입\n",
        "- 진입간에 로그인, ajax등등 사람의 손을 타지 않는지 체크\n",
        "- 그냥 url만 넣으면 화면이 구성된다 => OK\n",
        "- html 자체에 프레임이 적용된경우 실제 주소까지 찾아서 이동\n",
        "- 통신시 get, post등 데이터를 전달해서 획득하는 것도 OK"
      ]
    },
    {
      "cell_type": "markdown",
      "metadata": {
        "id": "0k6ee-aseS13",
        "colab_type": "text"
      },
      "source": [
        "### 네이버 금융 > 고시환율정보 수집\n",
        "\n",
        "- 하루에 환율이 수시로 변경된다 \n",
        "- 그 주기를 관찰하여 수집 주기를 결정해야 한다"
      ]
    },
    {
      "cell_type": "code",
      "metadata": {
        "id": "A8kl0xwAeS14",
        "colab_type": "code",
        "colab": {},
        "outputId": "b78c899a-b877-42a4-ef0d-d06538d0d5b7"
      },
      "source": [
        "target_site = 'https://finance.naver.com/marketindex/exchangeList.nhn'\n",
        "target_site"
      ],
      "execution_count": 0,
      "outputs": [
        {
          "output_type": "execute_result",
          "data": {
            "text/plain": [
              "'https://finance.naver.com/marketindex/exchangeList.nhn'"
            ]
          },
          "metadata": {
            "tags": []
          },
          "execution_count": 5
        }
      ]
    },
    {
      "cell_type": "code",
      "metadata": {
        "id": "jP0fmnq7eS19",
        "colab_type": "code",
        "colab": {},
        "outputId": "3a4891b5-8331-4886-93a2-577d8dce0d12"
      },
      "source": [
        "# 요청및 응답 획득\n",
        "page = urlopen( target_site )\n",
        "page"
      ],
      "execution_count": 0,
      "outputs": [
        {
          "output_type": "execute_result",
          "data": {
            "text/plain": [
              "<http.client.HTTPResponse at 0x109d685f8>"
            ]
          },
          "metadata": {
            "tags": []
          },
          "execution_count": 6
        }
      ]
    },
    {
      "cell_type": "code",
      "metadata": {
        "id": "LV8L1roceS2B",
        "colab_type": "code",
        "colab": {}
      },
      "source": [
        "# DOM  구성\n",
        "# 'html5lib' 파서는 html  양이 크거나, 정교한 파싱을 할때 즉, 아래 파서가\n",
        "# 정상적으로 결과를 내지 못하면 이 파서로 교체\n",
        "soup = BeautifulSoup( page,  'html.parser')"
      ],
      "execution_count": 0,
      "outputs": []
    },
    {
      "cell_type": "code",
      "metadata": {
        "id": "kUXHAOdSeS2G",
        "colab_type": "code",
        "colab": {},
        "outputId": "39ff6cbc-da4d-49e5-98a3-6302cdc00232"
      },
      "source": [
        "# 리스트 내포를 통해서 간단하게 가공해 보았다\n",
        "tmp = [ td.a.string.strip() for td in soup.find_all('td','tit') ]\n",
        "tmp[:3]"
      ],
      "execution_count": 0,
      "outputs": [
        {
          "output_type": "execute_result",
          "data": {
            "text/plain": [
              "['미국 USD', '유럽연합 EUR', '일본 JPY (100엔)']"
            ]
          },
          "metadata": {
            "tags": []
          },
          "execution_count": 8
        }
      ]
    },
    {
      "cell_type": "code",
      "metadata": {
        "id": "7m5YJzD0eS2K",
        "colab_type": "code",
        "colab": {},
        "outputId": "638615ad-6182-47b2-bd5c-2bda79274780"
      },
      "source": [
        "for td in soup.find_all('td','tit'):\n",
        "    print( td.a.string.strip() )\n",
        "    break"
      ],
      "execution_count": 0,
      "outputs": [
        {
          "output_type": "stream",
          "text": [
            "미국 USD\n"
          ],
          "name": "stdout"
        }
      ]
    },
    {
      "cell_type": "markdown",
      "metadata": {
        "id": "64IEDKoleS2O",
        "colab_type": "text"
      },
      "source": [
        "- 데이터를 추출하여 디비에 적제하기 위해 최종 형태는 다음과 같다\n",
        "- [\n",
        "    {\n",
        "      'name':'미국 USD',\n",
        "      'code';'USD',\n",
        "      'buy_std_rate':1209.90,\n",
        "      'cash_sell':1188.73\n",
        "    },{}\n",
        " ]"
      ]
    },
    {
      "cell_type": "code",
      "metadata": {
        "id": "IBNE4bUFeS2P",
        "colab_type": "code",
        "colab": {},
        "outputId": "f2c73bd5-70d3-4776-9b78-fdefb67172d3"
      },
      "source": [
        "'1,234'.replace(',','')"
      ],
      "execution_count": 0,
      "outputs": [
        {
          "output_type": "execute_result",
          "data": {
            "text/plain": [
              "'1234'"
            ]
          },
          "metadata": {
            "tags": []
          },
          "execution_count": 8
        }
      ]
    },
    {
      "cell_type": "code",
      "metadata": {
        "id": "kXkmSP3yeS2T",
        "colab_type": "code",
        "colab": {},
        "outputId": "43b940c7-d4a2-495a-f407-136a3dcf820a"
      },
      "source": [
        "# 통화\n",
        "tmp = [ td.a.string.strip() for td in soup.find_all('td','tit') ]\n",
        "tmp[:3]"
      ],
      "execution_count": 0,
      "outputs": [
        {
          "output_type": "execute_result",
          "data": {
            "text/plain": [
              "['미국 USD', '유럽연합 EUR', '일본 JPY (100엔)']"
            ]
          },
          "metadata": {
            "tags": []
          },
          "execution_count": 11
        }
      ]
    },
    {
      "cell_type": "code",
      "metadata": {
        "id": "gRZo5YdZeS2X",
        "colab_type": "code",
        "colab": {},
        "outputId": "ddfcc336-add0-4454-ba50-c0f2c67e4323"
      },
      "source": [
        "# 매매기준율\n",
        "tmp = [ td.string.strip() for td in soup.find_all('td','sale') ]\n",
        "tmp[:3]"
      ],
      "execution_count": 0,
      "outputs": [
        {
          "output_type": "execute_result",
          "data": {
            "text/plain": [
              "['1,199.00', '1,309.67', '1,111.06']"
            ]
          },
          "metadata": {
            "tags": []
          },
          "execution_count": 12
        }
      ]
    },
    {
      "cell_type": "code",
      "metadata": {
        "id": "2kbKjNfAeS2b",
        "colab_type": "code",
        "colab": {}
      },
      "source": [
        "body > div > table > tbody > tr:nth-child(1) > td:nth-child(4)"
      ],
      "execution_count": 0,
      "outputs": []
    },
    {
      "cell_type": "markdown",
      "metadata": {
        "id": "7PAyBIAKeS2e",
        "colab_type": "text"
      },
      "source": [
        "- 만약 대상 페이지에 table이 n개 존재하면 특정해서 찾아야한다\n",
        "- 대상 데이터가 있는 tr을 모두 찾았다\n",
        "- table.tbl_exchange > tbody > tr\n",
        "- 위의 표현을 for문으로 구동하고 하나하나의 tr에서 td:nth-child(4) 를 선택"
      ]
    },
    {
      "cell_type": "code",
      "metadata": {
        "id": "b0HABsYxeS2f",
        "colab_type": "code",
        "colab": {},
        "outputId": "f9f24d23-faac-4fdb-caae-733995b5c719"
      },
      "source": [
        "# 원하는 데이터를 감사는 tr를 찾아서 그밑에서 자식들을 탐색후 거기서 데이터를 추출!!\n",
        "for tr in soup.select('table.tbl_exchange > tbody > tr'):\n",
        "    # 데이터 한줄 한줄 뽑아서 => tr에서 탐색하여 세부 데이터 추출\n",
        "    print( tr.select_one('td.tit').a.string.strip() )\n",
        "    print( tr.select_one('td.sale').string.strip() )\n",
        "    print( tr.select_one('td:nth-child(4)').string.strip() )"
      ],
      "execution_count": 0,
      "outputs": [
        {
          "output_type": "stream",
          "text": [
            "미국 USD\n",
            "1,209.40\n",
            "1,188.24\n",
            "유럽연합 EUR\n",
            "1,353.02\n",
            "1,326.10\n",
            "일본 JPY (100엔)\n",
            "1,141.64\n",
            "1,121.67\n",
            "중국 CNY\n",
            "170.74\n",
            "162.21\n",
            "홍콩 HKD\n",
            "154.22\n",
            "151.19\n",
            "대만 TWD\n",
            "38.69\n",
            "35.99\n",
            "영국 GBP\n",
            "1,468.70\n",
            "1,439.77\n",
            "오만 OMR\n",
            "3,141.22\n",
            "2,952.75\n",
            "캐나다 CAD\n",
            "914.55\n",
            "896.54\n",
            "스위스 CHF\n",
            "1,241.62\n",
            "1,217.17\n",
            "스웨덴 SEK\n",
            "126.05\n",
            "122.97\n",
            "호주 AUD\n",
            "824.15\n",
            "807.92\n",
            "뉴질랜드 NZD\n",
            "784.36\n",
            "768.91\n",
            "체코 CZK\n",
            "52.47\n",
            "47.75\n",
            "칠레 CLP\n",
            "1.70\n",
            "1.57\n",
            "터키 TRY\n",
            "220.50\n",
            "0.00\n",
            "몽골 MNT\n",
            "0.45\n",
            "0.00\n",
            "이스라엘 ILS\n",
            "347.60\n",
            "319.80\n",
            "덴마크 DKK\n",
            "181.33\n",
            "176.89\n",
            "노르웨이 NOK\n",
            "135.49\n",
            "132.18\n",
            "사우디아라비아 SAR\n",
            "322.37\n",
            "300.13\n",
            "쿠웨이트 KWD\n",
            "3,976.33\n",
            "3,658.23\n",
            "바레인 BHD\n",
            "3,207.96\n",
            "2,951.33\n",
            "아랍에미리트 AED\n",
            "329.25\n",
            "306.54\n",
            "요르단 JOD\n",
            "1,705.78\n",
            "1,569.32\n",
            "이집트 EGP\n",
            "73.01\n",
            "0.00\n",
            "태국 THB\n",
            "39.35\n",
            "36.99\n",
            "싱가포르 SGD\n",
            "875.01\n",
            "857.60\n",
            "말레이시아 MYR\n",
            "288.98\n",
            "267.60\n",
            "인도네시아 IDR 100\n",
            "8.53\n",
            "7.68\n",
            "카타르 QAR\n",
            "330.45\n",
            "0.00\n",
            "카자흐스탄 KZT\n",
            "3.12\n",
            "0.00\n",
            "브루나이 BND\n",
            "875.05\n",
            "822.55\n",
            "인도 INR\n",
            "17.16\n",
            "0.00\n",
            "파키스탄 PKR\n",
            "7.56\n",
            "0.00\n",
            "방글라데시 BDT\n",
            "14.33\n",
            "0.00\n",
            "필리핀 PHP\n",
            "23.29\n",
            "21.39\n",
            "멕시코 MXN\n",
            "62.25\n",
            "57.03\n",
            "브라질 BRL\n",
            "308.59\n",
            "283.91\n",
            "베트남 VND 100\n",
            "5.21\n",
            "4.60\n",
            "남아프리카 공화국 ZAR\n",
            "80.37\n",
            "73.95\n",
            "러시아 RUB\n",
            "18.57\n",
            "16.53\n",
            "헝가리 HUF\n",
            "4.17\n",
            "3.84\n",
            "폴란드 PLN\n",
            "312.96\n",
            "287.93\n"
          ],
          "name": "stdout"
        }
      ]
    },
    {
      "cell_type": "code",
      "metadata": {
        "id": "Ba5wNAvKeS2i",
        "colab_type": "code",
        "colab": {},
        "outputId": "93895afe-09e8-4e1a-ffbd-9b9bb8876e4f"
      },
      "source": [
        "results = []\n",
        "for tr in soup.select('table.tbl_exchange > tbody > tr'):\n",
        "    if tr.select_one('td.tit').a.string.strip().count('JPY') == 0:\n",
        "        tmp   = dict()\n",
        "        tmp['name']         = tr.select_one('td.tit').a.string.strip()\n",
        "        tmp['code']         = tr.select_one('td.tit').a['href'][-6:-3]\n",
        "        tmp['buy_std_rate'] = tr.select_one('td.sale').string.strip() \n",
        "        tmp['cash_sell']    = tr.select_one('td:nth-child(4)').string.strip()\n",
        "        # :nth-child(4)가 않되는 분은 아래로 처리변경\n",
        "        #tmp['cash_sell']    = tr.select('td')[3].string.strip()\n",
        "        results.append( tmp )\n",
        "results"
      ],
      "execution_count": 0,
      "outputs": [
        {
          "output_type": "execute_result",
          "data": {
            "text/plain": [
              "[{'name': '미국 USD',\n",
              "  'code': 'USD',\n",
              "  'buy_std_rate': '1,209.40',\n",
              "  'cash_sell': '1,188.24'},\n",
              " {'name': '유럽연합 EUR',\n",
              "  'code': 'EUR',\n",
              "  'buy_std_rate': '1,353.02',\n",
              "  'cash_sell': '1,326.10'},\n",
              " {'name': '일본 JPY (100엔)',\n",
              "  'code': 'JPY',\n",
              "  'buy_std_rate': '1,141.64',\n",
              "  'cash_sell': '1,121.67'},\n",
              " {'name': '중국 CNY',\n",
              "  'code': 'CNY',\n",
              "  'buy_std_rate': '170.74',\n",
              "  'cash_sell': '162.21'},\n",
              " {'name': '홍콩 HKD',\n",
              "  'code': 'HKD',\n",
              "  'buy_std_rate': '154.22',\n",
              "  'cash_sell': '151.19'},\n",
              " {'name': '대만 TWD',\n",
              "  'code': 'TWD',\n",
              "  'buy_std_rate': '38.69',\n",
              "  'cash_sell': '35.99'},\n",
              " {'name': '영국 GBP',\n",
              "  'code': 'GBP',\n",
              "  'buy_std_rate': '1,468.70',\n",
              "  'cash_sell': '1,439.77'},\n",
              " {'name': '오만 OMR',\n",
              "  'code': 'OMR',\n",
              "  'buy_std_rate': '3,141.22',\n",
              "  'cash_sell': '2,952.75'},\n",
              " {'name': '캐나다 CAD',\n",
              "  'code': 'CAD',\n",
              "  'buy_std_rate': '914.55',\n",
              "  'cash_sell': '896.54'},\n",
              " {'name': '스위스 CHF',\n",
              "  'code': 'CHF',\n",
              "  'buy_std_rate': '1,241.62',\n",
              "  'cash_sell': '1,217.17'},\n",
              " {'name': '스웨덴 SEK',\n",
              "  'code': 'SEK',\n",
              "  'buy_std_rate': '126.05',\n",
              "  'cash_sell': '122.97'},\n",
              " {'name': '호주 AUD',\n",
              "  'code': 'AUD',\n",
              "  'buy_std_rate': '824.15',\n",
              "  'cash_sell': '807.92'},\n",
              " {'name': '뉴질랜드 NZD',\n",
              "  'code': 'NZD',\n",
              "  'buy_std_rate': '784.36',\n",
              "  'cash_sell': '768.91'},\n",
              " {'name': '체코 CZK',\n",
              "  'code': 'CZK',\n",
              "  'buy_std_rate': '52.47',\n",
              "  'cash_sell': '47.75'},\n",
              " {'name': '칠레 CLP',\n",
              "  'code': 'CLP',\n",
              "  'buy_std_rate': '1.70',\n",
              "  'cash_sell': '1.57'},\n",
              " {'name': '터키 TRY',\n",
              "  'code': 'TRY',\n",
              "  'buy_std_rate': '220.50',\n",
              "  'cash_sell': '0.00'},\n",
              " {'name': '몽골 MNT',\n",
              "  'code': 'MNT',\n",
              "  'buy_std_rate': '0.45',\n",
              "  'cash_sell': '0.00'},\n",
              " {'name': '이스라엘 ILS',\n",
              "  'code': 'ILS',\n",
              "  'buy_std_rate': '347.60',\n",
              "  'cash_sell': '319.80'},\n",
              " {'name': '덴마크 DKK',\n",
              "  'code': 'DKK',\n",
              "  'buy_std_rate': '181.33',\n",
              "  'cash_sell': '176.89'},\n",
              " {'name': '노르웨이 NOK',\n",
              "  'code': 'NOK',\n",
              "  'buy_std_rate': '135.49',\n",
              "  'cash_sell': '132.18'},\n",
              " {'name': '사우디아라비아 SAR',\n",
              "  'code': 'SAR',\n",
              "  'buy_std_rate': '322.37',\n",
              "  'cash_sell': '300.13'},\n",
              " {'name': '쿠웨이트 KWD',\n",
              "  'code': 'KWD',\n",
              "  'buy_std_rate': '3,976.33',\n",
              "  'cash_sell': '3,658.23'},\n",
              " {'name': '바레인 BHD',\n",
              "  'code': 'BHD',\n",
              "  'buy_std_rate': '3,207.96',\n",
              "  'cash_sell': '2,951.33'},\n",
              " {'name': '아랍에미리트 AED',\n",
              "  'code': 'AED',\n",
              "  'buy_std_rate': '329.25',\n",
              "  'cash_sell': '306.54'},\n",
              " {'name': '요르단 JOD',\n",
              "  'code': 'JOD',\n",
              "  'buy_std_rate': '1,705.78',\n",
              "  'cash_sell': '1,569.32'},\n",
              " {'name': '이집트 EGP',\n",
              "  'code': 'EGP',\n",
              "  'buy_std_rate': '73.01',\n",
              "  'cash_sell': '0.00'},\n",
              " {'name': '태국 THB',\n",
              "  'code': 'THB',\n",
              "  'buy_std_rate': '39.35',\n",
              "  'cash_sell': '36.99'},\n",
              " {'name': '싱가포르 SGD',\n",
              "  'code': 'SGD',\n",
              "  'buy_std_rate': '875.01',\n",
              "  'cash_sell': '857.60'},\n",
              " {'name': '말레이시아 MYR',\n",
              "  'code': 'MYR',\n",
              "  'buy_std_rate': '288.98',\n",
              "  'cash_sell': '267.60'},\n",
              " {'name': '인도네시아 IDR 100',\n",
              "  'code': 'IDR',\n",
              "  'buy_std_rate': '8.53',\n",
              "  'cash_sell': '7.68'},\n",
              " {'name': '카타르 QAR',\n",
              "  'code': 'QAR',\n",
              "  'buy_std_rate': '330.45',\n",
              "  'cash_sell': '0.00'},\n",
              " {'name': '카자흐스탄 KZT',\n",
              "  'code': 'KZT',\n",
              "  'buy_std_rate': '3.12',\n",
              "  'cash_sell': '0.00'},\n",
              " {'name': '브루나이 BND',\n",
              "  'code': 'BND',\n",
              "  'buy_std_rate': '875.05',\n",
              "  'cash_sell': '822.55'},\n",
              " {'name': '인도 INR',\n",
              "  'code': 'INR',\n",
              "  'buy_std_rate': '17.16',\n",
              "  'cash_sell': '0.00'},\n",
              " {'name': '파키스탄 PKR',\n",
              "  'code': 'PKR',\n",
              "  'buy_std_rate': '7.56',\n",
              "  'cash_sell': '0.00'},\n",
              " {'name': '방글라데시 BDT',\n",
              "  'code': 'BDT',\n",
              "  'buy_std_rate': '14.33',\n",
              "  'cash_sell': '0.00'},\n",
              " {'name': '필리핀 PHP',\n",
              "  'code': 'PHP',\n",
              "  'buy_std_rate': '23.29',\n",
              "  'cash_sell': '21.39'},\n",
              " {'name': '멕시코 MXN',\n",
              "  'code': 'MXN',\n",
              "  'buy_std_rate': '62.25',\n",
              "  'cash_sell': '57.03'},\n",
              " {'name': '브라질 BRL',\n",
              "  'code': 'BRL',\n",
              "  'buy_std_rate': '308.59',\n",
              "  'cash_sell': '283.91'},\n",
              " {'name': '베트남 VND 100',\n",
              "  'code': 'VND',\n",
              "  'buy_std_rate': '5.21',\n",
              "  'cash_sell': '4.60'},\n",
              " {'name': '남아프리카 공화국 ZAR',\n",
              "  'code': 'ZAR',\n",
              "  'buy_std_rate': '80.37',\n",
              "  'cash_sell': '73.95'},\n",
              " {'name': '러시아 RUB',\n",
              "  'code': 'RUB',\n",
              "  'buy_std_rate': '18.57',\n",
              "  'cash_sell': '16.53'},\n",
              " {'name': '헝가리 HUF',\n",
              "  'code': 'HUF',\n",
              "  'buy_std_rate': '4.17',\n",
              "  'cash_sell': '3.84'},\n",
              " {'name': '폴란드 PLN',\n",
              "  'code': 'PLN',\n",
              "  'buy_std_rate': '312.96',\n",
              "  'cash_sell': '287.93'}]"
            ]
          },
          "metadata": {
            "tags": []
          },
          "execution_count": 23
        }
      ]
    },
    {
      "cell_type": "code",
      "metadata": {
        "id": "lxkK31E1eS2m",
        "colab_type": "code",
        "colab": {}
      },
      "source": [
        "results = [ {\n",
        "    'name':tr.select_one('td.tit').a.string.strip(),\n",
        "    'code':tr.select_one('td.tit').a['href'][-6:-3],\n",
        "    'buy_std_rate':tr.select_one('td.sale').string.strip(),\n",
        "    'cash_sell':tr.select_one('td:nth-child(4)').string.strip()\n",
        "} for tr in soup.select('table.tbl_exchange > tbody > tr') \n",
        "  if tr.select_one('td.tit').a.string.strip().count('JPY') == 0\n",
        "]"
      ],
      "execution_count": 0,
      "outputs": []
    },
    {
      "cell_type": "code",
      "metadata": {
        "id": "VxPQBdm_eS2q",
        "colab_type": "code",
        "colab": {},
        "outputId": "829de39a-6c96-4ba1-8326-da6e53e80486"
      },
      "source": [
        "results[:2]"
      ],
      "execution_count": 0,
      "outputs": [
        {
          "output_type": "execute_result",
          "data": {
            "text/plain": [
              "[{'name': '미국 USD',\n",
              "  'code': 'USD',\n",
              "  'buy_std_rate': '1,209.40',\n",
              "  'cash_sell': '1,188.24'},\n",
              " {'name': '유럽연합 EUR',\n",
              "  'code': 'EUR',\n",
              "  'buy_std_rate': '1,353.02',\n",
              "  'cash_sell': '1,326.10'}]"
            ]
          },
          "metadata": {
            "tags": []
          },
          "execution_count": 29
        }
      ]
    },
    {
      "cell_type": "code",
      "metadata": {
        "id": "xydNiKNAeS2v",
        "colab_type": "code",
        "colab": {}
      },
      "source": [
        ""
      ],
      "execution_count": 0,
      "outputs": []
    }
  ]
}