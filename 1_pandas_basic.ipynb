{
  "nbformat": 4,
  "nbformat_minor": 0,
  "metadata": {
    "colab": {
      "name": "1.pandas_basic.ipynb",
      "provenance": [],
      "collapsed_sections": [],
      "toc_visible": true,
      "authorship_tag": "ABX9TyMqpoyhz1hfMEFuZ1PpPTkV",
      "include_colab_link": true
    },
    "kernelspec": {
      "name": "python3",
      "display_name": "Python 3"
    }
  },
  "cells": [
    {
      "cell_type": "markdown",
      "metadata": {
        "id": "view-in-github",
        "colab_type": "text"
      },
      "source": [
        "<a href=\"https://colab.research.google.com/github/julieisok/OurFisrtML/blob/master/1_pandas_basic.ipynb\" target=\"_parent\"><img src=\"https://colab.research.google.com/assets/colab-badge.svg\" alt=\"Open In Colab\"/></a>"
      ]
    },
    {
      "cell_type": "code",
      "metadata": {
        "id": "otMNKxF9LQPq",
        "colab_type": "code",
        "colab": {}
      },
      "source": [
        ""
      ],
      "execution_count": 0,
      "outputs": []
    },
    {
      "cell_type": "markdown",
      "metadata": {
        "id": "Q0PNmpUHLevT",
        "colab_type": "text"
      },
      "source": [
        "# 데이터 분석 절차\n"
      ]
    },
    {
      "cell_type": "markdown",
      "metadata": {
        "id": "H2YZbdVJeNn4",
        "colab_type": "text"
      },
      "source": [
        "|단계|제목|내용|\n",
        "|:--:|:--|:--|\n",
        "|1|연구 목표 설정|- 6단계의 산출물을 염두에 두고 결정<br>- 예:정확도 3%향상, 담당자의 메뉴에 추가, 신규 서비스(번역 등), 의사결정(정책결정) 자료 |\n",
        "|2|데이터 획득/수집|- level 1 : 요청해서 제공받음 (공공, 사내, 연구기관/대학기관 등등). 어느정도 정제되어 있음<br>- level 2 : open API를 이용하여 획득<br>- level 3 : Web Scraping : 웹을 긁으면 데이터를 뽑을 수 있다<br>- level 4 : Crawling => selenium, 사람이 손을 타는 작업을 자동화 한다(ajax가 적용된 사이트)|\n",
        "|3|데이터 준비|- 정제, 전처리, 시각화를 통해서 데이터에 대한 통찰을 얻는다.<br>- 데이터의 품질을 향상시키는데 방점<br>- pandas, matplotlib, 정규식|\n",
        "|4|데이터 탐색|- pandas, matplotlib, seaborn 등등<br>- 데이터를 깊이 있게 이해하는데 주안점을 둔다. <br>- 변수간의 상호관계성, 시각적 분석(EDA), 통계적 분석, \n",
        "|5|데이터 모델링 및 모델 구축|- 머신러닝, 딥러닝의 모델을 구축<br>- 연구 목표의 답을 찾는 과정<br>- 머신러닝 : 지도학습, 비지도학습, 준지도학습, 강화학습<br>- 딥러닝 : CNN, RNN, DON, GAN, UNet,..등등. 신경망|\n",
        "|6|시스템 통합 혹은 레포트|- 1단계에서 정한 목표를 산출물로 구현하는 단계<br>- 분석이라면 레포트 형태가, 분석 보고서 형태가 주종을 이룰 것이다. |\n"
      ]
    },
    {
      "cell_type": "markdown",
      "metadata": {
        "id": "QEOxmUeMLk1y",
        "colab_type": "text"
      },
      "source": [
        "# pandas 개요\n",
        "\n",
        "- pandas(판다스, 팬더스)는 R의 핵심 자료구조인 데이터프레임, 시리즈를 파이썬에 추가한 모듈\n",
        "- R에 대응하는 파이썬의 모듈이 pandas이다\n",
        "- numpy를 기반으로 구현\n",
        "- Python Data Analysis Library\n",
        "- https://pandas.pydata.org/"
      ]
    },
    {
      "cell_type": "markdown",
      "metadata": {
        "id": "609xcfwILndR",
        "colab_type": "text"
      },
      "source": [
        "# pandas 기초\n"
      ]
    },
    {
      "cell_type": "code",
      "metadata": {
        "id": "Akd-1PknLzav",
        "colab_type": "code",
        "colab": {}
      },
      "source": [
        "# 기본 표현으로 모듈 가져오기 \n",
        "import numpy as np \n",
        "import pandas as pd"
      ],
      "execution_count": 0,
      "outputs": []
    },
    {
      "cell_type": "code",
      "metadata": {
        "id": "eYD6Z9JhL8gw",
        "colab_type": "code",
        "colab": {
          "base_uri": "https://localhost:8080/",
          "height": 55
        },
        "outputId": "0ce608eb-6909-4f37-9c38-a8827c2420f2"
      },
      "source": [
        "print( dir(pd) )"
      ],
      "execution_count": 3,
      "outputs": [
        {
          "output_type": "stream",
          "text": [
            "['Categorical', 'CategoricalDtype', 'CategoricalIndex', 'DataFrame', 'DateOffset', 'DatetimeIndex', 'DatetimeTZDtype', 'ExcelFile', 'ExcelWriter', 'Float64Index', 'Grouper', 'HDFStore', 'Index', 'IndexSlice', 'Int16Dtype', 'Int32Dtype', 'Int64Dtype', 'Int64Index', 'Int8Dtype', 'Interval', 'IntervalDtype', 'IntervalIndex', 'MultiIndex', 'NaT', 'NamedAgg', 'Panel', 'Period', 'PeriodDtype', 'PeriodIndex', 'RangeIndex', 'Series', 'SparseArray', 'SparseDataFrame', 'SparseDtype', 'SparseSeries', 'Timedelta', 'TimedeltaIndex', 'Timestamp', 'UInt16Dtype', 'UInt32Dtype', 'UInt64Dtype', 'UInt64Index', 'UInt8Dtype', '__builtins__', '__cached__', '__doc__', '__docformat__', '__file__', '__git_version__', '__loader__', '__name__', '__package__', '__path__', '__spec__', '__version__', '_config', '_hashtable', '_lib', '_libs', '_np_version_under1p14', '_np_version_under1p15', '_np_version_under1p16', '_np_version_under1p17', '_tslib', '_typing', '_version', 'api', 'array', 'arrays', 'bdate_range', 'compat', 'concat', 'core', 'crosstab', 'cut', 'date_range', 'datetime', 'describe_option', 'errors', 'eval', 'factorize', 'get_dummies', 'get_option', 'infer_freq', 'interval_range', 'io', 'isna', 'isnull', 'lreshape', 'melt', 'merge', 'merge_asof', 'merge_ordered', 'notna', 'notnull', 'np', 'offsets', 'option_context', 'options', 'pandas', 'period_range', 'pivot', 'pivot_table', 'plotting', 'qcut', 'read_clipboard', 'read_csv', 'read_excel', 'read_feather', 'read_fwf', 'read_gbq', 'read_hdf', 'read_html', 'read_json', 'read_msgpack', 'read_parquet', 'read_pickle', 'read_sas', 'read_spss', 'read_sql', 'read_sql_query', 'read_sql_table', 'read_stata', 'read_table', 'reset_option', 'set_eng_float_format', 'set_option', 'show_versions', 'test', 'testing', 'timedelta_range', 'to_datetime', 'to_msgpack', 'to_numeric', 'to_pickle', 'to_timedelta', 'tseries', 'unique', 'util', 'value_counts', 'wide_to_long']\n"
          ],
          "name": "stdout"
        }
      ]
    },
    {
      "cell_type": "code",
      "metadata": {
        "id": "mSfsKnHrMDSf",
        "colab_type": "code",
        "colab": {
          "base_uri": "https://localhost:8080/",
          "height": 35
        },
        "outputId": "e52adcd8-8ad3-40b4-cd03-4131b774bf60"
      },
      "source": [
        "pd.__version__"
      ],
      "execution_count": 4,
      "outputs": [
        {
          "output_type": "execute_result",
          "data": {
            "text/plain": [
              "'0.25.3'"
            ]
          },
          "metadata": {
            "tags": []
          },
          "execution_count": 4
        }
      ]
    },
    {
      "cell_type": "code",
      "metadata": {
        "id": "uDh-L502MUA3",
        "colab_type": "code",
        "colab": {}
      },
      "source": [
        "# pandas 1.0 버전 설치하고 싶을때 명령어 \n",
        "# ! 명령어 \n",
        "# 이 명령을 통해 리눅스 상에 특정 명령을 지시할 수 있다 \n",
        "! pip install pandas==1.0.1"
      ],
      "execution_count": 0,
      "outputs": []
    },
    {
      "cell_type": "markdown",
      "metadata": {
        "id": "2SM2wReYodmu",
        "colab_type": "text"
      },
      "source": [
        "## Series\n",
        "\n",
        "- pandas의 자료구조 중, 1차원 형태의 자료구조\n",
        "- n개의 구성원을 가질 수 있고, 한 개의 Series에서는 모든 구성원이 동일한 타입을 가진다\n",
        "\n"
      ]
    },
    {
      "cell_type": "code",
      "metadata": {
        "id": "PDwIu5sjroLp",
        "colab_type": "code",
        "colab": {
          "base_uri": "https://localhost:8080/",
          "height": 143
        },
        "outputId": "e1c9ef97-4c33-4012-dd5f-f839bccf8266"
      },
      "source": [
        "# 첫글자 대문자 - Class 의미 \n",
        "# NaN(난, or 넌) : Not a Number : 데이터가 없다 => 결측치 \n",
        "# 리스트로부터 시리즈 생성\n",
        "a = pd.Series( [ 1, 3, 5, np.nan, 6, 8] )\n",
        "a"
      ],
      "execution_count": 8,
      "outputs": [
        {
          "output_type": "execute_result",
          "data": {
            "text/plain": [
              "0    1.0\n",
              "1    3.0\n",
              "2    5.0\n",
              "3    NaN\n",
              "4    6.0\n",
              "5    8.0\n",
              "dtype: float64"
            ]
          },
          "metadata": {
            "tags": []
          },
          "execution_count": 8
        }
      ]
    },
    {
      "cell_type": "markdown",
      "metadata": {
        "id": "CwOdyfsmsjHX",
        "colab_type": "text"
      },
      "source": [
        "### 자료구조가 만들어지면 \n",
        "\n",
        "- 데이터의 볼륨, 타입, 성분, 모양, 특징 등등을 살핀다\n",
        "- 데이터에 대한 **통찰**을 얻기 위한 작업"
      ]
    },
    {
      "cell_type": "code",
      "metadata": {
        "id": "MfY1Qj1Tszqk",
        "colab_type": "code",
        "colab": {
          "base_uri": "https://localhost:8080/",
          "height": 35
        },
        "outputId": "f99e9c7b-55f8-45c7-b856-94b2346f7254"
      },
      "source": [
        "# Series의 타입을 확인\n",
        "a.dtype"
      ],
      "execution_count": 9,
      "outputs": [
        {
          "output_type": "execute_result",
          "data": {
            "text/plain": [
              "dtype('float64')"
            ]
          },
          "metadata": {
            "tags": []
          },
          "execution_count": 9
        }
      ]
    },
    {
      "cell_type": "code",
      "metadata": {
        "id": "JQOzVvJRs5yD",
        "colab_type": "code",
        "colab": {
          "base_uri": "https://localhost:8080/",
          "height": 35
        },
        "outputId": "a94cc95e-9494-4da5-8b02-a65b0e5a609f"
      },
      "source": [
        "# Series의 모양, 볼륨을 확인\n",
        "# shape은 튜플로 리턴, 1차원부터 차례대로 크기를 기술\n",
        "a.shape"
      ],
      "execution_count": 10,
      "outputs": [
        {
          "output_type": "execute_result",
          "data": {
            "text/plain": [
              "(6,)"
            ]
          },
          "metadata": {
            "tags": []
          },
          "execution_count": 10
        }
      ]
    },
    {
      "cell_type": "code",
      "metadata": {
        "id": "aOha0UrwtDC7",
        "colab_type": "code",
        "colab": {
          "base_uri": "https://localhost:8080/",
          "height": 35
        },
        "outputId": "5097fb76-8d04-41bd-f8d8-3467454fc7ce"
      },
      "source": [
        "# Series의 차원\n",
        "a.ndim, len(a.shape)"
      ],
      "execution_count": 12,
      "outputs": [
        {
          "output_type": "execute_result",
          "data": {
            "text/plain": [
              "(1, 1)"
            ]
          },
          "metadata": {
            "tags": []
          },
          "execution_count": 12
        }
      ]
    },
    {
      "cell_type": "code",
      "metadata": {
        "id": "dkb10UCNtZOi",
        "colab_type": "code",
        "colab": {
          "base_uri": "https://localhost:8080/",
          "height": 35
        },
        "outputId": "ef5036a7-8b20-4005-e920-ff0a97f74f73"
      },
      "source": [
        "# 인덱스 : 시리즈의 왼쪽에 위치, 데이터의 순서를 표방\n",
        "a.index"
      ],
      "execution_count": 13,
      "outputs": [
        {
          "output_type": "execute_result",
          "data": {
            "text/plain": [
              "RangeIndex(start=0, stop=6, step=1)"
            ]
          },
          "metadata": {
            "tags": []
          },
          "execution_count": 13
        }
      ]
    },
    {
      "cell_type": "markdown",
      "metadata": {
        "id": "mgV3CSElt-jm",
        "colab_type": "text"
      },
      "source": [
        "## DataFrame\n",
        "\n",
        "- pandas의 메인 자료 구조 \n",
        "- 2차원(2D)으로 표현\n",
        "- 성분 = 인덱스(행, rows), 컬럼(열, cols), 값(values)\n",
        " - 데이터의 개수는 => rows \n",
        " - 데이터의 특성(features, 변수)수 => cols\n",
        " - 특성의 성분들 중에는 \n",
        "   - 독립변수 : 상호 영향을 미치지 않는다\n",
        "   - 종속변수 : 독립변수에 의해서 값이 정해지거나 등등 영향을 받는다 -> 머신러닝에서는 label(답)이라 표현하고, 지도학습법 데이터의 형태이다 "
      ]
    },
    {
      "cell_type": "code",
      "metadata": {
        "id": "as7_2AjdwBV5",
        "colab_type": "code",
        "colab": {
          "base_uri": "https://localhost:8080/",
          "height": 35
        },
        "outputId": "29f5a86f-891e-44ad-c7e3-446f2e48b39f"
      },
      "source": [
        "# DataFrame 만들어보기\n",
        "# 더미 컬럼\n",
        "cols = list('ABCD')\n",
        "cols"
      ],
      "execution_count": 14,
      "outputs": [
        {
          "output_type": "execute_result",
          "data": {
            "text/plain": [
              "['A', 'B', 'C', 'D']"
            ]
          },
          "metadata": {
            "tags": []
          },
          "execution_count": 14
        }
      ]
    },
    {
      "cell_type": "code",
      "metadata": {
        "id": "Qt28KgtFwBq2",
        "colab_type": "code",
        "colab": {
          "base_uri": "https://localhost:8080/",
          "height": 35
        },
        "outputId": "87330e73-44cf-4bda-9753-ce916869722d"
      },
      "source": [
        "# 더미 인덱스\n",
        "indexes = pd.date_range('20200211', periods=7)\n",
        "indexes\n",
        "# 인덱스 7개, 컬럼 4개 \n",
        "len(indexes), len(cols)"
      ],
      "execution_count": 17,
      "outputs": [
        {
          "output_type": "execute_result",
          "data": {
            "text/plain": [
              "(7, 4)"
            ]
          },
          "metadata": {
            "tags": []
          },
          "execution_count": 17
        }
      ]
    },
    {
      "cell_type": "code",
      "metadata": {
        "id": "p73Mrt-8wL9G",
        "colab_type": "code",
        "colab": {
          "base_uri": "https://localhost:8080/",
          "height": 143
        },
        "outputId": "0f6b0c45-0f41-4da4-9e15-9e65302897aa"
      },
      "source": [
        "# 더미 값 => (7,4)\n",
        "datas = np.random.randn(7,4)\n",
        "datas.shape, datas"
      ],
      "execution_count": 18,
      "outputs": [
        {
          "output_type": "execute_result",
          "data": {
            "text/plain": [
              "((7, 4), array([[ 0.70623117, -0.73150784, -0.5552628 , -0.25369629],\n",
              "        [ 1.44186158,  0.90081587,  0.3988852 ,  1.91107615],\n",
              "        [ 0.0560901 , -0.15594926,  0.17583694, -0.0549742 ],\n",
              "        [ 0.84444905,  0.09730459, -1.97633307, -0.535782  ],\n",
              "        [-0.11727719,  1.6889284 , -1.24763214, -1.18810997],\n",
              "        [ 0.75222674, -0.92408311, -1.15503363,  0.93956763],\n",
              "        [-0.0122367 ,  0.50547451, -0.40655994, -1.86836702]]))"
            ]
          },
          "metadata": {
            "tags": []
          },
          "execution_count": 18
        }
      ]
    },
    {
      "cell_type": "code",
      "metadata": {
        "id": "HhKelN1exTT-",
        "colab_type": "code",
        "colab": {
          "base_uri": "https://localhost:8080/",
          "height": 161
        },
        "outputId": "9fe9e93f-91b7-4a7b-be14-e2bcf5ca881f"
      },
      "source": [
        "# df 생성\n",
        "df = pd.DataFrame( datas, indexes, cols )\n",
        "print( df )"
      ],
      "execution_count": 20,
      "outputs": [
        {
          "output_type": "stream",
          "text": [
            "                   A         B         C         D\n",
            "2020-02-11  0.706231 -0.731508 -0.555263 -0.253696\n",
            "2020-02-12  1.441862  0.900816  0.398885  1.911076\n",
            "2020-02-13  0.056090 -0.155949  0.175837 -0.054974\n",
            "2020-02-14  0.844449  0.097305 -1.976333 -0.535782\n",
            "2020-02-15 -0.117277  1.688928 -1.247632 -1.188110\n",
            "2020-02-16  0.752227 -0.924083 -1.155034  0.939568\n",
            "2020-02-17 -0.012237  0.505475 -0.406560 -1.868367\n"
          ],
          "name": "stdout"
        }
      ]
    },
    {
      "cell_type": "markdown",
      "metadata": {
        "id": "yEAHSLlbx9NL",
        "colab_type": "text"
      },
      "source": [
        "## 데이터의 기초 통찰을 얻기위한 점검\n",
        "\n",
        "- 데이터가 데이터프레임으로 로드된 후 점검할 사항"
      ]
    },
    {
      "cell_type": "code",
      "metadata": {
        "id": "TRey7haDxTWu",
        "colab_type": "code",
        "colab": {
          "base_uri": "https://localhost:8080/",
          "height": 71
        },
        "outputId": "4f3f4cd7-2674-4869-9bc5-13d96ebdd667"
      },
      "source": [
        "# 상위값 확인\n",
        "df.head() # 기본으로 출력되는 값 : 5개\n",
        "print( df.head(2) ) "
      ],
      "execution_count": 23,
      "outputs": [
        {
          "output_type": "stream",
          "text": [
            "                   A         B         C         D\n",
            "2020-02-11  0.706231 -0.731508 -0.555263 -0.253696\n",
            "2020-02-12  1.441862  0.900816  0.398885  1.911076\n"
          ],
          "name": "stdout"
        }
      ]
    },
    {
      "cell_type": "code",
      "metadata": {
        "id": "DHcZClBywMCl",
        "colab_type": "code",
        "colab": {
          "base_uri": "https://localhost:8080/",
          "height": 71
        },
        "outputId": "e6165d7f-493e-4b90-faa7-c0396c6212c0"
      },
      "source": [
        "# 하위값 확인\n",
        "print( df.tail(2) )"
      ],
      "execution_count": 25,
      "outputs": [
        {
          "output_type": "stream",
          "text": [
            "                   A         B         C         D\n",
            "2020-02-16  0.752227 -0.924083 -1.155034  0.939568\n",
            "2020-02-17 -0.012237  0.505475 -0.406560 -1.868367\n"
          ],
          "name": "stdout"
        }
      ]
    },
    {
      "cell_type": "code",
      "metadata": {
        "id": "ufzGinboyf40",
        "colab_type": "code",
        "colab": {
          "base_uri": "https://localhost:8080/",
          "height": 35
        },
        "outputId": "348a2ec3-304a-4c66-af92-b7343c9912f9"
      },
      "source": [
        "# 성분별 확인\n",
        "df.columns"
      ],
      "execution_count": 27,
      "outputs": [
        {
          "output_type": "execute_result",
          "data": {
            "text/plain": [
              "Index(['A', 'B', 'C', 'D'], dtype='object')"
            ]
          },
          "metadata": {
            "tags": []
          },
          "execution_count": 27
        }
      ]
    },
    {
      "cell_type": "code",
      "metadata": {
        "id": "HjcSf4wayf72",
        "colab_type": "code",
        "colab": {
          "base_uri": "https://localhost:8080/",
          "height": 71
        },
        "outputId": "eb71642a-b950-45db-d24b-c97631b47d5d"
      },
      "source": [
        "df.index"
      ],
      "execution_count": 28,
      "outputs": [
        {
          "output_type": "execute_result",
          "data": {
            "text/plain": [
              "DatetimeIndex(['2020-02-11', '2020-02-12', '2020-02-13', '2020-02-14',\n",
              "               '2020-02-15', '2020-02-16', '2020-02-17'],\n",
              "              dtype='datetime64[ns]', freq='D')"
            ]
          },
          "metadata": {
            "tags": []
          },
          "execution_count": 28
        }
      ]
    },
    {
      "cell_type": "code",
      "metadata": {
        "id": "JPhpNmf2ypY6",
        "colab_type": "code",
        "colab": {
          "base_uri": "https://localhost:8080/",
          "height": 143
        },
        "outputId": "206f42b7-720a-4b53-f589-816a0a33b264"
      },
      "source": [
        "df.values"
      ],
      "execution_count": 29,
      "outputs": [
        {
          "output_type": "execute_result",
          "data": {
            "text/plain": [
              "array([[ 0.70623117, -0.73150784, -0.5552628 , -0.25369629],\n",
              "       [ 1.44186158,  0.90081587,  0.3988852 ,  1.91107615],\n",
              "       [ 0.0560901 , -0.15594926,  0.17583694, -0.0549742 ],\n",
              "       [ 0.84444905,  0.09730459, -1.97633307, -0.535782  ],\n",
              "       [-0.11727719,  1.6889284 , -1.24763214, -1.18810997],\n",
              "       [ 0.75222674, -0.92408311, -1.15503363,  0.93956763],\n",
              "       [-0.0122367 ,  0.50547451, -0.40655994, -1.86836702]])"
            ]
          },
          "metadata": {
            "tags": []
          },
          "execution_count": 29
        }
      ]
    },
    {
      "cell_type": "code",
      "metadata": {
        "id": "vBxEw17iyrMU",
        "colab_type": "code",
        "colab": {
          "base_uri": "https://localhost:8080/",
          "height": 35
        },
        "outputId": "2104c68f-0121-4163-a18e-a6a37b9b0894"
      },
      "source": [
        "# 값들의 타입은 배열\n",
        "type(df.values)"
      ],
      "execution_count": 30,
      "outputs": [
        {
          "output_type": "execute_result",
          "data": {
            "text/plain": [
              "numpy.ndarray"
            ]
          },
          "metadata": {
            "tags": []
          },
          "execution_count": 30
        }
      ]
    },
    {
      "cell_type": "code",
      "metadata": {
        "id": "qYIeHIsqyv9p",
        "colab_type": "code",
        "colab": {
          "base_uri": "https://localhost:8080/",
          "height": 35
        },
        "outputId": "19a329b2-10d8-4525-ff1d-46596bdf85d0"
      },
      "source": [
        "# 데이터프레임의 볼륨\n",
        "df.shape"
      ],
      "execution_count": 31,
      "outputs": [
        {
          "output_type": "execute_result",
          "data": {
            "text/plain": [
              "(7, 4)"
            ]
          },
          "metadata": {
            "tags": []
          },
          "execution_count": 31
        }
      ]
    },
    {
      "cell_type": "code",
      "metadata": {
        "id": "0Cs2q7RQy3b-",
        "colab_type": "code",
        "colab": {
          "base_uri": "https://localhost:8080/",
          "height": 107
        },
        "outputId": "099f7a9b-4da9-42eb-b8b5-bc1f1cf9b29e"
      },
      "source": [
        "# 데이터프레임의 타입들(컬럼별로 타입이 다를수 있다)\n",
        "df.dtypes"
      ],
      "execution_count": 32,
      "outputs": [
        {
          "output_type": "execute_result",
          "data": {
            "text/plain": [
              "A    float64\n",
              "B    float64\n",
              "C    float64\n",
              "D    float64\n",
              "dtype: object"
            ]
          },
          "metadata": {
            "tags": []
          },
          "execution_count": 32
        }
      ]
    },
    {
      "cell_type": "code",
      "metadata": {
        "id": "XJChvgaAy3gq",
        "colab_type": "code",
        "colab": {
          "base_uri": "https://localhost:8080/",
          "height": 197
        },
        "outputId": "b0730341-5ba6-40db-fa12-9390a90aa78b"
      },
      "source": [
        "# 데이터프레임의 기본 정보\n",
        "df.info()"
      ],
      "execution_count": 33,
      "outputs": [
        {
          "output_type": "stream",
          "text": [
            "<class 'pandas.core.frame.DataFrame'>\n",
            "DatetimeIndex: 7 entries, 2020-02-11 to 2020-02-17\n",
            "Freq: D\n",
            "Data columns (total 4 columns):\n",
            "A    7 non-null float64\n",
            "B    7 non-null float64\n",
            "C    7 non-null float64\n",
            "D    7 non-null float64\n",
            "dtypes: float64(4)\n",
            "memory usage: 280.0 bytes\n"
          ],
          "name": "stdout"
        }
      ]
    },
    {
      "cell_type": "code",
      "metadata": {
        "id": "huYlKIlHy3jl",
        "colab_type": "code",
        "colab": {
          "base_uri": "https://localhost:8080/",
          "height": 179
        },
        "outputId": "c8381217-8b9e-4fc4-8552-51ea15c63360"
      },
      "source": [
        "# 데이터프레임의 기초통계정보 - \n",
        "print( df.describe() )"
      ],
      "execution_count": 36,
      "outputs": [
        {
          "output_type": "stream",
          "text": [
            "              A         B         C         D\n",
            "count  7.000000  7.000000  7.000000  7.000000\n",
            "mean   0.524478  0.197283 -0.680871 -0.150041\n",
            "std    0.569821  0.919223  0.838164  1.267166\n",
            "min   -0.117277 -0.924083 -1.976333 -1.868367\n",
            "25%    0.021927 -0.443729 -1.201333 -0.861946\n",
            "50%    0.706231  0.097305 -0.555263 -0.253696\n",
            "75%    0.798338  0.703145 -0.115361  0.442297\n",
            "max    1.441862  1.688928  0.398885  1.911076\n"
          ],
          "name": "stdout"
        }
      ]
    },
    {
      "cell_type": "markdown",
      "metadata": {
        "id": "tTblcCWczrE8",
        "colab_type": "text"
      },
      "source": [
        "## 데이터 다루기 \n"
      ]
    },
    {
      "cell_type": "code",
      "metadata": {
        "id": "SEZuOfj-y3mh",
        "colab_type": "code",
        "colab": {
          "base_uri": "https://localhost:8080/",
          "height": 538
        },
        "outputId": "efb93fa2-a283-44fc-e6b7-b2ed59af408c"
      },
      "source": [
        "# B열기준 데이터를 정렬, 내림차순\n",
        "df.sort_values( by='B', ascending=False )"
      ],
      "execution_count": 37,
      "outputs": [
        {
          "output_type": "error",
          "ename": "ImportError",
          "evalue": "ignored",
          "traceback": [
            "\u001b[0;31m---------------------------------------------------------------------------\u001b[0m",
            "\u001b[0;31mImportError\u001b[0m                               Traceback (most recent call last)",
            "\u001b[0;32m/usr/local/lib/python3.6/dist-packages/IPython/core/formatters.py\u001b[0m in \u001b[0;36m__call__\u001b[0;34m(self, obj)\u001b[0m\n\u001b[1;32m    336\u001b[0m             \u001b[0mmethod\u001b[0m \u001b[0;34m=\u001b[0m \u001b[0mget_real_method\u001b[0m\u001b[0;34m(\u001b[0m\u001b[0mobj\u001b[0m\u001b[0;34m,\u001b[0m \u001b[0mself\u001b[0m\u001b[0;34m.\u001b[0m\u001b[0mprint_method\u001b[0m\u001b[0;34m)\u001b[0m\u001b[0;34m\u001b[0m\u001b[0;34m\u001b[0m\u001b[0m\n\u001b[1;32m    337\u001b[0m             \u001b[0;32mif\u001b[0m \u001b[0mmethod\u001b[0m \u001b[0;32mis\u001b[0m \u001b[0;32mnot\u001b[0m \u001b[0;32mNone\u001b[0m\u001b[0;34m:\u001b[0m\u001b[0;34m\u001b[0m\u001b[0;34m\u001b[0m\u001b[0m\n\u001b[0;32m--> 338\u001b[0;31m                 \u001b[0;32mreturn\u001b[0m \u001b[0mmethod\u001b[0m\u001b[0;34m(\u001b[0m\u001b[0;34m)\u001b[0m\u001b[0;34m\u001b[0m\u001b[0;34m\u001b[0m\u001b[0m\n\u001b[0m\u001b[1;32m    339\u001b[0m             \u001b[0;32mreturn\u001b[0m \u001b[0;32mNone\u001b[0m\u001b[0;34m\u001b[0m\u001b[0;34m\u001b[0m\u001b[0m\n\u001b[1;32m    340\u001b[0m         \u001b[0;32melse\u001b[0m\u001b[0;34m:\u001b[0m\u001b[0;34m\u001b[0m\u001b[0;34m\u001b[0m\u001b[0m\n",
            "\u001b[0;32m/usr/local/lib/python3.6/dist-packages/pandas/core/frame.py\u001b[0m in \u001b[0;36m_repr_html_\u001b[0;34m(self)\u001b[0m\n\u001b[1;32m    700\u001b[0m             \u001b[0mself\u001b[0m\u001b[0;34m.\u001b[0m\u001b[0minfo\u001b[0m\u001b[0;34m(\u001b[0m\u001b[0mbuf\u001b[0m\u001b[0;34m=\u001b[0m\u001b[0mbuf\u001b[0m\u001b[0;34m)\u001b[0m\u001b[0;34m\u001b[0m\u001b[0;34m\u001b[0m\u001b[0m\n\u001b[1;32m    701\u001b[0m             \u001b[0;31m# need to escape the <class>, should be the first line.\u001b[0m\u001b[0;34m\u001b[0m\u001b[0;34m\u001b[0m\u001b[0;34m\u001b[0m\u001b[0m\n\u001b[0;32m--> 702\u001b[0;31m             \u001b[0mval\u001b[0m \u001b[0;34m=\u001b[0m \u001b[0mbuf\u001b[0m\u001b[0;34m.\u001b[0m\u001b[0mgetvalue\u001b[0m\u001b[0;34m(\u001b[0m\u001b[0;34m)\u001b[0m\u001b[0;34m.\u001b[0m\u001b[0mreplace\u001b[0m\u001b[0;34m(\u001b[0m\u001b[0;34m\"<\"\u001b[0m\u001b[0;34m,\u001b[0m \u001b[0;34mr\"&lt;\"\u001b[0m\u001b[0;34m,\u001b[0m \u001b[0;36m1\u001b[0m\u001b[0;34m)\u001b[0m\u001b[0;34m\u001b[0m\u001b[0;34m\u001b[0m\u001b[0m\n\u001b[0m\u001b[1;32m    703\u001b[0m             \u001b[0mval\u001b[0m \u001b[0;34m=\u001b[0m \u001b[0mval\u001b[0m\u001b[0;34m.\u001b[0m\u001b[0mreplace\u001b[0m\u001b[0;34m(\u001b[0m\u001b[0;34m\">\"\u001b[0m\u001b[0;34m,\u001b[0m \u001b[0;34mr\"&gt;\"\u001b[0m\u001b[0;34m,\u001b[0m \u001b[0;36m1\u001b[0m\u001b[0;34m)\u001b[0m\u001b[0;34m\u001b[0m\u001b[0;34m\u001b[0m\u001b[0m\n\u001b[1;32m    704\u001b[0m             \u001b[0;32mreturn\u001b[0m \u001b[0;34m\"<pre>\"\u001b[0m \u001b[0;34m+\u001b[0m \u001b[0mval\u001b[0m \u001b[0;34m+\u001b[0m \u001b[0;34m\"</pre>\"\u001b[0m\u001b[0;34m\u001b[0m\u001b[0;34m\u001b[0m\u001b[0m\n",
            "\u001b[0;32m/usr/local/lib/python3.6/dist-packages/pandas/io/formats/format.py\u001b[0m in \u001b[0;36mto_html\u001b[0;34m(self, classes, notebook, border)\u001b[0m\n\u001b[1;32m    835\u001b[0m                 \u001b[0mmax_len\u001b[0m \u001b[0;34m=\u001b[0m \u001b[0mSeries\u001b[0m\u001b[0;34m(\u001b[0m\u001b[0mlines\u001b[0m\u001b[0;34m)\u001b[0m\u001b[0;34m.\u001b[0m\u001b[0mstr\u001b[0m\u001b[0;34m.\u001b[0m\u001b[0mlen\u001b[0m\u001b[0;34m(\u001b[0m\u001b[0;34m)\u001b[0m\u001b[0;34m.\u001b[0m\u001b[0mmax\u001b[0m\u001b[0;34m(\u001b[0m\u001b[0;34m)\u001b[0m\u001b[0;34m\u001b[0m\u001b[0;34m\u001b[0m\u001b[0m\n\u001b[1;32m    836\u001b[0m                 \u001b[0;31m# plus truncate dot col\u001b[0m\u001b[0;34m\u001b[0m\u001b[0;34m\u001b[0m\u001b[0;34m\u001b[0m\u001b[0m\n\u001b[0;32m--> 837\u001b[0;31m                 \u001b[0mdif\u001b[0m \u001b[0;34m=\u001b[0m \u001b[0mmax_len\u001b[0m \u001b[0;34m-\u001b[0m \u001b[0mself\u001b[0m\u001b[0;34m.\u001b[0m\u001b[0mw\u001b[0m\u001b[0;34m\u001b[0m\u001b[0;34m\u001b[0m\u001b[0m\n\u001b[0m\u001b[1;32m    838\u001b[0m                 \u001b[0;31m# '+ 1' to avoid too wide repr (GH PR #17023)\u001b[0m\u001b[0;34m\u001b[0m\u001b[0;34m\u001b[0m\u001b[0;34m\u001b[0m\u001b[0m\n\u001b[1;32m    839\u001b[0m                 \u001b[0madj_dif\u001b[0m \u001b[0;34m=\u001b[0m \u001b[0mdif\u001b[0m \u001b[0;34m+\u001b[0m \u001b[0;36m1\u001b[0m\u001b[0;34m\u001b[0m\u001b[0;34m\u001b[0m\u001b[0m\n",
            "\u001b[0;32m/usr/local/lib/python3.6/dist-packages/pandas/io/formats/html.py\u001b[0m in \u001b[0;36m<module>\u001b[0;34m()\u001b[0m\n\u001b[1;32m     14\u001b[0m \u001b[0;32mfrom\u001b[0m \u001b[0mpandas\u001b[0m \u001b[0;32mimport\u001b[0m \u001b[0moption_context\u001b[0m\u001b[0;34m\u001b[0m\u001b[0;34m\u001b[0m\u001b[0m\n\u001b[1;32m     15\u001b[0m \u001b[0;34m\u001b[0m\u001b[0m\n\u001b[0;32m---> 16\u001b[0;31m \u001b[0;32mfrom\u001b[0m \u001b[0mpandas\u001b[0m\u001b[0;34m.\u001b[0m\u001b[0mio\u001b[0m\u001b[0;34m.\u001b[0m\u001b[0mcommon\u001b[0m \u001b[0;32mimport\u001b[0m \u001b[0mis_url\u001b[0m\u001b[0;34m\u001b[0m\u001b[0;34m\u001b[0m\u001b[0m\n\u001b[0m\u001b[1;32m     17\u001b[0m from pandas.io.formats.format import (\n\u001b[1;32m     18\u001b[0m     \u001b[0mDataFrameFormatter\u001b[0m\u001b[0;34m,\u001b[0m\u001b[0;34m\u001b[0m\u001b[0;34m\u001b[0m\u001b[0m\n",
            "\u001b[0;31mImportError\u001b[0m: cannot import name 'is_url'"
          ]
        },
        {
          "output_type": "execute_result",
          "data": {
            "text/plain": [
              "                   A         B         C         D\n",
              "2020-02-15 -0.117277  1.688928 -1.247632 -1.188110\n",
              "2020-02-12  1.441862  0.900816  0.398885  1.911076\n",
              "2020-02-17 -0.012237  0.505475 -0.406560 -1.868367\n",
              "2020-02-14  0.844449  0.097305 -1.976333 -0.535782\n",
              "2020-02-13  0.056090 -0.155949  0.175837 -0.054974\n",
              "2020-02-11  0.706231 -0.731508 -0.555263 -0.253696\n",
              "2020-02-16  0.752227 -0.924083 -1.155034  0.939568"
            ]
          },
          "metadata": {
            "tags": []
          },
          "execution_count": 37
        }
      ]
    },
    {
      "cell_type": "code",
      "metadata": {
        "id": "mBRTi8R_y3pJ",
        "colab_type": "code",
        "colab": {
          "base_uri": "https://localhost:8080/",
          "height": 287
        },
        "outputId": "e0142af9-4461-4307-aa96-b2cf8ed26d87"
      },
      "source": [
        "# 인덱싱 -> 데이터프레임이 시리즈로 차원축소가 된다는 의미 \n",
        "# 시리즈의 인덱싱 => 차원축소가 되서, 스칼라(값)이 된다는 의미 \n",
        "# 컬럼만 가능하다 \n",
        "# 컬럼은 데이터프레임의 멤버변수가 자동으로 성립된다 \n",
        "\n",
        "df[ 'A' ], df.A"
      ],
      "execution_count": 39,
      "outputs": [
        {
          "output_type": "execute_result",
          "data": {
            "text/plain": [
              "(2020-02-11    0.706231\n",
              " 2020-02-12    1.441862\n",
              " 2020-02-13    0.056090\n",
              " 2020-02-14    0.844449\n",
              " 2020-02-15   -0.117277\n",
              " 2020-02-16    0.752227\n",
              " 2020-02-17   -0.012237\n",
              " Freq: D, Name: A, dtype: float64, 2020-02-11    0.706231\n",
              " 2020-02-12    1.441862\n",
              " 2020-02-13    0.056090\n",
              " 2020-02-14    0.844449\n",
              " 2020-02-15   -0.117277\n",
              " 2020-02-16    0.752227\n",
              " 2020-02-17   -0.012237\n",
              " Freq: D, Name: A, dtype: float64)"
            ]
          },
          "metadata": {
            "tags": []
          },
          "execution_count": 39
        }
      ]
    },
    {
      "cell_type": "code",
      "metadata": {
        "id": "h34-xAtHy3rg",
        "colab_type": "code",
        "colab": {}
      },
      "source": [
        ""
      ],
      "execution_count": 0,
      "outputs": []
    },
    {
      "cell_type": "code",
      "metadata": {
        "id": "IrVL4vxyy3uY",
        "colab_type": "code",
        "colab": {}
      },
      "source": [
        ""
      ],
      "execution_count": 0,
      "outputs": []
    }
  ]
}