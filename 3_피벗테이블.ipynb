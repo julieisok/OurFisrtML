{
  "nbformat": 4,
  "nbformat_minor": 0,
  "metadata": {
    "colab": {
      "name": "3.피벗테이블.ipynb",
      "provenance": [],
      "collapsed_sections": [],
      "toc_visible": true,
      "authorship_tag": "ABX9TyNtn7BIvpVZtEI91dRBNs5S",
      "include_colab_link": true
    },
    "kernelspec": {
      "name": "python3",
      "display_name": "Python 3"
    }
  },
  "cells": [
    {
      "cell_type": "markdown",
      "metadata": {
        "id": "view-in-github",
        "colab_type": "text"
      },
      "source": [
        "<a href=\"https://colab.research.google.com/github/julieisok/OurFisrtML/blob/master/3_%ED%94%BC%EB%B2%97%ED%85%8C%EC%9D%B4%EB%B8%94.ipynb\" target=\"_parent\"><img src=\"https://colab.research.google.com/assets/colab-badge.svg\" alt=\"Open In Colab\"/></a>"
      ]
    },
    {
      "cell_type": "markdown",
      "metadata": {
        "id": "rHmcTEQEXonc",
        "colab_type": "text"
      },
      "source": [
        "# 숨겨진 정보를 추출\n",
        "\n",
        "- 데이터를 들여다 볼때, 특정 컬럼에서 반복적인 데이터들이 나타난다. 그런데 이런 증상이 여러 컬럼에 걸쳐서 보인다. \n",
        "- 통찰\n",
        "  - 데이터의 빈도를 기준으로 표현 (차후) \n",
        "  - 반복 데이터를 기준으로 데이터를 재정립 (인덱스, 컬럼, 값 등을 재구성) \n",
        "     - 피벗 테이블 \n"
      ]
    },
    {
      "cell_type": "markdown",
      "metadata": {
        "id": "FInQGVrfXpnc",
        "colab_type": "text"
      },
      "source": [
        ""
      ]
    },
    {
      "cell_type": "code",
      "metadata": {
        "id": "tzpt4ZP6XpxM",
        "colab_type": "code",
        "colab": {}
      },
      "source": [
        "import numpy as np\n",
        "import pandas as pd"
      ],
      "execution_count": 0,
      "outputs": []
    },
    {
      "cell_type": "code",
      "metadata": {
        "id": "YcQJc1ojXp6b",
        "colab_type": "code",
        "colab": {
          "base_uri": "https://localhost:8080/",
          "height": 359
        },
        "outputId": "0167bd29-d354-49d5-f2a3-cf062f4201fd"
      },
      "source": [
        "# 데이터 로드\n",
        "df = pd.read_excel('/content/sales.xlsx')\n",
        "df.head(10)"
      ],
      "execution_count": 2,
      "outputs": [
        {
          "output_type": "execute_result",
          "data": {
            "text/html": [
              "<div>\n",
              "<style scoped>\n",
              "    .dataframe tbody tr th:only-of-type {\n",
              "        vertical-align: middle;\n",
              "    }\n",
              "\n",
              "    .dataframe tbody tr th {\n",
              "        vertical-align: top;\n",
              "    }\n",
              "\n",
              "    .dataframe thead th {\n",
              "        text-align: right;\n",
              "    }\n",
              "</style>\n",
              "<table border=\"1\" class=\"dataframe\">\n",
              "  <thead>\n",
              "    <tr style=\"text-align: right;\">\n",
              "      <th></th>\n",
              "      <th>Account</th>\n",
              "      <th>Name</th>\n",
              "      <th>Rep</th>\n",
              "      <th>Manager</th>\n",
              "      <th>Product</th>\n",
              "      <th>Quantity</th>\n",
              "      <th>Price</th>\n",
              "      <th>Status</th>\n",
              "    </tr>\n",
              "  </thead>\n",
              "  <tbody>\n",
              "    <tr>\n",
              "      <th>0</th>\n",
              "      <td>714466</td>\n",
              "      <td>Trantow-Barrows</td>\n",
              "      <td>Craig Booker</td>\n",
              "      <td>Debra Henley</td>\n",
              "      <td>CPU</td>\n",
              "      <td>1</td>\n",
              "      <td>30000</td>\n",
              "      <td>presented</td>\n",
              "    </tr>\n",
              "    <tr>\n",
              "      <th>1</th>\n",
              "      <td>714466</td>\n",
              "      <td>Trantow-Barrows</td>\n",
              "      <td>Craig Booker</td>\n",
              "      <td>Debra Henley</td>\n",
              "      <td>Software</td>\n",
              "      <td>1</td>\n",
              "      <td>10000</td>\n",
              "      <td>presented</td>\n",
              "    </tr>\n",
              "    <tr>\n",
              "      <th>2</th>\n",
              "      <td>714466</td>\n",
              "      <td>Trantow-Barrows</td>\n",
              "      <td>Craig Booker</td>\n",
              "      <td>Debra Henley</td>\n",
              "      <td>Maintenance</td>\n",
              "      <td>2</td>\n",
              "      <td>5000</td>\n",
              "      <td>pending</td>\n",
              "    </tr>\n",
              "    <tr>\n",
              "      <th>3</th>\n",
              "      <td>737550</td>\n",
              "      <td>Fritsch, Russel and Anderson</td>\n",
              "      <td>Craig Booker</td>\n",
              "      <td>Debra Henley</td>\n",
              "      <td>CPU</td>\n",
              "      <td>1</td>\n",
              "      <td>35000</td>\n",
              "      <td>declined</td>\n",
              "    </tr>\n",
              "    <tr>\n",
              "      <th>4</th>\n",
              "      <td>146832</td>\n",
              "      <td>Kiehn-Spinka</td>\n",
              "      <td>Daniel Hilton</td>\n",
              "      <td>Debra Henley</td>\n",
              "      <td>CPU</td>\n",
              "      <td>2</td>\n",
              "      <td>65000</td>\n",
              "      <td>won</td>\n",
              "    </tr>\n",
              "    <tr>\n",
              "      <th>5</th>\n",
              "      <td>218895</td>\n",
              "      <td>Kulas Inc</td>\n",
              "      <td>Daniel Hilton</td>\n",
              "      <td>Debra Henley</td>\n",
              "      <td>CPU</td>\n",
              "      <td>2</td>\n",
              "      <td>40000</td>\n",
              "      <td>pending</td>\n",
              "    </tr>\n",
              "    <tr>\n",
              "      <th>6</th>\n",
              "      <td>218895</td>\n",
              "      <td>Kulas Inc</td>\n",
              "      <td>Daniel Hilton</td>\n",
              "      <td>Debra Henley</td>\n",
              "      <td>Software</td>\n",
              "      <td>1</td>\n",
              "      <td>10000</td>\n",
              "      <td>presented</td>\n",
              "    </tr>\n",
              "    <tr>\n",
              "      <th>7</th>\n",
              "      <td>412290</td>\n",
              "      <td>Jerde-Hilpert</td>\n",
              "      <td>John Smith</td>\n",
              "      <td>Debra Henley</td>\n",
              "      <td>Maintenance</td>\n",
              "      <td>2</td>\n",
              "      <td>5000</td>\n",
              "      <td>pending</td>\n",
              "    </tr>\n",
              "    <tr>\n",
              "      <th>8</th>\n",
              "      <td>740150</td>\n",
              "      <td>Barton LLC</td>\n",
              "      <td>John Smith</td>\n",
              "      <td>Debra Henley</td>\n",
              "      <td>CPU</td>\n",
              "      <td>1</td>\n",
              "      <td>35000</td>\n",
              "      <td>declined</td>\n",
              "    </tr>\n",
              "    <tr>\n",
              "      <th>9</th>\n",
              "      <td>141962</td>\n",
              "      <td>Herman LLC</td>\n",
              "      <td>Cedric Moss</td>\n",
              "      <td>Fred Anderson</td>\n",
              "      <td>CPU</td>\n",
              "      <td>2</td>\n",
              "      <td>65000</td>\n",
              "      <td>won</td>\n",
              "    </tr>\n",
              "  </tbody>\n",
              "</table>\n",
              "</div>"
            ],
            "text/plain": [
              "   Account                          Name  ...  Price     Status\n",
              "0   714466               Trantow-Barrows  ...  30000  presented\n",
              "1   714466               Trantow-Barrows  ...  10000  presented\n",
              "2   714466               Trantow-Barrows  ...   5000    pending\n",
              "3   737550  Fritsch, Russel and Anderson  ...  35000   declined\n",
              "4   146832                  Kiehn-Spinka  ...  65000        won\n",
              "5   218895                     Kulas Inc  ...  40000    pending\n",
              "6   218895                     Kulas Inc  ...  10000  presented\n",
              "7   412290                 Jerde-Hilpert  ...   5000    pending\n",
              "8   740150                    Barton LLC  ...  35000   declined\n",
              "9   141962                    Herman LLC  ...  65000        won\n",
              "\n",
              "[10 rows x 8 columns]"
            ]
          },
          "metadata": {
            "tags": []
          },
          "execution_count": 2
        }
      ]
    },
    {
      "cell_type": "code",
      "metadata": {
        "id": "anSmOqgPXp9k",
        "colab_type": "code",
        "colab": {
          "base_uri": "https://localhost:8080/",
          "height": 341
        },
        "outputId": "a544d5e0-8d59-4c70-994f-c26f31d7c662"
      },
      "source": [
        "# 특정 컬럼에서 사용되는 데이터가 어떤것들이 있는가?\n",
        "# Manager 데이터만 출력하시오 \n",
        "df.columns\n",
        "#df.Manager\n",
        "#df['Manager']\n",
        "#df.loc[ : , ['Manager']]\n",
        "df.iloc[:, 3]"
      ],
      "execution_count": 3,
      "outputs": [
        {
          "output_type": "execute_result",
          "data": {
            "text/plain": [
              "0      Debra Henley\n",
              "1      Debra Henley\n",
              "2      Debra Henley\n",
              "3      Debra Henley\n",
              "4      Debra Henley\n",
              "5      Debra Henley\n",
              "6      Debra Henley\n",
              "7      Debra Henley\n",
              "8      Debra Henley\n",
              "9     Fred Anderson\n",
              "10    Fred Anderson\n",
              "11    Fred Anderson\n",
              "12    Fred Anderson\n",
              "13    Fred Anderson\n",
              "14    Fred Anderson\n",
              "15    Fred Anderson\n",
              "16    Fred Anderson\n",
              "Name: Manager, dtype: object"
            ]
          },
          "metadata": {
            "tags": []
          },
          "execution_count": 3
        }
      ]
    },
    {
      "cell_type": "code",
      "metadata": {
        "id": "fGo7ULbNZvXC",
        "colab_type": "code",
        "colab": {
          "base_uri": "https://localhost:8080/",
          "height": 35
        },
        "outputId": "d51c08df-8e47-4f28-a711-beada6cb4795"
      },
      "source": [
        "# 중복을 제거하고 매니저 이름만 출력\n",
        "df[ 'Manager' ].unique()"
      ],
      "execution_count": 4,
      "outputs": [
        {
          "output_type": "execute_result",
          "data": {
            "text/plain": [
              "array(['Debra Henley', 'Fred Anderson'], dtype=object)"
            ]
          },
          "metadata": {
            "tags": []
          },
          "execution_count": 4
        }
      ]
    },
    {
      "cell_type": "code",
      "metadata": {
        "id": "nsjXS2nuZvZ-",
        "colab_type": "code",
        "colab": {
          "base_uri": "https://localhost:8080/",
          "height": 53
        },
        "outputId": "99e0b5ce-e0d9-4093-f563-55e6aa678af4"
      },
      "source": [
        "df[ 'Rep' ].unique(), len(df[ 'Rep' ].unique())"
      ],
      "execution_count": 5,
      "outputs": [
        {
          "output_type": "execute_result",
          "data": {
            "text/plain": [
              "(array(['Craig Booker', 'Daniel Hilton', 'John Smith', 'Cedric Moss',\n",
              "        'Wendy Yule'], dtype=object), 5)"
            ]
          },
          "metadata": {
            "tags": []
          },
          "execution_count": 5
        }
      ]
    },
    {
      "cell_type": "code",
      "metadata": {
        "id": "KIvbMEMRZvcp",
        "colab_type": "code",
        "colab": {
          "base_uri": "https://localhost:8080/",
          "height": 89
        },
        "outputId": "0510273f-6c12-48be-ee6c-71cb5e3f3257"
      },
      "source": [
        "df[ 'Name' ].unique(), len(df[ 'Name' ].unique())"
      ],
      "execution_count": 6,
      "outputs": [
        {
          "output_type": "execute_result",
          "data": {
            "text/plain": [
              "(array(['Trantow-Barrows', 'Fritsch, Russel and Anderson', 'Kiehn-Spinka',\n",
              "        'Kulas Inc', 'Jerde-Hilpert', 'Barton LLC', 'Herman LLC',\n",
              "        'Purdy-Kunde', 'Stokes LLC', 'Kassulke, Ondricka and Metz',\n",
              "        'Keeling LLC', 'Koepp Ltd'], dtype=object), 12)"
            ]
          },
          "metadata": {
            "tags": []
          },
          "execution_count": 6
        }
      ]
    },
    {
      "cell_type": "markdown",
      "metadata": {
        "id": "xCgqeKaScEp4",
        "colab_type": "text"
      },
      "source": [
        "- 이름으로 예상되는 3개의 컬럼을 살펴보니 조직관계라는 숨겨진 특성이 보인다\n",
        "- 3개의 컬럼은 중복적으로 데이터가 노출된다 "
      ]
    },
    {
      "cell_type": "code",
      "metadata": {
        "id": "U6ude1SLZvfx",
        "colab_type": "code",
        "colab": {
          "base_uri": "https://localhost:8080/",
          "height": 35
        },
        "outputId": "b1d07b48-a265-4369-cf21-6abb9be279ba"
      },
      "source": [
        "df[ 'Product' ].unique(), len(df[ 'Product' ].unique())"
      ],
      "execution_count": 7,
      "outputs": [
        {
          "output_type": "execute_result",
          "data": {
            "text/plain": [
              "(array(['CPU', 'Software', 'Maintenance', 'Monitor'], dtype=object), 4)"
            ]
          },
          "metadata": {
            "tags": []
          },
          "execution_count": 7
        }
      ]
    },
    {
      "cell_type": "code",
      "metadata": {
        "id": "iV1bDQARcwLb",
        "colab_type": "code",
        "colab": {
          "base_uri": "https://localhost:8080/",
          "height": 35
        },
        "outputId": "d138b0cb-b6f7-420e-c9df-4d0bbd30e42a"
      },
      "source": [
        "# 데이터의 크기\n",
        "df.shape"
      ],
      "execution_count": 8,
      "outputs": [
        {
          "output_type": "execute_result",
          "data": {
            "text/plain": [
              "(17, 8)"
            ]
          },
          "metadata": {
            "tags": []
          },
          "execution_count": 8
        }
      ]
    },
    {
      "cell_type": "code",
      "metadata": {
        "id": "dQm7wjeAcwOa",
        "colab_type": "code",
        "colab": {
          "base_uri": "https://localhost:8080/",
          "height": 35
        },
        "outputId": "0db0d919-5a66-4b93-fe2a-fdddc9048ad6"
      },
      "source": [
        "# 하나를 기준으로 그냥 돌려보겠다 \n",
        "# name 컬럼을 중심으로 피벗을 수행하겠다\n",
        "tmp = pd.pivot_table( df, index=['Name'] )\n",
        "tmp.shape\n",
        "# 기본적으로 수치만 데이터로 남고, 수치들은 산술 평균으로 처리되어 있다\n",
        "# API의 기본 처리함수(매개변수) aggfunc가 mean으로 설정되어 있다  "
      ],
      "execution_count": 9,
      "outputs": [
        {
          "output_type": "execute_result",
          "data": {
            "text/plain": [
              "(12, 3)"
            ]
          },
          "metadata": {
            "tags": []
          },
          "execution_count": 9
        }
      ]
    },
    {
      "cell_type": "code",
      "metadata": {
        "id": "Qm55cWl_cwRB",
        "colab_type": "code",
        "colab": {
          "base_uri": "https://localhost:8080/",
          "height": 142
        },
        "outputId": "bd40a607-9ffc-489f-9076-0312fb69a2fb"
      },
      "source": [
        "# 오직 수치만 pivot_table에 디폴트로 설정된 aggrFunc=mean에 의해 평균값으로 산출됨 \n",
        "tmp[:2]\n"
      ],
      "execution_count": 11,
      "outputs": [
        {
          "output_type": "execute_result",
          "data": {
            "text/html": [
              "<div>\n",
              "<style scoped>\n",
              "    .dataframe tbody tr th:only-of-type {\n",
              "        vertical-align: middle;\n",
              "    }\n",
              "\n",
              "    .dataframe tbody tr th {\n",
              "        vertical-align: top;\n",
              "    }\n",
              "\n",
              "    .dataframe thead th {\n",
              "        text-align: right;\n",
              "    }\n",
              "</style>\n",
              "<table border=\"1\" class=\"dataframe\">\n",
              "  <thead>\n",
              "    <tr style=\"text-align: right;\">\n",
              "      <th></th>\n",
              "      <th>Account</th>\n",
              "      <th>Price</th>\n",
              "      <th>Quantity</th>\n",
              "    </tr>\n",
              "    <tr>\n",
              "      <th>Name</th>\n",
              "      <th></th>\n",
              "      <th></th>\n",
              "      <th></th>\n",
              "    </tr>\n",
              "  </thead>\n",
              "  <tbody>\n",
              "    <tr>\n",
              "      <th>Barton LLC</th>\n",
              "      <td>740150</td>\n",
              "      <td>35000</td>\n",
              "      <td>1.0</td>\n",
              "    </tr>\n",
              "    <tr>\n",
              "      <th>Fritsch, Russel and Anderson</th>\n",
              "      <td>737550</td>\n",
              "      <td>35000</td>\n",
              "      <td>1.0</td>\n",
              "    </tr>\n",
              "  </tbody>\n",
              "</table>\n",
              "</div>"
            ],
            "text/plain": [
              "                              Account  Price  Quantity\n",
              "Name                                                  \n",
              "Barton LLC                     740150  35000       1.0\n",
              "Fritsch, Russel and Anderson   737550  35000       1.0"
            ]
          },
          "metadata": {
            "tags": []
          },
          "execution_count": 11
        }
      ]
    },
    {
      "cell_type": "code",
      "metadata": {
        "id": "h7rwWIwUcwUy",
        "colab_type": "code",
        "colab": {
          "base_uri": "https://localhost:8080/",
          "height": 452
        },
        "outputId": "a4b416e4-5beb-4948-d716-ba65666d5388"
      },
      "source": [
        "# 인덱스를 나열해 보았더니, 인덱스가 여러개 생겼다 \n",
        "tmp = pd.pivot_table( df, index=['Name', 'Rep', 'Manager'] )\n",
        "tmp"
      ],
      "execution_count": 12,
      "outputs": [
        {
          "output_type": "execute_result",
          "data": {
            "text/html": [
              "<div>\n",
              "<style scoped>\n",
              "    .dataframe tbody tr th:only-of-type {\n",
              "        vertical-align: middle;\n",
              "    }\n",
              "\n",
              "    .dataframe tbody tr th {\n",
              "        vertical-align: top;\n",
              "    }\n",
              "\n",
              "    .dataframe thead th {\n",
              "        text-align: right;\n",
              "    }\n",
              "</style>\n",
              "<table border=\"1\" class=\"dataframe\">\n",
              "  <thead>\n",
              "    <tr style=\"text-align: right;\">\n",
              "      <th></th>\n",
              "      <th></th>\n",
              "      <th></th>\n",
              "      <th>Account</th>\n",
              "      <th>Price</th>\n",
              "      <th>Quantity</th>\n",
              "    </tr>\n",
              "    <tr>\n",
              "      <th>Name</th>\n",
              "      <th>Rep</th>\n",
              "      <th>Manager</th>\n",
              "      <th></th>\n",
              "      <th></th>\n",
              "      <th></th>\n",
              "    </tr>\n",
              "  </thead>\n",
              "  <tbody>\n",
              "    <tr>\n",
              "      <th>Barton LLC</th>\n",
              "      <th>John Smith</th>\n",
              "      <th>Debra Henley</th>\n",
              "      <td>740150</td>\n",
              "      <td>35000</td>\n",
              "      <td>1.000000</td>\n",
              "    </tr>\n",
              "    <tr>\n",
              "      <th>Fritsch, Russel and Anderson</th>\n",
              "      <th>Craig Booker</th>\n",
              "      <th>Debra Henley</th>\n",
              "      <td>737550</td>\n",
              "      <td>35000</td>\n",
              "      <td>1.000000</td>\n",
              "    </tr>\n",
              "    <tr>\n",
              "      <th>Herman LLC</th>\n",
              "      <th>Cedric Moss</th>\n",
              "      <th>Fred Anderson</th>\n",
              "      <td>141962</td>\n",
              "      <td>65000</td>\n",
              "      <td>2.000000</td>\n",
              "    </tr>\n",
              "    <tr>\n",
              "      <th>Jerde-Hilpert</th>\n",
              "      <th>John Smith</th>\n",
              "      <th>Debra Henley</th>\n",
              "      <td>412290</td>\n",
              "      <td>5000</td>\n",
              "      <td>2.000000</td>\n",
              "    </tr>\n",
              "    <tr>\n",
              "      <th>Kassulke, Ondricka and Metz</th>\n",
              "      <th>Wendy Yule</th>\n",
              "      <th>Fred Anderson</th>\n",
              "      <td>307599</td>\n",
              "      <td>7000</td>\n",
              "      <td>3.000000</td>\n",
              "    </tr>\n",
              "    <tr>\n",
              "      <th>Keeling LLC</th>\n",
              "      <th>Wendy Yule</th>\n",
              "      <th>Fred Anderson</th>\n",
              "      <td>688981</td>\n",
              "      <td>100000</td>\n",
              "      <td>5.000000</td>\n",
              "    </tr>\n",
              "    <tr>\n",
              "      <th>Kiehn-Spinka</th>\n",
              "      <th>Daniel Hilton</th>\n",
              "      <th>Debra Henley</th>\n",
              "      <td>146832</td>\n",
              "      <td>65000</td>\n",
              "      <td>2.000000</td>\n",
              "    </tr>\n",
              "    <tr>\n",
              "      <th>Koepp Ltd</th>\n",
              "      <th>Wendy Yule</th>\n",
              "      <th>Fred Anderson</th>\n",
              "      <td>729833</td>\n",
              "      <td>35000</td>\n",
              "      <td>2.000000</td>\n",
              "    </tr>\n",
              "    <tr>\n",
              "      <th>Kulas Inc</th>\n",
              "      <th>Daniel Hilton</th>\n",
              "      <th>Debra Henley</th>\n",
              "      <td>218895</td>\n",
              "      <td>25000</td>\n",
              "      <td>1.500000</td>\n",
              "    </tr>\n",
              "    <tr>\n",
              "      <th>Purdy-Kunde</th>\n",
              "      <th>Cedric Moss</th>\n",
              "      <th>Fred Anderson</th>\n",
              "      <td>163416</td>\n",
              "      <td>30000</td>\n",
              "      <td>1.000000</td>\n",
              "    </tr>\n",
              "    <tr>\n",
              "      <th>Stokes LLC</th>\n",
              "      <th>Cedric Moss</th>\n",
              "      <th>Fred Anderson</th>\n",
              "      <td>239344</td>\n",
              "      <td>7500</td>\n",
              "      <td>1.000000</td>\n",
              "    </tr>\n",
              "    <tr>\n",
              "      <th>Trantow-Barrows</th>\n",
              "      <th>Craig Booker</th>\n",
              "      <th>Debra Henley</th>\n",
              "      <td>714466</td>\n",
              "      <td>15000</td>\n",
              "      <td>1.333333</td>\n",
              "    </tr>\n",
              "  </tbody>\n",
              "</table>\n",
              "</div>"
            ],
            "text/plain": [
              "                                                          Account  ...  Quantity\n",
              "Name                         Rep           Manager                 ...          \n",
              "Barton LLC                   John Smith    Debra Henley    740150  ...  1.000000\n",
              "Fritsch, Russel and Anderson Craig Booker  Debra Henley    737550  ...  1.000000\n",
              "Herman LLC                   Cedric Moss   Fred Anderson   141962  ...  2.000000\n",
              "Jerde-Hilpert                John Smith    Debra Henley    412290  ...  2.000000\n",
              "Kassulke, Ondricka and Metz  Wendy Yule    Fred Anderson   307599  ...  3.000000\n",
              "Keeling LLC                  Wendy Yule    Fred Anderson   688981  ...  5.000000\n",
              "Kiehn-Spinka                 Daniel Hilton Debra Henley    146832  ...  2.000000\n",
              "Koepp Ltd                    Wendy Yule    Fred Anderson   729833  ...  2.000000\n",
              "Kulas Inc                    Daniel Hilton Debra Henley    218895  ...  1.500000\n",
              "Purdy-Kunde                  Cedric Moss   Fred Anderson   163416  ...  1.000000\n",
              "Stokes LLC                   Cedric Moss   Fred Anderson   239344  ...  1.000000\n",
              "Trantow-Barrows              Craig Booker  Debra Henley    714466  ...  1.333333\n",
              "\n",
              "[12 rows x 3 columns]"
            ]
          },
          "metadata": {
            "tags": []
          },
          "execution_count": 12
        }
      ]
    },
    {
      "cell_type": "code",
      "metadata": {
        "id": "kHx0ymcycwXW",
        "colab_type": "code",
        "colab": {
          "base_uri": "https://localhost:8080/",
          "height": 287
        },
        "outputId": "4245f3ef-dd17-4bf7-9854-d8b5b574b249"
      },
      "source": [
        "# 레벨은(깊이는) 3개가 생겼다 -> 데이터가 반복적으로 등장한다 \n",
        "len(tmp.index), tmp.index, len(tmp.index.levels)"
      ],
      "execution_count": 16,
      "outputs": [
        {
          "output_type": "execute_result",
          "data": {
            "text/plain": [
              "(12,\n",
              " MultiIndex([(                  'Barton LLC',    'John Smith',  'Debra Henley'),\n",
              "             ('Fritsch, Russel and Anderson',  'Craig Booker',  'Debra Henley'),\n",
              "             (                  'Herman LLC',   'Cedric Moss', 'Fred Anderson'),\n",
              "             (               'Jerde-Hilpert',    'John Smith',  'Debra Henley'),\n",
              "             ( 'Kassulke, Ondricka and Metz',    'Wendy Yule', 'Fred Anderson'),\n",
              "             (                 'Keeling LLC',    'Wendy Yule', 'Fred Anderson'),\n",
              "             (                'Kiehn-Spinka', 'Daniel Hilton',  'Debra Henley'),\n",
              "             (                   'Koepp Ltd',    'Wendy Yule', 'Fred Anderson'),\n",
              "             (                   'Kulas Inc', 'Daniel Hilton',  'Debra Henley'),\n",
              "             (                 'Purdy-Kunde',   'Cedric Moss', 'Fred Anderson'),\n",
              "             (                  'Stokes LLC',   'Cedric Moss', 'Fred Anderson'),\n",
              "             (             'Trantow-Barrows',  'Craig Booker',  'Debra Henley')],\n",
              "            names=['Name', 'Rep', 'Manager']),\n",
              " 3)"
            ]
          },
          "metadata": {
            "tags": []
          },
          "execution_count": 16
        }
      ]
    },
    {
      "cell_type": "code",
      "metadata": {
        "id": "xRCrcA3C0j8D",
        "colab_type": "code",
        "colab": {
          "base_uri": "https://localhost:8080/",
          "height": 452
        },
        "outputId": "97f79aa0-8b53-4621-b8e1-5f8d474967aa"
      },
      "source": [
        "# 인덱스를 본래 의미(서열관계)에 맞춰서 재배치 \n",
        "# 인덱스를 정확하게 배치함으로써 조직도를 알수 있게 되었다 \n",
        "tmp = pd.pivot_table( df, index=['Manager','Rep',  'Name'] )\n",
        "tmp"
      ],
      "execution_count": 17,
      "outputs": [
        {
          "output_type": "execute_result",
          "data": {
            "text/html": [
              "<div>\n",
              "<style scoped>\n",
              "    .dataframe tbody tr th:only-of-type {\n",
              "        vertical-align: middle;\n",
              "    }\n",
              "\n",
              "    .dataframe tbody tr th {\n",
              "        vertical-align: top;\n",
              "    }\n",
              "\n",
              "    .dataframe thead th {\n",
              "        text-align: right;\n",
              "    }\n",
              "</style>\n",
              "<table border=\"1\" class=\"dataframe\">\n",
              "  <thead>\n",
              "    <tr style=\"text-align: right;\">\n",
              "      <th></th>\n",
              "      <th></th>\n",
              "      <th></th>\n",
              "      <th>Account</th>\n",
              "      <th>Price</th>\n",
              "      <th>Quantity</th>\n",
              "    </tr>\n",
              "    <tr>\n",
              "      <th>Manager</th>\n",
              "      <th>Rep</th>\n",
              "      <th>Name</th>\n",
              "      <th></th>\n",
              "      <th></th>\n",
              "      <th></th>\n",
              "    </tr>\n",
              "  </thead>\n",
              "  <tbody>\n",
              "    <tr>\n",
              "      <th rowspan=\"6\" valign=\"top\">Debra Henley</th>\n",
              "      <th rowspan=\"2\" valign=\"top\">Craig Booker</th>\n",
              "      <th>Fritsch, Russel and Anderson</th>\n",
              "      <td>737550</td>\n",
              "      <td>35000</td>\n",
              "      <td>1.000000</td>\n",
              "    </tr>\n",
              "    <tr>\n",
              "      <th>Trantow-Barrows</th>\n",
              "      <td>714466</td>\n",
              "      <td>15000</td>\n",
              "      <td>1.333333</td>\n",
              "    </tr>\n",
              "    <tr>\n",
              "      <th rowspan=\"2\" valign=\"top\">Daniel Hilton</th>\n",
              "      <th>Kiehn-Spinka</th>\n",
              "      <td>146832</td>\n",
              "      <td>65000</td>\n",
              "      <td>2.000000</td>\n",
              "    </tr>\n",
              "    <tr>\n",
              "      <th>Kulas Inc</th>\n",
              "      <td>218895</td>\n",
              "      <td>25000</td>\n",
              "      <td>1.500000</td>\n",
              "    </tr>\n",
              "    <tr>\n",
              "      <th rowspan=\"2\" valign=\"top\">John Smith</th>\n",
              "      <th>Barton LLC</th>\n",
              "      <td>740150</td>\n",
              "      <td>35000</td>\n",
              "      <td>1.000000</td>\n",
              "    </tr>\n",
              "    <tr>\n",
              "      <th>Jerde-Hilpert</th>\n",
              "      <td>412290</td>\n",
              "      <td>5000</td>\n",
              "      <td>2.000000</td>\n",
              "    </tr>\n",
              "    <tr>\n",
              "      <th rowspan=\"6\" valign=\"top\">Fred Anderson</th>\n",
              "      <th rowspan=\"3\" valign=\"top\">Cedric Moss</th>\n",
              "      <th>Herman LLC</th>\n",
              "      <td>141962</td>\n",
              "      <td>65000</td>\n",
              "      <td>2.000000</td>\n",
              "    </tr>\n",
              "    <tr>\n",
              "      <th>Purdy-Kunde</th>\n",
              "      <td>163416</td>\n",
              "      <td>30000</td>\n",
              "      <td>1.000000</td>\n",
              "    </tr>\n",
              "    <tr>\n",
              "      <th>Stokes LLC</th>\n",
              "      <td>239344</td>\n",
              "      <td>7500</td>\n",
              "      <td>1.000000</td>\n",
              "    </tr>\n",
              "    <tr>\n",
              "      <th rowspan=\"3\" valign=\"top\">Wendy Yule</th>\n",
              "      <th>Kassulke, Ondricka and Metz</th>\n",
              "      <td>307599</td>\n",
              "      <td>7000</td>\n",
              "      <td>3.000000</td>\n",
              "    </tr>\n",
              "    <tr>\n",
              "      <th>Keeling LLC</th>\n",
              "      <td>688981</td>\n",
              "      <td>100000</td>\n",
              "      <td>5.000000</td>\n",
              "    </tr>\n",
              "    <tr>\n",
              "      <th>Koepp Ltd</th>\n",
              "      <td>729833</td>\n",
              "      <td>35000</td>\n",
              "      <td>2.000000</td>\n",
              "    </tr>\n",
              "  </tbody>\n",
              "</table>\n",
              "</div>"
            ],
            "text/plain": [
              "                                                          Account  ...  Quantity\n",
              "Manager       Rep           Name                                   ...          \n",
              "Debra Henley  Craig Booker  Fritsch, Russel and Anderson   737550  ...  1.000000\n",
              "                            Trantow-Barrows                714466  ...  1.333333\n",
              "              Daniel Hilton Kiehn-Spinka                   146832  ...  2.000000\n",
              "                            Kulas Inc                      218895  ...  1.500000\n",
              "              John Smith    Barton LLC                     740150  ...  1.000000\n",
              "                            Jerde-Hilpert                  412290  ...  2.000000\n",
              "Fred Anderson Cedric Moss   Herman LLC                     141962  ...  2.000000\n",
              "                            Purdy-Kunde                    163416  ...  1.000000\n",
              "                            Stokes LLC                     239344  ...  1.000000\n",
              "              Wendy Yule    Kassulke, Ondricka and Metz    307599  ...  3.000000\n",
              "                            Keeling LLC                    688981  ...  5.000000\n",
              "                            Koepp Ltd                      729833  ...  2.000000\n",
              "\n",
              "[12 rows x 3 columns]"
            ]
          },
          "metadata": {
            "tags": []
          },
          "execution_count": 17
        }
      ]
    },
    {
      "cell_type": "code",
      "metadata": {
        "id": "u499FwHJ0j_t",
        "colab_type": "code",
        "colab": {
          "base_uri": "https://localhost:8080/",
          "height": 235
        },
        "outputId": "134c5c2a-6874-4148-a727-dfb89c875aed"
      },
      "source": [
        "# 값을 지정함으로써 컬럼이 자동으로 선택된다 \n",
        "tmp = pd.pivot_table( df, index=['Manager','Rep'], values=['Price'] )\n",
        "tmp"
      ],
      "execution_count": 20,
      "outputs": [
        {
          "output_type": "execute_result",
          "data": {
            "text/html": [
              "<div>\n",
              "<style scoped>\n",
              "    .dataframe tbody tr th:only-of-type {\n",
              "        vertical-align: middle;\n",
              "    }\n",
              "\n",
              "    .dataframe tbody tr th {\n",
              "        vertical-align: top;\n",
              "    }\n",
              "\n",
              "    .dataframe thead th {\n",
              "        text-align: right;\n",
              "    }\n",
              "</style>\n",
              "<table border=\"1\" class=\"dataframe\">\n",
              "  <thead>\n",
              "    <tr style=\"text-align: right;\">\n",
              "      <th></th>\n",
              "      <th></th>\n",
              "      <th>Price</th>\n",
              "    </tr>\n",
              "    <tr>\n",
              "      <th>Manager</th>\n",
              "      <th>Rep</th>\n",
              "      <th></th>\n",
              "    </tr>\n",
              "  </thead>\n",
              "  <tbody>\n",
              "    <tr>\n",
              "      <th rowspan=\"3\" valign=\"top\">Debra Henley</th>\n",
              "      <th>Craig Booker</th>\n",
              "      <td>20000.000000</td>\n",
              "    </tr>\n",
              "    <tr>\n",
              "      <th>Daniel Hilton</th>\n",
              "      <td>38333.333333</td>\n",
              "    </tr>\n",
              "    <tr>\n",
              "      <th>John Smith</th>\n",
              "      <td>20000.000000</td>\n",
              "    </tr>\n",
              "    <tr>\n",
              "      <th rowspan=\"2\" valign=\"top\">Fred Anderson</th>\n",
              "      <th>Cedric Moss</th>\n",
              "      <td>27500.000000</td>\n",
              "    </tr>\n",
              "    <tr>\n",
              "      <th>Wendy Yule</th>\n",
              "      <td>44250.000000</td>\n",
              "    </tr>\n",
              "  </tbody>\n",
              "</table>\n",
              "</div>"
            ],
            "text/plain": [
              "                                    Price\n",
              "Manager       Rep                        \n",
              "Debra Henley  Craig Booker   20000.000000\n",
              "              Daniel Hilton  38333.333333\n",
              "              John Smith     20000.000000\n",
              "Fred Anderson Cedric Moss    27500.000000\n",
              "              Wendy Yule     44250.000000"
            ]
          },
          "metadata": {
            "tags": []
          },
          "execution_count": 20
        }
      ]
    },
    {
      "cell_type": "code",
      "metadata": {
        "id": "HK2zLt8h1mKH",
        "colab_type": "code",
        "colab": {
          "base_uri": "https://localhost:8080/",
          "height": 235
        },
        "outputId": "01cdcd17-996c-4260-d70e-6533a6873c91"
      },
      "source": [
        "# 위의 테이블 상태에서 산술평균이 아닌, 판매 총액을 보고 싶다 \n",
        "tmp = pd.pivot_table( df, index=['Manager','Rep'], values=['Price'], aggfunc=np.sum )\n",
        "tmp"
      ],
      "execution_count": 22,
      "outputs": [
        {
          "output_type": "execute_result",
          "data": {
            "text/html": [
              "<div>\n",
              "<style scoped>\n",
              "    .dataframe tbody tr th:only-of-type {\n",
              "        vertical-align: middle;\n",
              "    }\n",
              "\n",
              "    .dataframe tbody tr th {\n",
              "        vertical-align: top;\n",
              "    }\n",
              "\n",
              "    .dataframe thead th {\n",
              "        text-align: right;\n",
              "    }\n",
              "</style>\n",
              "<table border=\"1\" class=\"dataframe\">\n",
              "  <thead>\n",
              "    <tr style=\"text-align: right;\">\n",
              "      <th></th>\n",
              "      <th></th>\n",
              "      <th>Price</th>\n",
              "    </tr>\n",
              "    <tr>\n",
              "      <th>Manager</th>\n",
              "      <th>Rep</th>\n",
              "      <th></th>\n",
              "    </tr>\n",
              "  </thead>\n",
              "  <tbody>\n",
              "    <tr>\n",
              "      <th rowspan=\"3\" valign=\"top\">Debra Henley</th>\n",
              "      <th>Craig Booker</th>\n",
              "      <td>80000</td>\n",
              "    </tr>\n",
              "    <tr>\n",
              "      <th>Daniel Hilton</th>\n",
              "      <td>115000</td>\n",
              "    </tr>\n",
              "    <tr>\n",
              "      <th>John Smith</th>\n",
              "      <td>40000</td>\n",
              "    </tr>\n",
              "    <tr>\n",
              "      <th rowspan=\"2\" valign=\"top\">Fred Anderson</th>\n",
              "      <th>Cedric Moss</th>\n",
              "      <td>110000</td>\n",
              "    </tr>\n",
              "    <tr>\n",
              "      <th>Wendy Yule</th>\n",
              "      <td>177000</td>\n",
              "    </tr>\n",
              "  </tbody>\n",
              "</table>\n",
              "</div>"
            ],
            "text/plain": [
              "                              Price\n",
              "Manager       Rep                  \n",
              "Debra Henley  Craig Booker    80000\n",
              "              Daniel Hilton  115000\n",
              "              John Smith      40000\n",
              "Fred Anderson Cedric Moss    110000\n",
              "              Wendy Yule     177000"
            ]
          },
          "metadata": {
            "tags": []
          },
          "execution_count": 22
        }
      ]
    },
    {
      "cell_type": "code",
      "metadata": {
        "id": "oAx9xNGx1mT7",
        "colab_type": "code",
        "colab": {
          "base_uri": "https://localhost:8080/",
          "height": 266
        },
        "outputId": "f6278c1a-6609-41de-81de-22876e57f8d3"
      },
      "source": [
        "tmp = pd.pivot_table( df, index=['Manager','Rep'], values=['Price', 'Quantity'], aggfunc= [np.sum, len, np.mean] )\n",
        "tmp\n",
        "\n",
        "# 판매 건수가 len으로 처리된 것임 \n",
        "# 판매 된 물품별 건수는 Quantity로 확인이 가능하다 "
      ],
      "execution_count": 24,
      "outputs": [
        {
          "output_type": "execute_result",
          "data": {
            "text/html": [
              "<div>\n",
              "<style scoped>\n",
              "    .dataframe tbody tr th:only-of-type {\n",
              "        vertical-align: middle;\n",
              "    }\n",
              "\n",
              "    .dataframe tbody tr th {\n",
              "        vertical-align: top;\n",
              "    }\n",
              "\n",
              "    .dataframe thead tr th {\n",
              "        text-align: left;\n",
              "    }\n",
              "\n",
              "    .dataframe thead tr:last-of-type th {\n",
              "        text-align: right;\n",
              "    }\n",
              "</style>\n",
              "<table border=\"1\" class=\"dataframe\">\n",
              "  <thead>\n",
              "    <tr>\n",
              "      <th></th>\n",
              "      <th></th>\n",
              "      <th colspan=\"2\" halign=\"left\">sum</th>\n",
              "      <th colspan=\"2\" halign=\"left\">len</th>\n",
              "      <th colspan=\"2\" halign=\"left\">mean</th>\n",
              "    </tr>\n",
              "    <tr>\n",
              "      <th></th>\n",
              "      <th></th>\n",
              "      <th>Price</th>\n",
              "      <th>Quantity</th>\n",
              "      <th>Price</th>\n",
              "      <th>Quantity</th>\n",
              "      <th>Price</th>\n",
              "      <th>Quantity</th>\n",
              "    </tr>\n",
              "    <tr>\n",
              "      <th>Manager</th>\n",
              "      <th>Rep</th>\n",
              "      <th></th>\n",
              "      <th></th>\n",
              "      <th></th>\n",
              "      <th></th>\n",
              "      <th></th>\n",
              "      <th></th>\n",
              "    </tr>\n",
              "  </thead>\n",
              "  <tbody>\n",
              "    <tr>\n",
              "      <th rowspan=\"3\" valign=\"top\">Debra Henley</th>\n",
              "      <th>Craig Booker</th>\n",
              "      <td>80000</td>\n",
              "      <td>5</td>\n",
              "      <td>4</td>\n",
              "      <td>4</td>\n",
              "      <td>20000.000000</td>\n",
              "      <td>1.250000</td>\n",
              "    </tr>\n",
              "    <tr>\n",
              "      <th>Daniel Hilton</th>\n",
              "      <td>115000</td>\n",
              "      <td>5</td>\n",
              "      <td>3</td>\n",
              "      <td>3</td>\n",
              "      <td>38333.333333</td>\n",
              "      <td>1.666667</td>\n",
              "    </tr>\n",
              "    <tr>\n",
              "      <th>John Smith</th>\n",
              "      <td>40000</td>\n",
              "      <td>3</td>\n",
              "      <td>2</td>\n",
              "      <td>2</td>\n",
              "      <td>20000.000000</td>\n",
              "      <td>1.500000</td>\n",
              "    </tr>\n",
              "    <tr>\n",
              "      <th rowspan=\"2\" valign=\"top\">Fred Anderson</th>\n",
              "      <th>Cedric Moss</th>\n",
              "      <td>110000</td>\n",
              "      <td>5</td>\n",
              "      <td>4</td>\n",
              "      <td>4</td>\n",
              "      <td>27500.000000</td>\n",
              "      <td>1.250000</td>\n",
              "    </tr>\n",
              "    <tr>\n",
              "      <th>Wendy Yule</th>\n",
              "      <td>177000</td>\n",
              "      <td>12</td>\n",
              "      <td>4</td>\n",
              "      <td>4</td>\n",
              "      <td>44250.000000</td>\n",
              "      <td>3.000000</td>\n",
              "    </tr>\n",
              "  </tbody>\n",
              "</table>\n",
              "</div>"
            ],
            "text/plain": [
              "                                sum           ...          mean          \n",
              "                              Price Quantity  ...         Price  Quantity\n",
              "Manager       Rep                             ...                        \n",
              "Debra Henley  Craig Booker    80000        5  ...  20000.000000  1.250000\n",
              "              Daniel Hilton  115000        5  ...  38333.333333  1.666667\n",
              "              John Smith      40000        3  ...  20000.000000  1.500000\n",
              "Fred Anderson Cedric Moss    110000        5  ...  27500.000000  1.250000\n",
              "              Wendy Yule     177000       12  ...  44250.000000  3.000000\n",
              "\n",
              "[5 rows x 6 columns]"
            ]
          },
          "metadata": {
            "tags": []
          },
          "execution_count": 24
        }
      ]
    },
    {
      "cell_type": "code",
      "metadata": {
        "id": "VwfPxcqL1mWQ",
        "colab_type": "code",
        "colab": {
          "base_uri": "https://localhost:8080/",
          "height": 143
        },
        "outputId": "f2580009-e2f9-4a2a-d10e-af7cd5afd552"
      },
      "source": [
        "# mean price의 값을 0-1사이로 정규화해서 새로운 컬럼 sell_rate를 추가하시오 \n",
        "# 최대값을 1로 두고 배치\n",
        "\n",
        "tmp.columns"
      ],
      "execution_count": 25,
      "outputs": [
        {
          "output_type": "execute_result",
          "data": {
            "text/plain": [
              "MultiIndex([( 'sum',    'Price'),\n",
              "            ( 'sum', 'Quantity'),\n",
              "            ( 'len',    'Price'),\n",
              "            ( 'len', 'Quantity'),\n",
              "            ('mean',    'Price'),\n",
              "            ('mean', 'Quantity')],\n",
              "           )"
            ]
          },
          "metadata": {
            "tags": []
          },
          "execution_count": 25
        }
      ]
    },
    {
      "cell_type": "code",
      "metadata": {
        "id": "GdBFzS4J1mgm",
        "colab_type": "code",
        "colab": {
          "base_uri": "https://localhost:8080/",
          "height": 143
        },
        "outputId": "3b3666e5-048e-4d6e-d576-73e9aa1967dc"
      },
      "source": [
        "tmp[ tmp.columns[-2] ]"
      ],
      "execution_count": 29,
      "outputs": [
        {
          "output_type": "execute_result",
          "data": {
            "text/plain": [
              "Manager        Rep          \n",
              "Debra Henley   Craig Booker     20000.000000\n",
              "               Daniel Hilton    38333.333333\n",
              "               John Smith       20000.000000\n",
              "Fred Anderson  Cedric Moss      27500.000000\n",
              "               Wendy Yule       44250.000000\n",
              "Name: (mean, Price), dtype: float64"
            ]
          },
          "metadata": {
            "tags": []
          },
          "execution_count": 29
        }
      ]
    },
    {
      "cell_type": "code",
      "metadata": {
        "id": "av1Cj7zg1mQd",
        "colab_type": "code",
        "colab": {
          "base_uri": "https://localhost:8080/",
          "height": 35
        },
        "outputId": "35af1dae-fea5-4e6d-b6cd-a444d8fe6c37"
      },
      "source": [
        "# 컬럼명을 재구성\n",
        "# zip 함수에 인자에 *(포인터)를 붙이면 -단, 데이터가 연속형일경우- \n",
        "# 각 포지션 별로 데이터를 모아서 멤버로 구성한다 \n",
        "\n",
        "fs, bs = list(zip(*tmp.columns))\n",
        "fs\n",
        "bs"
      ],
      "execution_count": 34,
      "outputs": [
        {
          "output_type": "execute_result",
          "data": {
            "text/plain": [
              "('Price', 'Quantity', 'Price', 'Quantity', 'Price', 'Quantity')"
            ]
          },
          "metadata": {
            "tags": []
          },
          "execution_count": 34
        }
      ]
    },
    {
      "cell_type": "code",
      "metadata": {
        "id": "3Rx1sh2h1mNf",
        "colab_type": "code",
        "colab": {
          "base_uri": "https://localhost:8080/",
          "height": 125
        },
        "outputId": "a449fc9b-953c-4b6f-d8e3-9c2484197928"
      },
      "source": [
        "# list(set(fs)) : 원재료를 중복 제거하는 것 => 단, 순서가 보장되지는 않는다 \n",
        "# 따라서 데이터가 소수이면 직접 타이핑 하는 것이 효율적임. 데이터에 따라 다른 로직으로 접근해야한다. \n",
        "[ '%s_%s' % (f, b) for f in list(set(fs)) for b in list(set(bs)) ]"
      ],
      "execution_count": 35,
      "outputs": [
        {
          "output_type": "execute_result",
          "data": {
            "text/plain": [
              "['len_Quantity',\n",
              " 'len_Price',\n",
              " 'mean_Quantity',\n",
              " 'mean_Price',\n",
              " 'sum_Quantity',\n",
              " 'sum_Price']"
            ]
          },
          "metadata": {
            "tags": []
          },
          "execution_count": 35
        }
      ]
    },
    {
      "cell_type": "code",
      "metadata": {
        "id": "ntxJRe6P6kRg",
        "colab_type": "code",
        "colab": {}
      },
      "source": [
        "# 컬럼명 재구성 : level2 => level1 대체 \n",
        "tmp.columns = [ 'sum_Price', 'sum_Quantity', 'len_Price', 'len_Quantity', 'mean_Price', 'mean_Quantity'] "
      ],
      "execution_count": 0,
      "outputs": []
    },
    {
      "cell_type": "code",
      "metadata": {
        "id": "KfH1PIYL6kUV",
        "colab_type": "code",
        "colab": {
          "base_uri": "https://localhost:8080/",
          "height": 143
        },
        "outputId": "cc6af7c1-4b40-44cd-8855-82346f8979ae"
      },
      "source": [
        "# 대상\n",
        "print( tmp['mean_Price'] )"
      ],
      "execution_count": 37,
      "outputs": [
        {
          "output_type": "stream",
          "text": [
            "Manager        Rep          \n",
            "Debra Henley   Craig Booker     20000.000000\n",
            "               Daniel Hilton    38333.333333\n",
            "               John Smith       20000.000000\n",
            "Fred Anderson  Cedric Moss      27500.000000\n",
            "               Wendy Yule       44250.000000\n",
            "Name: mean_Price, dtype: float64\n"
          ],
          "name": "stdout"
        }
      ]
    },
    {
      "cell_type": "code",
      "metadata": {
        "id": "dw8ShtGP6kWw",
        "colab_type": "code",
        "colab": {
          "base_uri": "https://localhost:8080/",
          "height": 35
        },
        "outputId": "7c1b2a00-6d4a-4335-8ff6-9616e3a3c02e"
      },
      "source": [
        "# mean price의 값을 0-1 사이로 정규화해서 새로운 컬럼 sell_rate를 추가하시오\n",
        "# 최대값 기준\n",
        "tmp[ 'mean_Price' ].max()"
      ],
      "execution_count": 38,
      "outputs": [
        {
          "output_type": "execute_result",
          "data": {
            "text/plain": [
              "44250.0"
            ]
          },
          "metadata": {
            "tags": []
          },
          "execution_count": 38
        }
      ]
    },
    {
      "cell_type": "code",
      "metadata": {
        "id": "KS-l26dJ6kZT",
        "colab_type": "code",
        "colab": {
          "base_uri": "https://localhost:8080/",
          "height": 143
        },
        "outputId": "21977b22-5df6-4e6f-c2d3-9b2d4f56e3d9"
      },
      "source": [
        "# 벡터 대 스칼라 연산\n",
        "a = tmp['mean_Price'] / tmp['mean_Price'].max()\n",
        "a"
      ],
      "execution_count": 40,
      "outputs": [
        {
          "output_type": "execute_result",
          "data": {
            "text/plain": [
              "Manager        Rep          \n",
              "Debra Henley   Craig Booker     0.451977\n",
              "               Daniel Hilton    0.866290\n",
              "               John Smith       0.451977\n",
              "Fred Anderson  Cedric Moss      0.621469\n",
              "               Wendy Yule       1.000000\n",
              "Name: mean_Price, dtype: float64"
            ]
          },
          "metadata": {
            "tags": []
          },
          "execution_count": 40
        }
      ]
    },
    {
      "cell_type": "code",
      "metadata": {
        "id": "AHM_ODMp-1sB",
        "colab_type": "code",
        "colab": {
          "base_uri": "https://localhost:8080/",
          "height": 142
        },
        "outputId": "6397c347-3960-408a-ad77-07558f8cba72"
      },
      "source": [
        "tmp['sell_rate'] = a\n",
        "tmp.head(2)"
      ],
      "execution_count": 42,
      "outputs": [
        {
          "output_type": "execute_result",
          "data": {
            "text/html": [
              "<div>\n",
              "<style scoped>\n",
              "    .dataframe tbody tr th:only-of-type {\n",
              "        vertical-align: middle;\n",
              "    }\n",
              "\n",
              "    .dataframe tbody tr th {\n",
              "        vertical-align: top;\n",
              "    }\n",
              "\n",
              "    .dataframe thead th {\n",
              "        text-align: right;\n",
              "    }\n",
              "</style>\n",
              "<table border=\"1\" class=\"dataframe\">\n",
              "  <thead>\n",
              "    <tr style=\"text-align: right;\">\n",
              "      <th></th>\n",
              "      <th></th>\n",
              "      <th>sum_Price</th>\n",
              "      <th>sum_Quantity</th>\n",
              "      <th>len_Price</th>\n",
              "      <th>len_Quantity</th>\n",
              "      <th>mean_Price</th>\n",
              "      <th>mean_Quantity</th>\n",
              "      <th>sell_rate</th>\n",
              "    </tr>\n",
              "    <tr>\n",
              "      <th>Manager</th>\n",
              "      <th>Rep</th>\n",
              "      <th></th>\n",
              "      <th></th>\n",
              "      <th></th>\n",
              "      <th></th>\n",
              "      <th></th>\n",
              "      <th></th>\n",
              "      <th></th>\n",
              "    </tr>\n",
              "  </thead>\n",
              "  <tbody>\n",
              "    <tr>\n",
              "      <th rowspan=\"2\" valign=\"top\">Debra Henley</th>\n",
              "      <th>Craig Booker</th>\n",
              "      <td>80000</td>\n",
              "      <td>5</td>\n",
              "      <td>4</td>\n",
              "      <td>4</td>\n",
              "      <td>20000.000000</td>\n",
              "      <td>1.250000</td>\n",
              "      <td>0.451977</td>\n",
              "    </tr>\n",
              "    <tr>\n",
              "      <th>Daniel Hilton</th>\n",
              "      <td>115000</td>\n",
              "      <td>5</td>\n",
              "      <td>3</td>\n",
              "      <td>3</td>\n",
              "      <td>38333.333333</td>\n",
              "      <td>1.666667</td>\n",
              "      <td>0.866290</td>\n",
              "    </tr>\n",
              "  </tbody>\n",
              "</table>\n",
              "</div>"
            ],
            "text/plain": [
              "                            sum_Price  sum_Quantity  ...  mean_Quantity  sell_rate\n",
              "Manager      Rep                                     ...                          \n",
              "Debra Henley Craig Booker       80000             5  ...       1.250000   0.451977\n",
              "             Daniel Hilton     115000             5  ...       1.666667   0.866290\n",
              "\n",
              "[2 rows x 7 columns]"
            ]
          },
          "metadata": {
            "tags": []
          },
          "execution_count": 42
        }
      ]
    },
    {
      "cell_type": "code",
      "metadata": {
        "id": "JzB11rfs-1u2",
        "colab_type": "code",
        "colab": {
          "base_uri": "https://localhost:8080/",
          "height": 297
        },
        "outputId": "228814f1-cb48-42fc-a6b4-1074642e1ad2"
      },
      "source": [
        "# 제품별로 판매 사항을 확인\n",
        "# 컬럼이 3 levels (aggfunc * columns.unique * values)\n",
        "tmp2 = pd.pivot_table( df, \n",
        "                       index = ['Manager', 'Rep'], \n",
        "                       values = ['Price'], \n",
        "                       columns = ['Product'], \n",
        "                       aggfunc = [np.sum])\n",
        "tmp2"
      ],
      "execution_count": 46,
      "outputs": [
        {
          "output_type": "execute_result",
          "data": {
            "text/html": [
              "<div>\n",
              "<style scoped>\n",
              "    .dataframe tbody tr th:only-of-type {\n",
              "        vertical-align: middle;\n",
              "    }\n",
              "\n",
              "    .dataframe tbody tr th {\n",
              "        vertical-align: top;\n",
              "    }\n",
              "\n",
              "    .dataframe thead tr th {\n",
              "        text-align: left;\n",
              "    }\n",
              "\n",
              "    .dataframe thead tr:last-of-type th {\n",
              "        text-align: right;\n",
              "    }\n",
              "</style>\n",
              "<table border=\"1\" class=\"dataframe\">\n",
              "  <thead>\n",
              "    <tr>\n",
              "      <th></th>\n",
              "      <th></th>\n",
              "      <th colspan=\"4\" halign=\"left\">sum</th>\n",
              "    </tr>\n",
              "    <tr>\n",
              "      <th></th>\n",
              "      <th></th>\n",
              "      <th colspan=\"4\" halign=\"left\">Price</th>\n",
              "    </tr>\n",
              "    <tr>\n",
              "      <th></th>\n",
              "      <th>Product</th>\n",
              "      <th>CPU</th>\n",
              "      <th>Maintenance</th>\n",
              "      <th>Monitor</th>\n",
              "      <th>Software</th>\n",
              "    </tr>\n",
              "    <tr>\n",
              "      <th>Manager</th>\n",
              "      <th>Rep</th>\n",
              "      <th></th>\n",
              "      <th></th>\n",
              "      <th></th>\n",
              "      <th></th>\n",
              "    </tr>\n",
              "  </thead>\n",
              "  <tbody>\n",
              "    <tr>\n",
              "      <th rowspan=\"3\" valign=\"top\">Debra Henley</th>\n",
              "      <th>Craig Booker</th>\n",
              "      <td>65000.0</td>\n",
              "      <td>5000.0</td>\n",
              "      <td>NaN</td>\n",
              "      <td>10000.0</td>\n",
              "    </tr>\n",
              "    <tr>\n",
              "      <th>Daniel Hilton</th>\n",
              "      <td>105000.0</td>\n",
              "      <td>NaN</td>\n",
              "      <td>NaN</td>\n",
              "      <td>10000.0</td>\n",
              "    </tr>\n",
              "    <tr>\n",
              "      <th>John Smith</th>\n",
              "      <td>35000.0</td>\n",
              "      <td>5000.0</td>\n",
              "      <td>NaN</td>\n",
              "      <td>NaN</td>\n",
              "    </tr>\n",
              "    <tr>\n",
              "      <th rowspan=\"2\" valign=\"top\">Fred Anderson</th>\n",
              "      <th>Cedric Moss</th>\n",
              "      <td>95000.0</td>\n",
              "      <td>5000.0</td>\n",
              "      <td>NaN</td>\n",
              "      <td>10000.0</td>\n",
              "    </tr>\n",
              "    <tr>\n",
              "      <th>Wendy Yule</th>\n",
              "      <td>165000.0</td>\n",
              "      <td>7000.0</td>\n",
              "      <td>5000.0</td>\n",
              "      <td>NaN</td>\n",
              "    </tr>\n",
              "  </tbody>\n",
              "</table>\n",
              "</div>"
            ],
            "text/plain": [
              "                                  sum                             \n",
              "                                Price                             \n",
              "Product                           CPU Maintenance Monitor Software\n",
              "Manager       Rep                                                 \n",
              "Debra Henley  Craig Booker    65000.0      5000.0     NaN  10000.0\n",
              "              Daniel Hilton  105000.0         NaN     NaN  10000.0\n",
              "              John Smith      35000.0      5000.0     NaN      NaN\n",
              "Fred Anderson Cedric Moss     95000.0      5000.0     NaN  10000.0\n",
              "              Wendy Yule     165000.0      7000.0  5000.0      NaN"
            ]
          },
          "metadata": {
            "tags": []
          },
          "execution_count": 46
        }
      ]
    },
    {
      "cell_type": "code",
      "metadata": {
        "id": "M0S8z7Gc-1x6",
        "colab_type": "code",
        "colab": {
          "base_uri": "https://localhost:8080/",
          "height": 297
        },
        "outputId": "09815477-dcf6-4d68-b420-52738f5e5dcd"
      },
      "source": [
        "# NaN 후처리\n",
        "tmp2 = pd.pivot_table( df, \n",
        "                       index = ['Manager', 'Rep'], \n",
        "                       values = ['Price'], \n",
        "                       columns = ['Product'], \n",
        "                       aggfunc = [np.sum]).fillna(0)\n",
        "tmp2"
      ],
      "execution_count": 47,
      "outputs": [
        {
          "output_type": "execute_result",
          "data": {
            "text/html": [
              "<div>\n",
              "<style scoped>\n",
              "    .dataframe tbody tr th:only-of-type {\n",
              "        vertical-align: middle;\n",
              "    }\n",
              "\n",
              "    .dataframe tbody tr th {\n",
              "        vertical-align: top;\n",
              "    }\n",
              "\n",
              "    .dataframe thead tr th {\n",
              "        text-align: left;\n",
              "    }\n",
              "\n",
              "    .dataframe thead tr:last-of-type th {\n",
              "        text-align: right;\n",
              "    }\n",
              "</style>\n",
              "<table border=\"1\" class=\"dataframe\">\n",
              "  <thead>\n",
              "    <tr>\n",
              "      <th></th>\n",
              "      <th></th>\n",
              "      <th colspan=\"4\" halign=\"left\">sum</th>\n",
              "    </tr>\n",
              "    <tr>\n",
              "      <th></th>\n",
              "      <th></th>\n",
              "      <th colspan=\"4\" halign=\"left\">Price</th>\n",
              "    </tr>\n",
              "    <tr>\n",
              "      <th></th>\n",
              "      <th>Product</th>\n",
              "      <th>CPU</th>\n",
              "      <th>Maintenance</th>\n",
              "      <th>Monitor</th>\n",
              "      <th>Software</th>\n",
              "    </tr>\n",
              "    <tr>\n",
              "      <th>Manager</th>\n",
              "      <th>Rep</th>\n",
              "      <th></th>\n",
              "      <th></th>\n",
              "      <th></th>\n",
              "      <th></th>\n",
              "    </tr>\n",
              "  </thead>\n",
              "  <tbody>\n",
              "    <tr>\n",
              "      <th rowspan=\"3\" valign=\"top\">Debra Henley</th>\n",
              "      <th>Craig Booker</th>\n",
              "      <td>65000.0</td>\n",
              "      <td>5000.0</td>\n",
              "      <td>0.0</td>\n",
              "      <td>10000.0</td>\n",
              "    </tr>\n",
              "    <tr>\n",
              "      <th>Daniel Hilton</th>\n",
              "      <td>105000.0</td>\n",
              "      <td>0.0</td>\n",
              "      <td>0.0</td>\n",
              "      <td>10000.0</td>\n",
              "    </tr>\n",
              "    <tr>\n",
              "      <th>John Smith</th>\n",
              "      <td>35000.0</td>\n",
              "      <td>5000.0</td>\n",
              "      <td>0.0</td>\n",
              "      <td>0.0</td>\n",
              "    </tr>\n",
              "    <tr>\n",
              "      <th rowspan=\"2\" valign=\"top\">Fred Anderson</th>\n",
              "      <th>Cedric Moss</th>\n",
              "      <td>95000.0</td>\n",
              "      <td>5000.0</td>\n",
              "      <td>0.0</td>\n",
              "      <td>10000.0</td>\n",
              "    </tr>\n",
              "    <tr>\n",
              "      <th>Wendy Yule</th>\n",
              "      <td>165000.0</td>\n",
              "      <td>7000.0</td>\n",
              "      <td>5000.0</td>\n",
              "      <td>0.0</td>\n",
              "    </tr>\n",
              "  </tbody>\n",
              "</table>\n",
              "</div>"
            ],
            "text/plain": [
              "                                  sum                             \n",
              "                                Price                             \n",
              "Product                           CPU Maintenance Monitor Software\n",
              "Manager       Rep                                                 \n",
              "Debra Henley  Craig Booker    65000.0      5000.0     0.0  10000.0\n",
              "              Daniel Hilton  105000.0         0.0     0.0  10000.0\n",
              "              John Smith      35000.0      5000.0     0.0      0.0\n",
              "Fred Anderson Cedric Moss     95000.0      5000.0     0.0  10000.0\n",
              "              Wendy Yule     165000.0      7000.0  5000.0      0.0"
            ]
          },
          "metadata": {
            "tags": []
          },
          "execution_count": 47
        }
      ]
    },
    {
      "cell_type": "code",
      "metadata": {
        "id": "c5wDcu4v-107",
        "colab_type": "code",
        "colab": {
          "base_uri": "https://localhost:8080/",
          "height": 297
        },
        "outputId": "63fd0aef-88d7-4a64-8d63-6112f14a90b1"
      },
      "source": [
        "# NaN 전처리 => aggfunc에 따라 달라지겠지만, 원재료의 타입을 따라간다 \n",
        "tmp2 = pd.pivot_table( df, \n",
        "                       index = ['Manager', 'Rep'], \n",
        "                       values = ['Price'], \n",
        "                       columns = ['Product'], \n",
        "                       aggfunc = [np.sum], \n",
        "                      fill_value = 0\n",
        "                      )\n",
        "tmp2"
      ],
      "execution_count": 48,
      "outputs": [
        {
          "output_type": "execute_result",
          "data": {
            "text/html": [
              "<div>\n",
              "<style scoped>\n",
              "    .dataframe tbody tr th:only-of-type {\n",
              "        vertical-align: middle;\n",
              "    }\n",
              "\n",
              "    .dataframe tbody tr th {\n",
              "        vertical-align: top;\n",
              "    }\n",
              "\n",
              "    .dataframe thead tr th {\n",
              "        text-align: left;\n",
              "    }\n",
              "\n",
              "    .dataframe thead tr:last-of-type th {\n",
              "        text-align: right;\n",
              "    }\n",
              "</style>\n",
              "<table border=\"1\" class=\"dataframe\">\n",
              "  <thead>\n",
              "    <tr>\n",
              "      <th></th>\n",
              "      <th></th>\n",
              "      <th colspan=\"4\" halign=\"left\">sum</th>\n",
              "    </tr>\n",
              "    <tr>\n",
              "      <th></th>\n",
              "      <th></th>\n",
              "      <th colspan=\"4\" halign=\"left\">Price</th>\n",
              "    </tr>\n",
              "    <tr>\n",
              "      <th></th>\n",
              "      <th>Product</th>\n",
              "      <th>CPU</th>\n",
              "      <th>Maintenance</th>\n",
              "      <th>Monitor</th>\n",
              "      <th>Software</th>\n",
              "    </tr>\n",
              "    <tr>\n",
              "      <th>Manager</th>\n",
              "      <th>Rep</th>\n",
              "      <th></th>\n",
              "      <th></th>\n",
              "      <th></th>\n",
              "      <th></th>\n",
              "    </tr>\n",
              "  </thead>\n",
              "  <tbody>\n",
              "    <tr>\n",
              "      <th rowspan=\"3\" valign=\"top\">Debra Henley</th>\n",
              "      <th>Craig Booker</th>\n",
              "      <td>65000</td>\n",
              "      <td>5000</td>\n",
              "      <td>0</td>\n",
              "      <td>10000</td>\n",
              "    </tr>\n",
              "    <tr>\n",
              "      <th>Daniel Hilton</th>\n",
              "      <td>105000</td>\n",
              "      <td>0</td>\n",
              "      <td>0</td>\n",
              "      <td>10000</td>\n",
              "    </tr>\n",
              "    <tr>\n",
              "      <th>John Smith</th>\n",
              "      <td>35000</td>\n",
              "      <td>5000</td>\n",
              "      <td>0</td>\n",
              "      <td>0</td>\n",
              "    </tr>\n",
              "    <tr>\n",
              "      <th rowspan=\"2\" valign=\"top\">Fred Anderson</th>\n",
              "      <th>Cedric Moss</th>\n",
              "      <td>95000</td>\n",
              "      <td>5000</td>\n",
              "      <td>0</td>\n",
              "      <td>10000</td>\n",
              "    </tr>\n",
              "    <tr>\n",
              "      <th>Wendy Yule</th>\n",
              "      <td>165000</td>\n",
              "      <td>7000</td>\n",
              "      <td>5000</td>\n",
              "      <td>0</td>\n",
              "    </tr>\n",
              "  </tbody>\n",
              "</table>\n",
              "</div>"
            ],
            "text/plain": [
              "                                sum                             \n",
              "                              Price                             \n",
              "Product                         CPU Maintenance Monitor Software\n",
              "Manager       Rep                                               \n",
              "Debra Henley  Craig Booker    65000        5000       0    10000\n",
              "              Daniel Hilton  105000           0       0    10000\n",
              "              John Smith      35000        5000       0        0\n",
              "Fred Anderson Cedric Moss     95000        5000       0    10000\n",
              "              Wendy Yule     165000        7000    5000        0"
            ]
          },
          "metadata": {
            "tags": []
          },
          "execution_count": 48
        }
      ]
    },
    {
      "cell_type": "code",
      "metadata": {
        "id": "7v7je8kg-158",
        "colab_type": "code",
        "colab": {
          "base_uri": "https://localhost:8080/",
          "height": 514
        },
        "outputId": "b1b2e7d8-2b1d-4577-e77d-ce6f3624a11b"
      },
      "source": [
        "# 데이터 관점을 총액과 수량, 물품을 같은 (관리부서별) 비중으로 본다면\n",
        "# 매출이 없는 부분은 아예 빠진다 => 인덱스로 위치하게 되면 \n",
        "tmp2 = pd.pivot_table( df, \n",
        "                       index = ['Manager', 'Rep', 'Product'], \n",
        "                       values = ['Price', 'Quantity'],\n",
        "                       aggfunc = [np.sum], \n",
        "                       fill_value = 0\n",
        "                      )\n",
        "tmp2"
      ],
      "execution_count": 51,
      "outputs": [
        {
          "output_type": "execute_result",
          "data": {
            "text/html": [
              "<div>\n",
              "<style scoped>\n",
              "    .dataframe tbody tr th:only-of-type {\n",
              "        vertical-align: middle;\n",
              "    }\n",
              "\n",
              "    .dataframe tbody tr th {\n",
              "        vertical-align: top;\n",
              "    }\n",
              "\n",
              "    .dataframe thead tr th {\n",
              "        text-align: left;\n",
              "    }\n",
              "\n",
              "    .dataframe thead tr:last-of-type th {\n",
              "        text-align: right;\n",
              "    }\n",
              "</style>\n",
              "<table border=\"1\" class=\"dataframe\">\n",
              "  <thead>\n",
              "    <tr>\n",
              "      <th></th>\n",
              "      <th></th>\n",
              "      <th></th>\n",
              "      <th colspan=\"2\" halign=\"left\">sum</th>\n",
              "    </tr>\n",
              "    <tr>\n",
              "      <th></th>\n",
              "      <th></th>\n",
              "      <th></th>\n",
              "      <th>Price</th>\n",
              "      <th>Quantity</th>\n",
              "    </tr>\n",
              "    <tr>\n",
              "      <th>Manager</th>\n",
              "      <th>Rep</th>\n",
              "      <th>Product</th>\n",
              "      <th></th>\n",
              "      <th></th>\n",
              "    </tr>\n",
              "  </thead>\n",
              "  <tbody>\n",
              "    <tr>\n",
              "      <th rowspan=\"7\" valign=\"top\">Debra Henley</th>\n",
              "      <th rowspan=\"3\" valign=\"top\">Craig Booker</th>\n",
              "      <th>CPU</th>\n",
              "      <td>65000</td>\n",
              "      <td>2</td>\n",
              "    </tr>\n",
              "    <tr>\n",
              "      <th>Maintenance</th>\n",
              "      <td>5000</td>\n",
              "      <td>2</td>\n",
              "    </tr>\n",
              "    <tr>\n",
              "      <th>Software</th>\n",
              "      <td>10000</td>\n",
              "      <td>1</td>\n",
              "    </tr>\n",
              "    <tr>\n",
              "      <th rowspan=\"2\" valign=\"top\">Daniel Hilton</th>\n",
              "      <th>CPU</th>\n",
              "      <td>105000</td>\n",
              "      <td>4</td>\n",
              "    </tr>\n",
              "    <tr>\n",
              "      <th>Software</th>\n",
              "      <td>10000</td>\n",
              "      <td>1</td>\n",
              "    </tr>\n",
              "    <tr>\n",
              "      <th rowspan=\"2\" valign=\"top\">John Smith</th>\n",
              "      <th>CPU</th>\n",
              "      <td>35000</td>\n",
              "      <td>1</td>\n",
              "    </tr>\n",
              "    <tr>\n",
              "      <th>Maintenance</th>\n",
              "      <td>5000</td>\n",
              "      <td>2</td>\n",
              "    </tr>\n",
              "    <tr>\n",
              "      <th rowspan=\"6\" valign=\"top\">Fred Anderson</th>\n",
              "      <th rowspan=\"3\" valign=\"top\">Cedric Moss</th>\n",
              "      <th>CPU</th>\n",
              "      <td>95000</td>\n",
              "      <td>3</td>\n",
              "    </tr>\n",
              "    <tr>\n",
              "      <th>Maintenance</th>\n",
              "      <td>5000</td>\n",
              "      <td>1</td>\n",
              "    </tr>\n",
              "    <tr>\n",
              "      <th>Software</th>\n",
              "      <td>10000</td>\n",
              "      <td>1</td>\n",
              "    </tr>\n",
              "    <tr>\n",
              "      <th rowspan=\"3\" valign=\"top\">Wendy Yule</th>\n",
              "      <th>CPU</th>\n",
              "      <td>165000</td>\n",
              "      <td>7</td>\n",
              "    </tr>\n",
              "    <tr>\n",
              "      <th>Maintenance</th>\n",
              "      <td>7000</td>\n",
              "      <td>3</td>\n",
              "    </tr>\n",
              "    <tr>\n",
              "      <th>Monitor</th>\n",
              "      <td>5000</td>\n",
              "      <td>2</td>\n",
              "    </tr>\n",
              "  </tbody>\n",
              "</table>\n",
              "</div>"
            ],
            "text/plain": [
              "                                            sum         \n",
              "                                          Price Quantity\n",
              "Manager       Rep           Product                     \n",
              "Debra Henley  Craig Booker  CPU           65000        2\n",
              "                            Maintenance    5000        2\n",
              "                            Software      10000        1\n",
              "              Daniel Hilton CPU          105000        4\n",
              "                            Software      10000        1\n",
              "              John Smith    CPU           35000        1\n",
              "                            Maintenance    5000        2\n",
              "Fred Anderson Cedric Moss   CPU           95000        3\n",
              "                            Maintenance    5000        1\n",
              "                            Software      10000        1\n",
              "              Wendy Yule    CPU          165000        7\n",
              "                            Maintenance    7000        3\n",
              "                            Monitor        5000        2"
            ]
          },
          "metadata": {
            "tags": []
          },
          "execution_count": 51
        }
      ]
    },
    {
      "cell_type": "code",
      "metadata": {
        "id": "O1uI7xPQBues",
        "colab_type": "code",
        "colab": {}
      },
      "source": [
        ""
      ],
      "execution_count": 0,
      "outputs": []
    },
    {
      "cell_type": "code",
      "metadata": {
        "id": "MaEiKdy2BukV",
        "colab_type": "code",
        "colab": {}
      },
      "source": [
        ""
      ],
      "execution_count": 0,
      "outputs": []
    }
  ]
}